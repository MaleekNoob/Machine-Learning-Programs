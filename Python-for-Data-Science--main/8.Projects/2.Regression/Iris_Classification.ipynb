{
 "cells": [
  {
   "cell_type": "markdown",
   "metadata": {
    "colab_type": "text",
    "id": "tMJtOdlg8qxE"
   },
   "source": [
    "# Iris Classification\n",
    "\n",
    "In this example, we will develop a couple of machine learning models to classify different species of Iris, specifically iris Setosa, Versicolor, Virginica. We will solve the problem one step at a time to understand the process of machine learning and the some of the math behind it. Don't worry if you are not great at math, it's not as complicated as you might think.\n",
    "\n",
    "The [iris data set](https://en.wikipedia.org/wiki/Iris_flower_data_set) is available as part of [Sci-kit learn](https://scikit-learn.org/stable/), so it's a nice place to start and demonstrates the basic idea.\n",
    "\n",
    "![Iris Versicolor](images/iris_versicolor.png \"Iris Versicolor\")\n",
    "\n",
    "The data set contains 50 samples from each of three species of Iris. Four features were measured from each sample: the length and the width of the sepals and petals, in centimeters. These four features can be used to train a machine learning model to classify or predict the species of a particular Iris."
   ]
  },
  {
   "cell_type": "code",
   "execution_count": 0,
   "metadata": {
    "colab": {},
    "colab_type": "code",
    "id": "iFSzmzVs8qxF"
   },
   "outputs": [],
   "source": [
    "from sklearn import datasets\n",
    "import matplotlib.pyplot as plt\n",
    "import math"
   ]
  },
  {
   "cell_type": "markdown",
   "metadata": {
    "colab_type": "text",
    "id": "R_ym5ascgYR9"
   },
   "source": [
    "## Load Data"
   ]
  },
  {
   "cell_type": "code",
   "execution_count": 0,
   "metadata": {
    "colab": {},
    "colab_type": "code",
    "id": "P6y8QRu88qxI"
   },
   "outputs": [],
   "source": [
    "iris = datasets.load_iris()"
   ]
  },
  {
   "cell_type": "code",
   "execution_count": 3,
   "metadata": {
    "colab": {
     "base_uri": "https://localhost:8080/",
     "height": 1000
    },
    "colab_type": "code",
    "id": "Rr_zxf6x8qxJ",
    "outputId": "ac2b4239-f2f7-45e6-ac6d-c0e38aa3012d"
   },
   "outputs": [
    {
     "name": "stdout",
     "output_type": "stream",
     "text": [
      ".. _iris_dataset:\n",
      "\n",
      "Iris plants dataset\n",
      "--------------------\n",
      "\n",
      "**Data Set Characteristics:**\n",
      "\n",
      "    :Number of Instances: 150 (50 in each of three classes)\n",
      "    :Number of Attributes: 4 numeric, predictive attributes and the class\n",
      "    :Attribute Information:\n",
      "        - sepal length in cm\n",
      "        - sepal width in cm\n",
      "        - petal length in cm\n",
      "        - petal width in cm\n",
      "        - class:\n",
      "                - Iris-Setosa\n",
      "                - Iris-Versicolour\n",
      "                - Iris-Virginica\n",
      "                \n",
      "    :Summary Statistics:\n",
      "\n",
      "    ============== ==== ==== ======= ===== ====================\n",
      "                    Min  Max   Mean    SD   Class Correlation\n",
      "    ============== ==== ==== ======= ===== ====================\n",
      "    sepal length:   4.3  7.9   5.84   0.83    0.7826\n",
      "    sepal width:    2.0  4.4   3.05   0.43   -0.4194\n",
      "    petal length:   1.0  6.9   3.76   1.76    0.9490  (high!)\n",
      "    petal width:    0.1  2.5   1.20   0.76    0.9565  (high!)\n",
      "    ============== ==== ==== ======= ===== ====================\n",
      "\n",
      "    :Missing Attribute Values: None\n",
      "    :Class Distribution: 33.3% for each of 3 classes.\n",
      "    :Creator: R.A. Fisher\n",
      "    :Donor: Michael Marshall (MARSHALL%PLU@io.arc.nasa.gov)\n",
      "    :Date: July, 1988\n",
      "\n",
      "The famous Iris database, first used by Sir R.A. Fisher. The dataset is taken\n",
      "from Fisher's paper. Note that it's the same as in R, but not as in the UCI\n",
      "Machine Learning Repository, which has two wrong data points.\n",
      "\n",
      "This is perhaps the best known database to be found in the\n",
      "pattern recognition literature.  Fisher's paper is a classic in the field and\n",
      "is referenced frequently to this day.  (See Duda & Hart, for example.)  The\n",
      "data set contains 3 classes of 50 instances each, where each class refers to a\n",
      "type of iris plant.  One class is linearly separable from the other 2; the\n",
      "latter are NOT linearly separable from each other.\n",
      "\n",
      ".. topic:: References\n",
      "\n",
      "   - Fisher, R.A. \"The use of multiple measurements in taxonomic problems\"\n",
      "     Annual Eugenics, 7, Part II, 179-188 (1936); also in \"Contributions to\n",
      "     Mathematical Statistics\" (John Wiley, NY, 1950).\n",
      "   - Duda, R.O., & Hart, P.E. (1973) Pattern Classification and Scene Analysis.\n",
      "     (Q327.D83) John Wiley & Sons.  ISBN 0-471-22361-1.  See page 218.\n",
      "   - Dasarathy, B.V. (1980) \"Nosing Around the Neighborhood: A New System\n",
      "     Structure and Classification Rule for Recognition in Partially Exposed\n",
      "     Environments\".  IEEE Transactions on Pattern Analysis and Machine\n",
      "     Intelligence, Vol. PAMI-2, No. 1, 67-71.\n",
      "   - Gates, G.W. (1972) \"The Reduced Nearest Neighbor Rule\".  IEEE Transactions\n",
      "     on Information Theory, May 1972, 431-433.\n",
      "   - See also: 1988 MLC Proceedings, 54-64.  Cheeseman et al\"s AUTOCLASS II\n",
      "     conceptual clustering system finds 3 classes in the data.\n",
      "   - Many, many more ...\n"
     ]
    }
   ],
   "source": [
    "print(iris.DESCR)"
   ]
  },
  {
   "cell_type": "code",
   "execution_count": 4,
   "metadata": {
    "colab": {
     "base_uri": "https://localhost:8080/",
     "height": 35
    },
    "colab_type": "code",
    "id": "tOHFyZc88qxM",
    "outputId": "cc0a7bab-b986-4aee-91d3-3c3719f45691"
   },
   "outputs": [
    {
     "data": {
      "text/plain": [
       "array(['setosa', 'versicolor', 'virginica'], dtype='<U10')"
      ]
     },
     "execution_count": 4,
     "metadata": {
      "tags": []
     },
     "output_type": "execute_result"
    }
   ],
   "source": [
    "iris.target_names"
   ]
  },
  {
   "cell_type": "code",
   "execution_count": 5,
   "metadata": {
    "colab": {
     "base_uri": "https://localhost:8080/",
     "height": 35
    },
    "colab_type": "code",
    "id": "-qfS1nEd8qxO",
    "outputId": "d829f921-2380-4020-c159-aa9543763152"
   },
   "outputs": [
    {
     "data": {
      "text/plain": [
       "150"
      ]
     },
     "execution_count": 5,
     "metadata": {
      "tags": []
     },
     "output_type": "execute_result"
    }
   ],
   "source": [
    "len(iris.data)"
   ]
  },
  {
   "cell_type": "code",
   "execution_count": 6,
   "metadata": {
    "colab": {
     "base_uri": "https://localhost:8080/",
     "height": 105
    },
    "colab_type": "code",
    "id": "jZn0FLlfArFH",
    "outputId": "94fd4ae3-bd4a-4431-a599-a8161e351fe2"
   },
   "outputs": [
    {
     "data": {
      "text/plain": [
       "array([[5.1, 3.5, 1.4, 0.2],\n",
       "       [4.9, 3. , 1.4, 0.2],\n",
       "       [4.7, 3.2, 1.3, 0.2],\n",
       "       [4.6, 3.1, 1.5, 0.2],\n",
       "       [5. , 3.6, 1.4, 0.2]])"
      ]
     },
     "execution_count": 6,
     "metadata": {
      "tags": []
     },
     "output_type": "execute_result"
    }
   ],
   "source": [
    "iris.data[0:5]"
   ]
  },
  {
   "cell_type": "code",
   "execution_count": 7,
   "metadata": {
    "colab": {
     "base_uri": "https://localhost:8080/",
     "height": 140
    },
    "colab_type": "code",
    "id": "EYFImHIcBPca",
    "outputId": "ac6b0e91-2278-45eb-982c-9e9c66c0eb17"
   },
   "outputs": [
    {
     "data": {
      "text/plain": [
       "array([0, 0, 0, 0, 0, 0, 0, 0, 0, 0, 0, 0, 0, 0, 0, 0, 0, 0, 0, 0, 0, 0,\n",
       "       0, 0, 0, 0, 0, 0, 0, 0, 0, 0, 0, 0, 0, 0, 0, 0, 0, 0, 0, 0, 0, 0,\n",
       "       0, 0, 0, 0, 0, 0, 1, 1, 1, 1, 1, 1, 1, 1, 1, 1, 1, 1, 1, 1, 1, 1,\n",
       "       1, 1, 1, 1, 1, 1, 1, 1, 1, 1, 1, 1, 1, 1, 1, 1, 1, 1, 1, 1, 1, 1,\n",
       "       1, 1, 1, 1, 1, 1, 1, 1, 1, 1, 1, 1, 2, 2, 2, 2, 2, 2, 2, 2, 2, 2,\n",
       "       2, 2, 2, 2, 2, 2, 2, 2, 2, 2, 2, 2, 2, 2, 2, 2, 2, 2, 2, 2, 2, 2,\n",
       "       2, 2, 2, 2, 2, 2, 2, 2, 2, 2, 2, 2, 2, 2, 2, 2, 2, 2])"
      ]
     },
     "execution_count": 7,
     "metadata": {
      "tags": []
     },
     "output_type": "execute_result"
    }
   ],
   "source": [
    "iris.target"
   ]
  },
  {
   "cell_type": "markdown",
   "metadata": {
    "colab_type": "text",
    "id": "Y7GbVdO08qxQ"
   },
   "source": [
    "## Plot Sepal Width and Length"
   ]
  },
  {
   "cell_type": "code",
   "execution_count": 8,
   "metadata": {
    "colab": {
     "base_uri": "https://localhost:8080/",
     "height": 313
    },
    "colab_type": "code",
    "id": "mq0K04SH8qxQ",
    "outputId": "b6f0936f-d800-4d2a-d77c-dde589c5dfbb"
   },
   "outputs": [
    {
     "data": {
      "text/plain": [
       "Text(0.5, 1.0, 'Sepal size distribution')"
      ]
     },
     "execution_count": 8,
     "metadata": {
      "tags": []
     },
     "output_type": "execute_result"
    },
    {
     "data": {
      "image/png": "[encoded data removed]",
      "text/plain": [
       "<Figure size 432x288 with 1 Axes>"
      ]
     },
     "metadata": {
      "tags": []
     },
     "output_type": "display_data"
    }
   ],
   "source": [
    "# Select all rows and only first two columns (sepal length/width)\n",
    "X = iris.data[:, :2]\n",
    "\n",
    "# Target will be used to plot samples in different colors for different species\n",
    "Y = iris.target\n",
    "\n",
    "plt.scatter(X[:,0], X[:,1], c=Y)\n",
    "plt.xlabel('Sepal Length (cm)')\n",
    "plt.ylabel('Sepal Width (cm)')\n",
    "plt.title('Sepal size distribution')"
   ]
  },
  {
   "cell_type": "code",
   "execution_count": 9,
   "metadata": {
    "colab": {
     "base_uri": "https://localhost:8080/",
     "height": 313
    },
    "colab_type": "code",
    "id": "CBPVmV3YFVzI",
    "outputId": "4ccbcbb0-5203-4c6b-849d-2ba6cfd50189"
   },
   "outputs": [
    {
     "data": {
      "text/plain": [
       "Text(0.5, 1.0, 'Petal size distribution (cm)')"
      ]
     },
     "execution_count": 9,
     "metadata": {
      "tags": []
     },
     "output_type": "execute_result"
    },
    {
     "data": {
      "image/png": "[encoded data removed]",
      "text/plain": [
       "<Figure size 432x288 with 1 Axes>"
      ]
     },
     "metadata": {
      "tags": []
     },
     "output_type": "display_data"
    }
   ],
   "source": [
    "# Select all rows and only last two columns (sepal length/width)\n",
    "X = iris.data[:, 2:]\n",
    "\n",
    "# Target will be used to plot samples in different colors for different species\n",
    "Y = iris.target\n",
    "\n",
    "plt.scatter(X[:,0], X[:,1], c=Y)\n",
    "plt.xlabel('Petal Length')\n",
    "plt.ylabel('Petal Width')\n",
    "plt.title('Petal size distribution (cm)')"
   ]
  },
  {
   "cell_type": "markdown",
   "metadata": {
    "colab_type": "text",
    "id": "-ZBCYsK88qxS"
   },
   "source": [
    "## Logistic Regression Model\n",
    "\n",
    "We will create a basic model that predicts if a sample is one of the three species or not.\n",
    "\n",
    "The structure of the model appears below:\n",
    "\n",
    "![Linear Regression](images/perceptron75.png \"Perceptron\")\n",
    "\n",
    "In 1958, an image recognition machine was developed with 400 [perceptrons](https://en.wikipedia.org/wiki/Perceptron) at the Cornell Aeronautical Lab. It showed some inital promise, but turned out to have limited capability. It paved the way for more sophisticated [multi-layer perceptrons](https://en.wikipedia.org/wiki/Multilayer_perceptron) which are more powerful and widely used in deep learning models today. "
   ]
  },
  {
   "cell_type": "markdown",
   "metadata": {
    "colab_type": "text",
    "id": "5pkp1H48t-jZ"
   },
   "source": [
    "## Sigmoid Function\n",
    "\n",
    "The [Sigmoid function](https://en.wikipedia.org/wiki/Sigmoid_function) is commonly used in logistic regression and artificial neurons. It's one way to convert continous values into more of a binary value. This also called an activation function in neural networks. There are many other types of activation functions in use today."
   ]
  },
  {
   "cell_type": "code",
   "execution_count": 10,
   "metadata": {
    "colab": {
     "base_uri": "https://localhost:8080/",
     "height": 313
    },
    "colab_type": "code",
    "id": "So99N93VJ9Vy",
    "outputId": "de5894bb-09ba-462b-f970-c33235313ff9"
   },
   "outputs": [
    {
     "data": {
      "text/plain": [
       "Text(0.5, 1.0, 'Logistic Sigmoid')"
      ]
     },
     "execution_count": 10,
     "metadata": {
      "tags": []
     },
     "output_type": "execute_result"
    },
    {
     "data": {
      "image/png": "[encoded data removed]",
      "text/plain": [
       "<Figure size 432x288 with 1 Axes>"
      ]
     },
     "metadata": {
      "tags": []
     },
     "output_type": "display_data"
    }
   ],
   "source": [
    "def sigmoid(z):\n",
    "  return 1.0/(1 + math.e ** (-z))\n",
    "\n",
    "x = [i * 0.1 for i in range(-50, 51)]\n",
    "y = [sigmoid(z) for z in x]\n",
    "plt.plot(x, y)\n",
    "plt.xlabel('x')\n",
    "plt.ylabel('y')\n",
    "plt.title('Logistic Sigmoid')"
   ]
  },
  {
   "cell_type": "markdown",
   "metadata": {
    "colab_type": "text",
    "id": "4SPj_r-Zt-jb"
   },
   "source": [
    "## Prediction Function\n",
    "\n",
    "This function takes one sample, multiplies by the weights, adds a bias, and passes the sum through a Sigmoid function. This function will be used to determine weights and biases during training as well as make predictions after training is complete."
   ]
  },
  {
   "cell_type": "code",
   "execution_count": 0,
   "metadata": {
    "colab": {},
    "colab_type": "code",
    "id": "QaERzVGXIoTc"
   },
   "outputs": [],
   "source": [
    "def predict(sample):\n",
    "  result  = 0.0\n",
    "  for i in range(len(sample)):\n",
    "    result = result + weights[i] * sample[i]\n",
    "    \n",
    "  result = result + bias\n",
    "  return sigmoid(result)"
   ]
  },
  {
   "cell_type": "markdown",
   "metadata": {
    "colab_type": "text",
    "id": "NNAtSCEPt-jd"
   },
   "source": [
    "## Loss and Cost Functions\n",
    "\n",
    "The loss function compares the predicted output with the expected output for a single training sample. If the absolute difference between the predicted and expected output is high, the loss should be high. The loss function here is a bit more complicated than a simple difference between predicted output and expected output, because it is known to make training easier.\n",
    "\n",
    "$$\\mathcal L(y, \\hat y) = -(y \\log \\hat y + (1-y) \\log (1 - \\hat y))$$\n",
    "\n",
    "Where $\\mathcal L$ is the loss, $y$ is the training sample or ground truth, and $\\hat y$ is the predicted value from the model."
   ]
  },
  {
   "cell_type": "code",
   "execution_count": 0,
   "metadata": {
    "colab": {},
    "colab_type": "code",
    "id": "bhN98ZwJNcnL"
   },
   "outputs": [],
   "source": [
    "def loss(y_train, y_predicted):\n",
    "  return -(y_train * math.log(y_predicted) + (1.0 - y_train) * math.log(1 - y_predicted))"
   ]
  },
  {
   "cell_type": "markdown",
   "metadata": {
    "colab_type": "text",
    "id": "Ru0QNMpUt-jg"
   },
   "source": [
    "We can see how this function behaves for a fixed training value and a range of predicted values."
   ]
  },
  {
   "cell_type": "code",
   "execution_count": 13,
   "metadata": {
    "colab": {
     "base_uri": "https://localhost:8080/",
     "height": 313
    },
    "colab_type": "code",
    "id": "89HtEbUpt-jg",
    "outputId": "b80bd1e6-4638-4bf2-ff1a-34e705810917"
   },
   "outputs": [
    {
     "data": {
      "text/plain": [
       "Text(0.5, 1.0, 'Loss near 0.90')"
      ]
     },
     "execution_count": 13,
     "metadata": {
      "tags": []
     },
     "output_type": "execute_result"
    },
    {
     "data": {
      "image/png": "[encoded data removed]",
      "text/plain": [
       "<Figure size 432x288 with 1 Axes>"
      ]
     },
     "metadata": {
      "tags": []
     },
     "output_type": "display_data"
    }
   ],
   "source": [
    "y_train = 0.9\n",
    "x = [i * 0.1 for i in range(1, 9)]\n",
    "y = [loss(y_train, yp) for yp in x]\n",
    "plt.plot(x, y)\n",
    "plt.xlabel('x')\n",
    "plt.ylabel('y')\n",
    "plt.title('Loss near %0.2f' % y_train)"
   ]
  },
  {
   "cell_type": "markdown",
   "metadata": {
    "colab_type": "text",
    "id": "p9w9xQEkt-ji"
   },
   "source": [
    "The cost function is the average of the loss over all training samples:\n",
    "\n",
    "$$\\mathcal J = \\frac{1}{m} \\sum_{i=0}^{m} \\mathcal L(y, \\hat y)$$"
   ]
  },
  {
   "cell_type": "markdown",
   "metadata": {
    "colab_type": "text",
    "id": "hSLUEK-pt-jj"
   },
   "source": [
    "## Gradient Descent\n",
    "\n",
    "Gradient descent attempts to minimize the cost function by iteratively adjusting weights and biases in the direction of lower cost. This achieved by computing the derivative (gradient) or slope of the cost function for each of the weights and biases.\n",
    "\n",
    "The general equations are\n",
    "\n",
    "$$w_{k+1} = w_{k} - \\alpha \\frac{\\partial \\mathcal J}{\\partial w}$$\n",
    "\n",
    "$$b_{k+1} = b_{k} - \\alpha \\frac{\\partial \\mathcal J}{\\partial b}$$\n",
    "\n",
    "Where $w_{k}$ and $b_{k}$ are the current values of weights and biases, and $w_{k+}$ and $b_{k+1}$ are the next values after one iteration. The number $\\alpha$ is the learning rate, which is a tuning parameter or hyperparameter. If the learning rate is too small, it will take longer to train, whereas too large of a training value might result in wild oscillations that never converge on an optimum solution.\n",
    "\n",
    "To picture how this works, let's consider an example in two dimensions:\n",
    "\n",
    "$$y = x^2 + \\frac{x}{2}$$"
   ]
  },
  {
   "cell_type": "code",
   "execution_count": 14,
   "metadata": {
    "colab": {
     "base_uri": "https://localhost:8080/",
     "height": 313
    },
    "colab_type": "code",
    "id": "9-bXBig8t-jk",
    "outputId": "f89d9d3a-0cda-4224-94f7-42feb8db8349"
   },
   "outputs": [
    {
     "data": {
      "text/plain": [
       "Text(0.5, 1.0, 'Simple function')"
      ]
     },
     "execution_count": 14,
     "metadata": {
      "tags": []
     },
     "output_type": "execute_result"
    },
    {
     "data": {
      "image/png": "[encoded data removed]",
      "text/plain": [
       "<Figure size 432x288 with 1 Axes>"
      ]
     },
     "metadata": {
      "tags": []
     },
     "output_type": "display_data"
    }
   ],
   "source": [
    "def parabola(x):\n",
    "    return x**2 + x/2.0\n",
    "\n",
    "x = [i * 0.1 for i in range(-10, 11)]\n",
    "y = [parabola(xi) for xi in x]\n",
    "plt.plot(x, y)\n",
    "plt.xlabel('x')\n",
    "plt.ylabel('y')\n",
    "plt.title('Simple function')"
   ]
  },
  {
   "cell_type": "markdown",
   "metadata": {
    "colab_type": "text",
    "id": "ZaQJuoXzt-jl"
   },
   "source": [
    "The first derivative, or the slope at any point $x$ is:\n",
    "\n",
    "$$\\frac{\\partial y}{\\partial x} = 2x + 0.5$$\n",
    "\n",
    "To find the minimum, iterate using this equation:\n",
    "\n",
    "$$x_{k+1} = x_{k} - \\alpha \\frac{\\partial y}{\\partial x}$$"
   ]
  },
  {
   "cell_type": "code",
   "execution_count": 15,
   "metadata": {
    "colab": {
     "base_uri": "https://localhost:8080/",
     "height": 348
    },
    "colab_type": "code",
    "id": "MDK0JIfst-jm",
    "outputId": "21dee88c-6f33-49c2-cfa5-06318241a651"
   },
   "outputs": [
    {
     "name": "stdout",
     "output_type": "stream",
     "text": [
      "Estimated minimum -0.17, -0.06\n",
      "Derivative (gradient) 0.20\n"
     ]
    },
    {
     "data": {
      "text/plain": [
       "Text(0.5, 1.0, 'Simple function')"
      ]
     },
     "execution_count": 15,
     "metadata": {
      "tags": []
     },
     "output_type": "execute_result"
    },
    {
     "data": {
      "image/png": "[encoded data removed]",
      "text/plain": [
       "<Figure size 432x288 with 1 Axes>"
      ]
     },
     "metadata": {
      "tags": []
     },
     "output_type": "display_data"
    }
   ],
   "source": [
    "x_k = 0.0\n",
    "\n",
    "learning_rate = 0.1\n",
    "\n",
    "def derivative(x):\n",
    "  return 2*x + 0.5\n",
    "\n",
    "for i in range(5):\n",
    "    gradient = derivative(x_k)\n",
    "    x_k = x_k - learning_rate*gradient\n",
    "\n",
    "print('Estimated minimum %0.2f, %0.2f' % (x_k, parabola(x_k)))\n",
    "print('Derivative (gradient) %0.2f' % gradient)\n",
    "\n",
    "x = [i * 0.1 for i in range(-10, 11)]\n",
    "y = [parabola(xi) for xi in x]\n",
    "plt.plot(x, y)\n",
    "plt.xlabel('x')\n",
    "plt.ylabel('y')\n",
    "plt.plot(x_k, parabola(x_k), 'ro')\n",
    "line_x = [x_k - 0.5, x_k + 0.5]\n",
    "line_y = [gradient*(xi-x_k)+parabola(x_k) for xi in line_x]\n",
    "plt.plot(line_x, line_y)\n",
    "plt.title('Simple function')"
   ]
  },
  {
   "cell_type": "markdown",
   "metadata": {
    "colab_type": "text",
    "id": "AmwF2NyYt-jp"
   },
   "source": [
    "## Backpropagation Algorithm\n",
    "\n",
    "[Backpropagation](https://en.wikipedia.org/wiki/Backpropagation) is a widely used algorithm for training machine learning models. It attempts to learn weights and biases by iteratively adjusting these values in order to minimize the loss between predicted and expected output."
   ]
  },
  {
   "cell_type": "code",
   "execution_count": 0,
   "metadata": {
    "colab": {},
    "colab_type": "code",
    "id": "90LurR8iP_z1"
   },
   "outputs": [],
   "source": [
    "num_features = iris.data.shape[1]\n",
    "\n",
    "def train_one_epoch(x_train_samples, y_train_samples):\n",
    "  cost = 0.0\n",
    "  dw = [0.0] * num_features\n",
    "  db = 0.0\n",
    "\n",
    "  global bias, weights\n",
    "\n",
    "  m = len(x_train_samples)\n",
    "  for i in range(m):\n",
    "    x_sample = x_train_samples[i]\n",
    "    y_sample = y_train_samples[i]\n",
    "    predicted = predict(x_sample)\n",
    "    cost = cost + loss(y_sample, predicted)\n",
    "    \n",
    "    # dz is the derivative of the loss function\n",
    "    dz = predicted - y_sample\n",
    "    \n",
    "    for j in range(len(weights)):\n",
    "      dw[j] = dw[j] + x_sample[j] * dz\n",
    "    db = db + dz\n",
    "  \n",
    "  cost = cost / m\n",
    "  db = db / m\n",
    "  bias = bias - learning_rate*db\n",
    "  for j in range(len(weights)):\n",
    "    dw[j] = dw[j] / m\n",
    "    weights[j] = weights[j] - learning_rate*dw[j]\n",
    "  \n",
    "  return cost"
   ]
  },
  {
   "cell_type": "markdown",
   "metadata": {
    "colab_type": "text",
    "id": "RPtAVgMvt-jr"
   },
   "source": [
    "## Training Algorithm\n",
    "\n",
    "This algorithm with iterate through the training data many times and call the backpropagation function."
   ]
  },
  {
   "cell_type": "code",
   "execution_count": 17,
   "metadata": {
    "colab": {
     "base_uri": "https://localhost:8080/",
     "height": 295
    },
    "colab_type": "code",
    "id": "zUeIwAvRlrYn",
    "outputId": "2c61145c-04a4-4e24-d6dd-418c21e15c29"
   },
   "outputs": [
    {
     "data": {
      "image/png": "[encoded data removed]",
      "text/plain": [
       "<Figure size 432x288 with 1 Axes>"
      ]
     },
     "metadata": {
      "tags": []
     },
     "output_type": "display_data"
    }
   ],
   "source": [
    "# Model will \"learn\" values for the weights and biases\n",
    "\n",
    "weights = [0.0] * num_features\n",
    "bias = 0.0\n",
    "\n",
    "learning_rate = 0.1\n",
    "\n",
    "epochs = 2000\n",
    "\n",
    "x_train_samples = iris.data\n",
    "y_train_samples = [1 if y == 2 else 0 for y in iris.target]\n",
    "\n",
    "loss_array = []\n",
    "for epoch in range(epochs):\n",
    "  loss_value = train_one_epoch(x_train_samples, y_train_samples)\n",
    "  loss_array.append(loss_value)\n",
    "\n",
    "plt.plot(range(epochs), loss_array)\n",
    "plt.ylabel('Loss')\n",
    "plt.xlabel('Epoch')\n",
    "plt.title('Loss vs. Epoch')\n",
    "plt.show()"
   ]
  },
  {
   "cell_type": "markdown",
   "metadata": {
    "colab_type": "text",
    "id": "0dXTIJSxt-jv"
   },
   "source": [
    "## Make Predictions\n",
    "\n",
    "Once the model is trained, it can be used to make predictions."
   ]
  },
  {
   "cell_type": "code",
   "execution_count": 18,
   "metadata": {
    "colab": {
     "base_uri": "https://localhost:8080/",
     "height": 297
    },
    "colab_type": "code",
    "id": "0YzlLmmumyD9",
    "outputId": "add3a6f4-8f29-41da-d4e3-b724463574a1"
   },
   "outputs": [
    {
     "data": {
      "image/png": "[encoded data removed]",
      "text/plain": [
       "<Figure size 432x288 with 1 Axes>"
      ]
     },
     "metadata": {
      "tags": []
     },
     "output_type": "display_data"
    },
    {
     "name": "stdout",
     "output_type": "stream",
     "text": [
      "Accuracy: 98.00 %\n"
     ]
    }
   ],
   "source": [
    "predictions = []\n",
    "\n",
    "m = len(x_train_samples)\n",
    "correct = 0\n",
    "for i in range(m):\n",
    "  sample = x_train_samples[i]\n",
    "  value = predict(sample)\n",
    "  predictions.append(value)\n",
    "  if value >= 0.5:\n",
    "    value = 1\n",
    "  else:\n",
    "    value = 0\n",
    "  if value == y_train_samples[i]:\n",
    "    correct = correct + 1.0\n",
    "\n",
    "plt.plot(range(m), predictions, label='Predicted')\n",
    "plt.plot(range(m), y_train_samples, label='Ground truth')\n",
    "plt.ylabel('Prediction')\n",
    "plt.xlabel('Sample')\n",
    "plt.legend(loc='best')\n",
    "plt.show()\n",
    "\n",
    "print('Accuracy: %.2f %%' % (100 * correct/m))"
   ]
  },
  {
   "cell_type": "code",
   "execution_count": 0,
   "metadata": {
    "colab": {},
    "colab_type": "code",
    "id": "lH4RMMVGt-jy"
   },
   "outputs": [],
   "source": []
  }
 ],
 "metadata": {
  "colab": {
   "collapsed_sections": [],
   "name": "Iris Classification.ipynb",
   "provenance": []
  },
  "kernelspec": {
   "display_name": "Python 3",
   "language": "python",
   "name": "python3"
  },
  "language_info": {
   "codemirror_mode": {
    "name": "ipython",
    "version": 3
   },
   "file_extension": ".py",
   "mimetype": "text/x-python",
   "name": "python",
   "nbconvert_exporter": "python",
   "pygments_lexer": "ipython3",
   "version": "3.7.3"
  }
 },
 "nbformat": 4,
 "nbformat_minor": 1
}
