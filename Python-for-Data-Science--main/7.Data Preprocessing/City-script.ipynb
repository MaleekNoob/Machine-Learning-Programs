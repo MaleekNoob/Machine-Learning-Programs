{
 "cells": [
  {
   "cell_type": "markdown",
   "metadata": {},
   "source": [
    "# **Python Data Analyses and Visualization** \n",
    "# **Applied to European city data**"
   ]
  },
  {
   "cell_type": "markdown",
   "metadata": {},
   "source": [
    "## **<a name=\"q1\">1. Introduction</a>**"
   ]
  },
  {
   "cell_type": "markdown",
   "metadata": {},
   "source": [
    "Cities are interesting. Some people enjoy living in cities, others tend to avoid them and rather prefer the countryside. Whatever is your preference, one thing is true: Cities generate a huge amount of data that are good source for analyses.\n",
    "\n",
    "The following is a brief tutorial to get quick insight into Python data analyses and visualization. It is meant to be an introduction for beginners<sup>1</sup>. Much of this is already documented on the web, and sometimes with more detail. So why another guide?\n",
    "\n",
    "Many guides treat every topic separately and use new datasets everytime a new data problem is presented. There are however advantages of using the same dataset for learning a large variety of analyses. One advantage is time-related, in that all attention can be focused on coding without losing \"switching\" time understanding new datasets. More importantly, working on a single dataset one experiences the evolution from preprocessing till visualization.\n",
    "\n",
    "The goal of this tutorial is not to solve an important data science problem. For this, anyways, the presented data is too small. The goal is to use an intuitive dataset to learn Python, intuitive in the sense that it contains data that everyone can understand without prior domain knowledge. It should therefore be suitable for someone who is a starter in Data Science. \n",
    "\n",
    "We start this tutorial creating data, loading data, data munging and in the end several visualizations. Do not hesitate to contact me if you have any questions or suggestions: <font color=\"blue\">rrighart@googlemail.com</font>"
   ]
  },
  {
   "cell_type": "markdown",
   "metadata": {},
   "source": [
    "[<font color=\"gray\">▲▲▲</font>](#contents)"
   ]
  },
  {
   "cell_type": "markdown",
   "metadata": {},
   "source": [
    "## **<a name=\"q2\">2. Jupyter notebook and loading packages</a>**"
   ]
  },
  {
   "cell_type": "markdown",
   "metadata": {},
   "source": [
    "First start up IPython or Jupyter notebook. An installation guide can be found at the following page<sup>2</sup>. "
   ]
  },
  {
   "cell_type": "markdown",
   "metadata": {},
   "source": [
    "The current tutorial treats a great variety of data types, various preprocessing steps (for ex.: selecting data, merging data, replacing data, finding missing values), data visualization (for ex.: boxplots, barplots, pie-charts, geographic mapping), from different packages (for ex. Matplotlib, Seaborn, Plotly).\n",
    "\n",
    "In Python, several abbreviations are used, such as <font color=\"blue\">pd</font> for Pandas, <font color=\"blue\">np</font> for numpy etc. The abbreviations you can use for imported packages are arbitrary, but in this tutorial I used those that are used most commonly on platforms such as StackOverflow. The following packages are needed throughout the tutorial."
   ]
  },
  {
   "cell_type": "code",
   "execution_count": 1,
   "metadata": {},
   "outputs": [],
   "source": [
    "import os\n",
    "import csv\n",
    "import pandas as pd\n",
    "import numpy as np\n",
    "from datetime import datetime"
   ]
  },
  {
   "cell_type": "markdown",
   "metadata": {},
   "source": [
    "The packages here below are needed for visualizations, such as Matplotlib, Seaborn, and Plotly:"
   ]
  },
  {
   "cell_type": "code",
   "execution_count": 2,
   "metadata": {},
   "outputs": [],
   "source": [
    "import matplotlib as mpl\n",
    "import matplotlib.pyplot as plt\n",
    "import matplotlib.patches as mpatches\n",
    "from matplotlib import cm\n",
    "import seaborn as sns\n",
    "import plotly\n",
    "#import plotly.plotly as py\n",
    "import plotly.graph_objs as go"
   ]
  },
  {
   "cell_type": "markdown",
   "metadata": {},
   "source": [
    "The following packages will be used for geographic mapping:"
   ]
  },
  {
   "cell_type": "code",
   "execution_count": 3,
   "metadata": {},
   "outputs": [
    {
     "ename": "ModuleNotFoundError",
     "evalue": "No module named 'mpl_toolkits.basemap'",
     "output_type": "error",
     "traceback": [
      "\u001b[1;31m---------------------------------------------------------------------------\u001b[0m",
      "\u001b[1;31mModuleNotFoundError\u001b[0m                       Traceback (most recent call last)",
      "\u001b[1;32m<ipython-input-3-b4f253cb28b4>\u001b[0m in \u001b[0;36m<module>\u001b[1;34m\u001b[0m\n\u001b[1;32m----> 1\u001b[1;33m \u001b[1;32mfrom\u001b[0m \u001b[0mmpl_toolkits\u001b[0m\u001b[1;33m.\u001b[0m\u001b[0mbasemap\u001b[0m \u001b[1;32mimport\u001b[0m \u001b[0mBasemap\u001b[0m \u001b[1;32mas\u001b[0m \u001b[0mBasemap\u001b[0m\u001b[1;33m\u001b[0m\u001b[1;33m\u001b[0m\u001b[0m\n\u001b[0m\u001b[0;32m      2\u001b[0m \u001b[1;32mfrom\u001b[0m \u001b[0mmatplotlib\u001b[0m\u001b[1;33m.\u001b[0m\u001b[0mcolors\u001b[0m \u001b[1;32mimport\u001b[0m \u001b[0mrgb2hex\u001b[0m\u001b[1;33m\u001b[0m\u001b[1;33m\u001b[0m\u001b[0m\n\u001b[0;32m      3\u001b[0m \u001b[1;32mfrom\u001b[0m \u001b[0mmatplotlib\u001b[0m\u001b[1;33m.\u001b[0m\u001b[0mpatches\u001b[0m \u001b[1;32mimport\u001b[0m \u001b[0mPolygon\u001b[0m\u001b[1;33m\u001b[0m\u001b[1;33m\u001b[0m\u001b[0m\n\u001b[0;32m      4\u001b[0m \u001b[1;32mfrom\u001b[0m \u001b[0mgeopy\u001b[0m\u001b[1;33m.\u001b[0m\u001b[0mgeocoders\u001b[0m \u001b[1;32mimport\u001b[0m \u001b[0mNominatim\u001b[0m\u001b[1;33m\u001b[0m\u001b[1;33m\u001b[0m\u001b[0m\n\u001b[0;32m      5\u001b[0m \u001b[1;32mimport\u001b[0m \u001b[0mmath\u001b[0m\u001b[1;33m\u001b[0m\u001b[1;33m\u001b[0m\u001b[0m\n",
      "\u001b[1;31mModuleNotFoundError\u001b[0m: No module named 'mpl_toolkits.basemap'"
     ]
    }
   ],
   "source": [
    "from mpl_toolkits.basemap import Basemap as Basemap\n",
    "from matplotlib.colors import rgb2hex\n",
    "from matplotlib.patches import Polygon\n",
    "from geopy.geocoders import Nominatim\n",
    "import math"
   ]
  },
  {
   "cell_type": "markdown",
   "metadata": {},
   "source": [
    "There is no problem of continuity when any of the visualizations or geographic mapping is skipped."
   ]
  },
  {
   "cell_type": "markdown",
   "metadata": {},
   "source": [
    "[<font color=\"gray\">▲▲▲</font>](#contents)"
   ]
  },
  {
   "cell_type": "markdown",
   "metadata": {},
   "source": [
    "## **<a name=\"q3\">3. Create a DataFrame manually </a>**"
   ]
  },
  {
   "cell_type": "markdown",
   "metadata": {},
   "source": [
    "We are going to use data from European cities, consisting of categorical and numerical data. The data were obtained from Wikipedia. *Temperatures* are daily means in Celsius. *Population* is urban population. *Altitude* is the highest level reported.\n",
    "\n",
    "We are going to create a DataFrame manually, later we will see how to load a DataFrame. After typing the following code, your DataFrame <font color=\"red\">df1</font> is created."
   ]
  },
  {
   "cell_type": "code",
   "execution_count": 3,
   "metadata": {},
   "outputs": [],
   "source": [
    "data = {\"Place\":['Amsterdam','Barcelona','Paris','Geneva','Munich','Athens','Vienna'],\n",
    "       'Temp_Jan':[3.4,11.8,5.0,1.5,0.3,9.9,1.2],\n",
    "       'Temp_Jul':[17.6,25.7,20.6,20.2,19.4,28.5,19.1],\n",
    "       'Language':['Dutch','Catalan and Spanish','French','French','German','Greek','German'],\n",
    "       'Altitude':[-2,12,np.nan,375, 520, 338, 542],\n",
    "       'MeasureDate':[np.nan,np.nan,'01-01-2013', '01-12-2015', '31-12-2015', np.nan, '01-01-2017'],\n",
    "       'Population':[1351587,4740000,10601122,198072,1450381, 3090508, 2600000]}\n",
    "df1 = pd.DataFrame(data,columns = ['Place', 'Temp_Jan', 'Temp_Jul', 'Language', 'Altitude','MeasureDate', 'Population'])"
   ]
  },
  {
   "cell_type": "markdown",
   "metadata": {},
   "source": [
    "Inspecting the data will show us the following table. From now on, often the code <font color=\"blue\">.head()</font> will be used. By default the first five rows are shown. Putting any number inbetween the parentheses will change the number of rows. The command <font color=\"blue\">.tail()</font> does exactly the same but starting from the end."
   ]
  },
  {
   "cell_type": "code",
   "execution_count": 4,
   "metadata": {},
   "outputs": [
    {
     "data": {
      "text/html": [
       "<div>\n",
       "<style scoped>\n",
       "    .dataframe tbody tr th:only-of-type {\n",
       "        vertical-align: middle;\n",
       "    }\n",
       "\n",
       "    .dataframe tbody tr th {\n",
       "        vertical-align: top;\n",
       "    }\n",
       "\n",
       "    .dataframe thead th {\n",
       "        text-align: right;\n",
       "    }\n",
       "</style>\n",
       "<table border=\"1\" class=\"dataframe\">\n",
       "  <thead>\n",
       "    <tr style=\"text-align: right;\">\n",
       "      <th></th>\n",
       "      <th>Place</th>\n",
       "      <th>Temp_Jan</th>\n",
       "      <th>Temp_Jul</th>\n",
       "      <th>Language</th>\n",
       "      <th>Altitude</th>\n",
       "      <th>MeasureDate</th>\n",
       "      <th>Population</th>\n",
       "    </tr>\n",
       "  </thead>\n",
       "  <tbody>\n",
       "    <tr>\n",
       "      <th>0</th>\n",
       "      <td>Amsterdam</td>\n",
       "      <td>3.4</td>\n",
       "      <td>17.6</td>\n",
       "      <td>Dutch</td>\n",
       "      <td>-2.0</td>\n",
       "      <td>NaN</td>\n",
       "      <td>1351587</td>\n",
       "    </tr>\n",
       "    <tr>\n",
       "      <th>1</th>\n",
       "      <td>Barcelona</td>\n",
       "      <td>11.8</td>\n",
       "      <td>25.7</td>\n",
       "      <td>Catalan and Spanish</td>\n",
       "      <td>12.0</td>\n",
       "      <td>NaN</td>\n",
       "      <td>4740000</td>\n",
       "    </tr>\n",
       "    <tr>\n",
       "      <th>2</th>\n",
       "      <td>Paris</td>\n",
       "      <td>5.0</td>\n",
       "      <td>20.6</td>\n",
       "      <td>French</td>\n",
       "      <td>NaN</td>\n",
       "      <td>01-01-2013</td>\n",
       "      <td>10601122</td>\n",
       "    </tr>\n",
       "  </tbody>\n",
       "</table>\n",
       "</div>"
      ],
      "text/plain": [
       "       Place  Temp_Jan  Temp_Jul             Language  Altitude MeasureDate  \\\n",
       "0  Amsterdam       3.4      17.6                Dutch      -2.0         NaN   \n",
       "1  Barcelona      11.8      25.7  Catalan and Spanish      12.0         NaN   \n",
       "2      Paris       5.0      20.6               French       NaN  01-01-2013   \n",
       "\n",
       "   Population  \n",
       "0     1351587  \n",
       "1     4740000  \n",
       "2    10601122  "
      ]
     },
     "execution_count": 4,
     "metadata": {},
     "output_type": "execute_result"
    }
   ],
   "source": [
    "df1.head(3)"
   ]
  },
  {
   "cell_type": "markdown",
   "metadata": {},
   "source": [
    "[<font color=\"gray\">▲▲▲</font>](#contents)"
   ]
  },
  {
   "cell_type": "markdown",
   "metadata": {},
   "source": [
    "## **<a name=\"q4\">4. Selecting rows and columns</a>**"
   ]
  },
  {
   "cell_type": "markdown",
   "metadata": {},
   "source": [
    "To select only one column or variable, we can use the columnname:"
   ]
  },
  {
   "cell_type": "code",
   "execution_count": 5,
   "metadata": {},
   "outputs": [
    {
     "data": {
      "text/plain": [
       "0     3.4\n",
       "1    11.8\n",
       "2     5.0\n",
       "Name: Temp_Jan, dtype: float64"
      ]
     },
     "execution_count": 5,
     "metadata": {},
     "output_type": "execute_result"
    }
   ],
   "source": [
    "df1['Temp_Jan'].head(3)"
   ]
  },
  {
   "cell_type": "markdown",
   "metadata": {},
   "source": [
    "Another notation that can be used and that gives the same result:"
   ]
  },
  {
   "cell_type": "code",
   "execution_count": 6,
   "metadata": {},
   "outputs": [
    {
     "data": {
      "text/plain": [
       "0     3.4\n",
       "1    11.8\n",
       "2     5.0\n",
       "Name: Temp_Jan, dtype: float64"
      ]
     },
     "execution_count": 6,
     "metadata": {},
     "output_type": "execute_result"
    }
   ],
   "source": [
    "df1.Temp_Jan.head(3)"
   ]
  },
  {
   "cell_type": "markdown",
   "metadata": {},
   "source": [
    "We can use .loc and .iloc notation, **df1.loc** or **df1.iloc**, for selecting rows and columns.\n",
    ".loc is label based, .iloc is integer position based. Let us look at these two.\n",
    "We first start with the **.loc** notation. The following selects all rows and one column:"
   ]
  },
  {
   "cell_type": "code",
   "execution_count": 7,
   "metadata": {},
   "outputs": [
    {
     "data": {
      "text/html": [
       "<div>\n",
       "<style scoped>\n",
       "    .dataframe tbody tr th:only-of-type {\n",
       "        vertical-align: middle;\n",
       "    }\n",
       "\n",
       "    .dataframe tbody tr th {\n",
       "        vertical-align: top;\n",
       "    }\n",
       "\n",
       "    .dataframe thead th {\n",
       "        text-align: right;\n",
       "    }\n",
       "</style>\n",
       "<table border=\"1\" class=\"dataframe\">\n",
       "  <thead>\n",
       "    <tr style=\"text-align: right;\">\n",
       "      <th></th>\n",
       "      <th>Temp_Jan</th>\n",
       "    </tr>\n",
       "  </thead>\n",
       "  <tbody>\n",
       "    <tr>\n",
       "      <th>0</th>\n",
       "      <td>3.4</td>\n",
       "    </tr>\n",
       "    <tr>\n",
       "      <th>1</th>\n",
       "      <td>11.8</td>\n",
       "    </tr>\n",
       "    <tr>\n",
       "      <th>2</th>\n",
       "      <td>5.0</td>\n",
       "    </tr>\n",
       "  </tbody>\n",
       "</table>\n",
       "</div>"
      ],
      "text/plain": [
       "   Temp_Jan\n",
       "0       3.4\n",
       "1      11.8\n",
       "2       5.0"
      ]
     },
     "execution_count": 7,
     "metadata": {},
     "output_type": "execute_result"
    }
   ],
   "source": [
    "df1.loc[:,['Temp_Jan']].head(3)"
   ]
  },
  {
   "cell_type": "markdown",
   "metadata": {},
   "source": [
    "To select a row, for example the first row, do the following. Python starts indexing from 0 (0=first row, 1=second row, etc.):"
   ]
  },
  {
   "cell_type": "code",
   "execution_count": 14,
   "metadata": {},
   "outputs": [
    {
     "data": {
      "text/plain": [
       "Place          Amsterdam\n",
       "Temp_Jan             3.4\n",
       "Temp_Jul            17.6\n",
       "Language           Dutch\n",
       "Altitude              -2\n",
       "MeasureDate          NaN\n",
       "Population       1351587\n",
       "Name: 0, dtype: object"
      ]
     },
     "execution_count": 14,
     "metadata": {},
     "output_type": "execute_result"
    }
   ],
   "source": [
    "df1.loc[0,:]"
   ]
  },
  {
   "cell_type": "markdown",
   "metadata": {},
   "source": [
    "Sometimes we would like to choose a selection of rows *and* columns:"
   ]
  },
  {
   "cell_type": "code",
   "execution_count": 8,
   "metadata": {},
   "outputs": [
    {
     "data": {
      "text/html": [
       "<div>\n",
       "<style scoped>\n",
       "    .dataframe tbody tr th:only-of-type {\n",
       "        vertical-align: middle;\n",
       "    }\n",
       "\n",
       "    .dataframe tbody tr th {\n",
       "        vertical-align: top;\n",
       "    }\n",
       "\n",
       "    .dataframe thead th {\n",
       "        text-align: right;\n",
       "    }\n",
       "</style>\n",
       "<table border=\"1\" class=\"dataframe\">\n",
       "  <thead>\n",
       "    <tr style=\"text-align: right;\">\n",
       "      <th></th>\n",
       "      <th>Temp_Jan</th>\n",
       "      <th>Temp_Jul</th>\n",
       "    </tr>\n",
       "  </thead>\n",
       "  <tbody>\n",
       "    <tr>\n",
       "      <th>1</th>\n",
       "      <td>11.8</td>\n",
       "      <td>25.7</td>\n",
       "    </tr>\n",
       "    <tr>\n",
       "      <th>2</th>\n",
       "      <td>5.0</td>\n",
       "      <td>20.6</td>\n",
       "    </tr>\n",
       "    <tr>\n",
       "      <th>3</th>\n",
       "      <td>1.5</td>\n",
       "      <td>20.2</td>\n",
       "    </tr>\n",
       "  </tbody>\n",
       "</table>\n",
       "</div>"
      ],
      "text/plain": [
       "   Temp_Jan  Temp_Jul\n",
       "1      11.8      25.7\n",
       "2       5.0      20.6\n",
       "3       1.5      20.2"
      ]
     },
     "execution_count": 8,
     "metadata": {},
     "output_type": "execute_result"
    }
   ],
   "source": [
    "df1.loc[1:3,['Temp_Jan','Temp_Jul']]"
   ]
  },
  {
   "cell_type": "markdown",
   "metadata": {
    "collapsed": true
   },
   "source": [
    "Now we turn to **.iloc**. To select the first column:"
   ]
  },
  {
   "cell_type": "code",
   "execution_count": 9,
   "metadata": {},
   "outputs": [
    {
     "data": {
      "text/plain": [
       "0    Amsterdam\n",
       "1    Barcelona\n",
       "2        Paris\n",
       "3       Geneva\n",
       "4       Munich\n",
       "5       Athens\n",
       "6       Vienna\n",
       "Name: Place, dtype: object"
      ]
     },
     "execution_count": 9,
     "metadata": {},
     "output_type": "execute_result"
    }
   ],
   "source": [
    "df1.iloc[:,0]"
   ]
  },
  {
   "cell_type": "markdown",
   "metadata": {},
   "source": [
    "To select multiple rows:"
   ]
  },
  {
   "cell_type": "code",
   "execution_count": 10,
   "metadata": {},
   "outputs": [
    {
     "data": {
      "text/html": [
       "<div>\n",
       "<style scoped>\n",
       "    .dataframe tbody tr th:only-of-type {\n",
       "        vertical-align: middle;\n",
       "    }\n",
       "\n",
       "    .dataframe tbody tr th {\n",
       "        vertical-align: top;\n",
       "    }\n",
       "\n",
       "    .dataframe thead th {\n",
       "        text-align: right;\n",
       "    }\n",
       "</style>\n",
       "<table border=\"1\" class=\"dataframe\">\n",
       "  <thead>\n",
       "    <tr style=\"text-align: right;\">\n",
       "      <th></th>\n",
       "      <th>Place</th>\n",
       "      <th>Temp_Jan</th>\n",
       "      <th>Temp_Jul</th>\n",
       "      <th>Language</th>\n",
       "      <th>Altitude</th>\n",
       "      <th>MeasureDate</th>\n",
       "      <th>Population</th>\n",
       "    </tr>\n",
       "  </thead>\n",
       "  <tbody>\n",
       "    <tr>\n",
       "      <th>0</th>\n",
       "      <td>Amsterdam</td>\n",
       "      <td>3.4</td>\n",
       "      <td>17.6</td>\n",
       "      <td>Dutch</td>\n",
       "      <td>-2.0</td>\n",
       "      <td>NaN</td>\n",
       "      <td>1351587</td>\n",
       "    </tr>\n",
       "    <tr>\n",
       "      <th>1</th>\n",
       "      <td>Barcelona</td>\n",
       "      <td>11.8</td>\n",
       "      <td>25.7</td>\n",
       "      <td>Catalan and Spanish</td>\n",
       "      <td>12.0</td>\n",
       "      <td>NaN</td>\n",
       "      <td>4740000</td>\n",
       "    </tr>\n",
       "  </tbody>\n",
       "</table>\n",
       "</div>"
      ],
      "text/plain": [
       "       Place  Temp_Jan  Temp_Jul             Language  Altitude MeasureDate  \\\n",
       "0  Amsterdam       3.4      17.6                Dutch      -2.0         NaN   \n",
       "1  Barcelona      11.8      25.7  Catalan and Spanish      12.0         NaN   \n",
       "\n",
       "   Population  \n",
       "0     1351587  \n",
       "1     4740000  "
      ]
     },
     "execution_count": 10,
     "metadata": {},
     "output_type": "execute_result"
    }
   ],
   "source": [
    "df1.iloc[0:2,:]"
   ]
  },
  {
   "cell_type": "markdown",
   "metadata": {},
   "source": [
    "To select multiple rows and columns:"
   ]
  },
  {
   "cell_type": "code",
   "execution_count": 11,
   "metadata": {},
   "outputs": [
    {
     "data": {
      "text/html": [
       "<div>\n",
       "<style scoped>\n",
       "    .dataframe tbody tr th:only-of-type {\n",
       "        vertical-align: middle;\n",
       "    }\n",
       "\n",
       "    .dataframe tbody tr th {\n",
       "        vertical-align: top;\n",
       "    }\n",
       "\n",
       "    .dataframe thead th {\n",
       "        text-align: right;\n",
       "    }\n",
       "</style>\n",
       "<table border=\"1\" class=\"dataframe\">\n",
       "  <thead>\n",
       "    <tr style=\"text-align: right;\">\n",
       "      <th></th>\n",
       "      <th>Temp_Jul</th>\n",
       "    </tr>\n",
       "  </thead>\n",
       "  <tbody>\n",
       "    <tr>\n",
       "      <th>0</th>\n",
       "      <td>17.6</td>\n",
       "    </tr>\n",
       "    <tr>\n",
       "      <th>1</th>\n",
       "      <td>25.7</td>\n",
       "    </tr>\n",
       "  </tbody>\n",
       "</table>\n",
       "</div>"
      ],
      "text/plain": [
       "   Temp_Jul\n",
       "0      17.6\n",
       "1      25.7"
      ]
     },
     "execution_count": 11,
     "metadata": {},
     "output_type": "execute_result"
    }
   ],
   "source": [
    "df1.iloc[0:2,2:3]"
   ]
  },
  {
   "cell_type": "markdown",
   "metadata": {},
   "source": [
    "Please note that in the previous example the last number in the chosen range (for example 0:2) was not included.\n",
    "Last, select specific rows and columns and at same time change the ordering:"
   ]
  },
  {
   "cell_type": "code",
   "execution_count": 12,
   "metadata": {},
   "outputs": [
    {
     "data": {
      "text/html": [
       "<div>\n",
       "<style scoped>\n",
       "    .dataframe tbody tr th:only-of-type {\n",
       "        vertical-align: middle;\n",
       "    }\n",
       "\n",
       "    .dataframe tbody tr th {\n",
       "        vertical-align: top;\n",
       "    }\n",
       "\n",
       "    .dataframe thead th {\n",
       "        text-align: right;\n",
       "    }\n",
       "</style>\n",
       "<table border=\"1\" class=\"dataframe\">\n",
       "  <thead>\n",
       "    <tr style=\"text-align: right;\">\n",
       "      <th></th>\n",
       "      <th>Language</th>\n",
       "      <th>Temp_Jul</th>\n",
       "    </tr>\n",
       "  </thead>\n",
       "  <tbody>\n",
       "    <tr>\n",
       "      <th>1</th>\n",
       "      <td>Catalan and Spanish</td>\n",
       "      <td>25.7</td>\n",
       "    </tr>\n",
       "    <tr>\n",
       "      <th>0</th>\n",
       "      <td>Dutch</td>\n",
       "      <td>17.6</td>\n",
       "    </tr>\n",
       "  </tbody>\n",
       "</table>\n",
       "</div>"
      ],
      "text/plain": [
       "              Language  Temp_Jul\n",
       "1  Catalan and Spanish      25.7\n",
       "0                Dutch      17.6"
      ]
     },
     "execution_count": 12,
     "metadata": {},
     "output_type": "execute_result"
    }
   ],
   "source": [
    "df1.iloc[[1,0],[3,2]]"
   ]
  },
  {
   "cell_type": "markdown",
   "metadata": {},
   "source": [
    "[<font color=\"gray\">▲▲▲</font>](#contents)"
   ]
  },
  {
   "cell_type": "markdown",
   "metadata": {},
   "source": [
    "## **<a name=\"q5\">5. Data types</a>**"
   ]
  },
  {
   "cell_type": "markdown",
   "metadata": {},
   "source": [
    "To check the data type of <font color=\"red\">df1</font>."
   ]
  },
  {
   "cell_type": "code",
   "execution_count": 13,
   "metadata": {},
   "outputs": [
    {
     "data": {
      "text/plain": [
       "pandas.core.frame.DataFrame"
      ]
     },
     "execution_count": 13,
     "metadata": {},
     "output_type": "execute_result"
    }
   ],
   "source": [
    "type(df1)"
   ]
  },
  {
   "cell_type": "markdown",
   "metadata": {},
   "source": [
    "Or to check the variable types:"
   ]
  },
  {
   "cell_type": "code",
   "execution_count": 14,
   "metadata": {},
   "outputs": [
    {
     "data": {
      "text/plain": [
       "Place           object\n",
       "Temp_Jan       float64\n",
       "Temp_Jul       float64\n",
       "Language        object\n",
       "Altitude       float64\n",
       "MeasureDate     object\n",
       "Population       int64\n",
       "dtype: object"
      ]
     },
     "execution_count": 14,
     "metadata": {},
     "output_type": "execute_result"
    }
   ],
   "source": [
    "df1.dtypes"
   ]
  },
  {
   "cell_type": "markdown",
   "metadata": {},
   "source": [
    "Convert the variable *Language* into a categorical variable."
   ]
  },
  {
   "cell_type": "code",
   "execution_count": 15,
   "metadata": {},
   "outputs": [],
   "source": [
    "df1['Language'] = df1['Language'].astype('category')"
   ]
  },
  {
   "cell_type": "markdown",
   "metadata": {},
   "source": [
    "After this we need to verify if we have gotten the right type."
   ]
  },
  {
   "cell_type": "code",
   "execution_count": 16,
   "metadata": {},
   "outputs": [
    {
     "data": {
      "text/plain": [
       "CategoricalDtype(categories=['Catalan and Spanish', 'Dutch', 'French', 'German', 'Greek'], ordered=False)"
      ]
     },
     "execution_count": 16,
     "metadata": {},
     "output_type": "execute_result"
    }
   ],
   "source": [
    "df1['Language'].dtypes"
   ]
  },
  {
   "cell_type": "markdown",
   "metadata": {},
   "source": [
    "Now we change the column <font color=\"red\">MeasureDate</font> to a date variable"
   ]
  },
  {
   "cell_type": "code",
   "execution_count": 17,
   "metadata": {},
   "outputs": [
    {
     "data": {
      "text/plain": [
       "dtype('O')"
      ]
     },
     "execution_count": 17,
     "metadata": {},
     "output_type": "execute_result"
    }
   ],
   "source": [
    "df1['MeasureDate'].dtypes"
   ]
  },
  {
   "cell_type": "code",
   "execution_count": 18,
   "metadata": {},
   "outputs": [],
   "source": [
    "df1['MeasureDate']=pd.to_datetime(df1['MeasureDate'])"
   ]
  },
  {
   "cell_type": "code",
   "execution_count": 19,
   "metadata": {},
   "outputs": [
    {
     "data": {
      "text/plain": [
       "dtype('<M8[ns]')"
      ]
     },
     "execution_count": 19,
     "metadata": {},
     "output_type": "execute_result"
    }
   ],
   "source": [
    "df1['MeasureDate'].dtypes"
   ]
  },
  {
   "cell_type": "code",
   "execution_count": 20,
   "metadata": {},
   "outputs": [
    {
     "data": {
      "text/plain": [
       "Place                  object\n",
       "Temp_Jan              float64\n",
       "Temp_Jul              float64\n",
       "Language             category\n",
       "Altitude              float64\n",
       "MeasureDate    datetime64[ns]\n",
       "Population              int64\n",
       "dtype: object"
      ]
     },
     "execution_count": 20,
     "metadata": {},
     "output_type": "execute_result"
    }
   ],
   "source": [
    "df1.dtypes"
   ]
  },
  {
   "cell_type": "markdown",
   "metadata": {},
   "source": [
    "[<font color=\"gray\">▲▲▲</font>](#contents)"
   ]
  },
  {
   "cell_type": "markdown",
   "metadata": {},
   "source": [
    "## **<a name=\"q6\">6. Basic properties</a>**"
   ]
  },
  {
   "cell_type": "markdown",
   "metadata": {},
   "source": [
    "The DataFrame can be dissected in its column- and rownames, and the values inside:"
   ]
  },
  {
   "cell_type": "code",
   "execution_count": 21,
   "metadata": {},
   "outputs": [
    {
     "data": {
      "text/plain": [
       "Index(['Place', 'Temp_Jan', 'Temp_Jul', 'Language', 'Altitude', 'MeasureDate',\n",
       "       'Population'],\n",
       "      dtype='object')"
      ]
     },
     "execution_count": 21,
     "metadata": {},
     "output_type": "execute_result"
    }
   ],
   "source": [
    "df1.columns"
   ]
  },
  {
   "cell_type": "code",
   "execution_count": 22,
   "metadata": {},
   "outputs": [
    {
     "data": {
      "text/plain": [
       "RangeIndex(start=0, stop=7, step=1)"
      ]
     },
     "execution_count": 22,
     "metadata": {},
     "output_type": "execute_result"
    }
   ],
   "source": [
    "df1.index"
   ]
  },
  {
   "cell_type": "code",
   "execution_count": 23,
   "metadata": {},
   "outputs": [
    {
     "data": {
      "text/plain": [
       "array([['Amsterdam', 3.4, 17.6, 'Dutch', -2.0, NaT, 1351587],\n",
       "       ['Barcelona', 11.8, 25.7, 'Catalan and Spanish', 12.0, NaT,\n",
       "        4740000],\n",
       "       ['Paris', 5.0, 20.6, 'French', nan,\n",
       "        Timestamp('2013-01-01 00:00:00'), 10601122],\n",
       "       ['Geneva', 1.5, 20.2, 'French', 375.0,\n",
       "        Timestamp('2015-01-12 00:00:00'), 198072],\n",
       "       ['Munich', 0.3, 19.4, 'German', 520.0,\n",
       "        Timestamp('2015-12-31 00:00:00'), 1450381],\n",
       "       ['Athens', 9.9, 28.5, 'Greek', 338.0, NaT, 3090508],\n",
       "       ['Vienna', 1.2, 19.1, 'German', 542.0,\n",
       "        Timestamp('2017-01-01 00:00:00'), 2600000]], dtype=object)"
      ]
     },
     "execution_count": 23,
     "metadata": {},
     "output_type": "execute_result"
    }
   ],
   "source": [
    "df1.values"
   ]
  },
  {
   "cell_type": "markdown",
   "metadata": {},
   "source": [
    "And if we wanted to select the first column name, the following can be done:"
   ]
  },
  {
   "cell_type": "code",
   "execution_count": 24,
   "metadata": {},
   "outputs": [
    {
     "data": {
      "text/plain": [
       "'Place'"
      ]
     },
     "execution_count": 24,
     "metadata": {},
     "output_type": "execute_result"
    }
   ],
   "source": [
    "df1.columns[0]"
   ]
  },
  {
   "cell_type": "markdown",
   "metadata": {},
   "source": [
    "The size of the DataFrame can be appreciated by the <font color=\"blue\">shape</font> command:"
   ]
  },
  {
   "cell_type": "code",
   "execution_count": 25,
   "metadata": {},
   "outputs": [
    {
     "data": {
      "text/plain": [
       "(7, 7)"
      ]
     },
     "execution_count": 25,
     "metadata": {},
     "output_type": "execute_result"
    }
   ],
   "source": [
    "df1.shape"
   ]
  },
  {
   "cell_type": "markdown",
   "metadata": {},
   "source": [
    "And the length of the DataFrame, or in other words, the number of rows, by the <font color=\"blue\">len</font> command:"
   ]
  },
  {
   "cell_type": "code",
   "execution_count": 26,
   "metadata": {},
   "outputs": [
    {
     "data": {
      "text/plain": [
       "7"
      ]
     },
     "execution_count": 26,
     "metadata": {},
     "output_type": "execute_result"
    }
   ],
   "source": [
    "len(df1)"
   ]
  },
  {
   "cell_type": "markdown",
   "metadata": {},
   "source": [
    "[<font color=\"gray\">▲▲▲</font>](#contents)"
   ]
  },
  {
   "cell_type": "markdown",
   "metadata": {},
   "source": [
    "## **<a name=\"q7\">7. Load another DataFrame</a>**"
   ]
  },
  {
   "cell_type": "markdown",
   "metadata": {},
   "source": [
    "We created a fairly small dataset. Most of the times it is possible to load data from a file.\n",
    "In the following section we will see how to load data using <font color=\"blue\">pd.read_csv</font>.\n",
    "The file is from my [GitHub page](https://github.com/RRighart/City).\n",
    "CSV means that a file containing *comma separated values* is expected.\n",
    "An important remark: When loading a file, one needs to carefully check if the decimals are dots or commas (this can differ between countries and systems).<sup>3</sup>\n"
   ]
  },
  {
   "cell_type": "code",
   "execution_count": 27,
   "metadata": {},
   "outputs": [],
   "source": [
    "url = 'df2.csv'\n",
    "df2 = pd.read_csv(url, parse_dates=True, delimiter=\",\", decimal=\",\")"
   ]
  },
  {
   "cell_type": "markdown",
   "metadata": {},
   "source": [
    "So this should give the following data of cities:"
   ]
  },
  {
   "cell_type": "code",
   "execution_count": 28,
   "metadata": {
    "scrolled": true
   },
   "outputs": [
    {
     "data": {
      "text/html": [
       "<div>\n",
       "<style scoped>\n",
       "    .dataframe tbody tr th:only-of-type {\n",
       "        vertical-align: middle;\n",
       "    }\n",
       "\n",
       "    .dataframe tbody tr th {\n",
       "        vertical-align: top;\n",
       "    }\n",
       "\n",
       "    .dataframe thead th {\n",
       "        text-align: right;\n",
       "    }\n",
       "</style>\n",
       "<table border=\"1\" class=\"dataframe\">\n",
       "  <thead>\n",
       "    <tr style=\"text-align: right;\">\n",
       "      <th></th>\n",
       "      <th>Place</th>\n",
       "      <th>Temp_Jan</th>\n",
       "      <th>Temp_Jul</th>\n",
       "      <th>Language</th>\n",
       "      <th>Altitude</th>\n",
       "      <th>MeasureDate</th>\n",
       "      <th>Population</th>\n",
       "    </tr>\n",
       "  </thead>\n",
       "  <tbody>\n",
       "    <tr>\n",
       "      <th>0</th>\n",
       "      <td>Stockholm</td>\n",
       "      <td>-1.6</td>\n",
       "      <td>18.8</td>\n",
       "      <td>Swedish</td>\n",
       "      <td>0.0</td>\n",
       "      <td>NaT</td>\n",
       "      <td>1515017</td>\n",
       "    </tr>\n",
       "    <tr>\n",
       "      <th>1</th>\n",
       "      <td>Oslo</td>\n",
       "      <td>-2.9</td>\n",
       "      <td>17.7</td>\n",
       "      <td>Norwegian</td>\n",
       "      <td>23.0</td>\n",
       "      <td>2016-01-01</td>\n",
       "      <td>942084</td>\n",
       "    </tr>\n",
       "    <tr>\n",
       "      <th>2</th>\n",
       "      <td>Helsinki</td>\n",
       "      <td>-3.9</td>\n",
       "      <td>17.8</td>\n",
       "      <td>Finnish</td>\n",
       "      <td>NaN</td>\n",
       "      <td>2016-03-31</td>\n",
       "      <td>1231595</td>\n",
       "    </tr>\n",
       "  </tbody>\n",
       "</table>\n",
       "</div>"
      ],
      "text/plain": [
       "       Place  Temp_Jan  Temp_Jul   Language  Altitude MeasureDate  Population\n",
       "0  Stockholm      -1.6      18.8    Swedish       0.0         NaT     1515017\n",
       "1       Oslo      -2.9      17.7  Norwegian      23.0  2016-01-01      942084\n",
       "2   Helsinki      -3.9      17.8    Finnish       NaN  2016-03-31     1231595"
      ]
     },
     "execution_count": 28,
     "metadata": {},
     "output_type": "execute_result"
    }
   ],
   "source": [
    "df2.head(3)"
   ]
  },
  {
   "cell_type": "markdown",
   "metadata": {},
   "source": [
    "The columns *Language* and *MeasureDate* are not the right class. So it would be best to change this directly."
   ]
  },
  {
   "cell_type": "code",
   "execution_count": 29,
   "metadata": {},
   "outputs": [
    {
     "data": {
      "text/plain": [
       "Place           object\n",
       "Temp_Jan       float64\n",
       "Temp_Jul       float64\n",
       "Language        object\n",
       "Altitude       float64\n",
       "MeasureDate     object\n",
       "Population       int64\n",
       "dtype: object"
      ]
     },
     "execution_count": 29,
     "metadata": {},
     "output_type": "execute_result"
    }
   ],
   "source": [
    "df2.dtypes"
   ]
  },
  {
   "cell_type": "markdown",
   "metadata": {},
   "source": [
    "Language should be of type \"category\"."
   ]
  },
  {
   "cell_type": "code",
   "execution_count": 30,
   "metadata": {},
   "outputs": [],
   "source": [
    "df2['Language'] = df2['Language'].astype('category')"
   ]
  },
  {
   "cell_type": "markdown",
   "metadata": {},
   "source": [
    "MeasureDate should be of type \"datetime\"."
   ]
  },
  {
   "cell_type": "code",
   "execution_count": 31,
   "metadata": {},
   "outputs": [],
   "source": [
    "df2['MeasureDate']=pd.to_datetime(df2['MeasureDate'])"
   ]
  },
  {
   "cell_type": "code",
   "execution_count": 32,
   "metadata": {},
   "outputs": [
    {
     "data": {
      "text/plain": [
       "Place                  object\n",
       "Temp_Jan              float64\n",
       "Temp_Jul              float64\n",
       "Language             category\n",
       "Altitude              float64\n",
       "MeasureDate    datetime64[ns]\n",
       "Population              int64\n",
       "dtype: object"
      ]
     },
     "execution_count": 32,
     "metadata": {},
     "output_type": "execute_result"
    }
   ],
   "source": [
    "df2.dtypes"
   ]
  },
  {
   "cell_type": "markdown",
   "metadata": {},
   "source": [
    "For categorical variables, it is essential to know the frequency of each category.\n",
    "Note that a slightly different notation, namely <font color=\"gray\">df2['Language'].value_counts()</font>, works here as well."
   ]
  },
  {
   "cell_type": "code",
   "execution_count": 33,
   "metadata": {},
   "outputs": [
    {
     "data": {
      "text/plain": [
       "French        3\n",
       "English       3\n",
       "Swedish       2\n",
       "Turkish       1\n",
       "Spanish       1\n",
       "Portuguese    1\n",
       "Norwegian     1\n",
       "Italian       1\n",
       "Finnish       1\n",
       "Dutch         1\n",
       "Croatian      1\n",
       "Name: Language, dtype: int64"
      ]
     },
     "execution_count": 33,
     "metadata": {},
     "output_type": "execute_result"
    }
   ],
   "source": [
    "df2.Language.value_counts()"
   ]
  },
  {
   "cell_type": "markdown",
   "metadata": {},
   "source": [
    "If loading the data did not work, another indirect way is loading the data manually from my GitHub page: https://github.com/RRighart/City . Then check that the data are saved in your current directory.\n",
    "Use the following to check the path:"
   ]
  },
  {
   "cell_type": "code",
   "execution_count": 34,
   "metadata": {},
   "outputs": [
    {
     "data": {
      "text/plain": [
       "'C:\\\\Users\\\\Microsoft\\\\Downloads\\\\Machine Learning\\\\Data Preprocessing'"
      ]
     },
     "execution_count": 34,
     "metadata": {},
     "output_type": "execute_result"
    }
   ],
   "source": [
    "os.getcwd()"
   ]
  },
  {
   "cell_type": "markdown",
   "metadata": {},
   "source": [
    "Using the command <font color=\"blue\">os.listdir(os.curdir)</font> will produce a list of files that is in your directory. Now it is possible to verify if your copied .csv file is really in the right folder. To change the directory you can use the command <font color=\"blue\">os.chdir('path')</font>."
   ]
  },
  {
   "cell_type": "markdown",
   "metadata": {},
   "source": [
    "[<font color=\"gray\">▲▲▲</font>](#contents)"
   ]
  },
  {
   "cell_type": "markdown",
   "metadata": {},
   "source": [
    "## **<a name=\"q8\">8. Append two DataFrames</a>**"
   ]
  },
  {
   "cell_type": "markdown",
   "metadata": {},
   "source": [
    "It is often the case that data are acquired from disparate sources, like we have here.\n",
    "So now the trick is to bind the two sets together."
   ]
  },
  {
   "cell_type": "code",
   "execution_count": 35,
   "metadata": {},
   "outputs": [],
   "source": [
    "df = df1.append(df2, ignore_index=True)"
   ]
  },
  {
   "cell_type": "markdown",
   "metadata": {},
   "source": [
    "Displaying the whole DataFrame <font color=\"red\">df</font> now we can see that there are 23 rows."
   ]
  },
  {
   "cell_type": "code",
   "execution_count": 36,
   "metadata": {},
   "outputs": [
    {
     "data": {
      "text/html": [
       "<div>\n",
       "<style scoped>\n",
       "    .dataframe tbody tr th:only-of-type {\n",
       "        vertical-align: middle;\n",
       "    }\n",
       "\n",
       "    .dataframe tbody tr th {\n",
       "        vertical-align: top;\n",
       "    }\n",
       "\n",
       "    .dataframe thead th {\n",
       "        text-align: right;\n",
       "    }\n",
       "</style>\n",
       "<table border=\"1\" class=\"dataframe\">\n",
       "  <thead>\n",
       "    <tr style=\"text-align: right;\">\n",
       "      <th></th>\n",
       "      <th>Place</th>\n",
       "      <th>Temp_Jan</th>\n",
       "      <th>Temp_Jul</th>\n",
       "      <th>Language</th>\n",
       "      <th>Altitude</th>\n",
       "      <th>MeasureDate</th>\n",
       "      <th>Population</th>\n",
       "    </tr>\n",
       "  </thead>\n",
       "  <tbody>\n",
       "    <tr>\n",
       "      <th>0</th>\n",
       "      <td>Amsterdam</td>\n",
       "      <td>3.4</td>\n",
       "      <td>17.6</td>\n",
       "      <td>Dutch</td>\n",
       "      <td>-2.0</td>\n",
       "      <td>NaT</td>\n",
       "      <td>1351587</td>\n",
       "    </tr>\n",
       "    <tr>\n",
       "      <th>1</th>\n",
       "      <td>Barcelona</td>\n",
       "      <td>11.8</td>\n",
       "      <td>25.7</td>\n",
       "      <td>Catalan and Spanish</td>\n",
       "      <td>12.0</td>\n",
       "      <td>NaT</td>\n",
       "      <td>4740000</td>\n",
       "    </tr>\n",
       "    <tr>\n",
       "      <th>2</th>\n",
       "      <td>Paris</td>\n",
       "      <td>5.0</td>\n",
       "      <td>20.6</td>\n",
       "      <td>French</td>\n",
       "      <td>NaN</td>\n",
       "      <td>2013-01-01</td>\n",
       "      <td>10601122</td>\n",
       "    </tr>\n",
       "    <tr>\n",
       "      <th>3</th>\n",
       "      <td>Geneva</td>\n",
       "      <td>1.5</td>\n",
       "      <td>20.2</td>\n",
       "      <td>French</td>\n",
       "      <td>375.0</td>\n",
       "      <td>2015-01-12</td>\n",
       "      <td>198072</td>\n",
       "    </tr>\n",
       "    <tr>\n",
       "      <th>4</th>\n",
       "      <td>Munich</td>\n",
       "      <td>0.3</td>\n",
       "      <td>19.4</td>\n",
       "      <td>German</td>\n",
       "      <td>520.0</td>\n",
       "      <td>2015-12-31</td>\n",
       "      <td>1450381</td>\n",
       "    </tr>\n",
       "    <tr>\n",
       "      <th>5</th>\n",
       "      <td>Athens</td>\n",
       "      <td>9.9</td>\n",
       "      <td>28.5</td>\n",
       "      <td>Greek</td>\n",
       "      <td>338.0</td>\n",
       "      <td>NaT</td>\n",
       "      <td>3090508</td>\n",
       "    </tr>\n",
       "    <tr>\n",
       "      <th>6</th>\n",
       "      <td>Vienna</td>\n",
       "      <td>1.2</td>\n",
       "      <td>19.1</td>\n",
       "      <td>German</td>\n",
       "      <td>542.0</td>\n",
       "      <td>2017-01-01</td>\n",
       "      <td>2600000</td>\n",
       "    </tr>\n",
       "    <tr>\n",
       "      <th>7</th>\n",
       "      <td>Stockholm</td>\n",
       "      <td>-1.6</td>\n",
       "      <td>18.8</td>\n",
       "      <td>Swedish</td>\n",
       "      <td>0.0</td>\n",
       "      <td>NaT</td>\n",
       "      <td>1515017</td>\n",
       "    </tr>\n",
       "    <tr>\n",
       "      <th>8</th>\n",
       "      <td>Oslo</td>\n",
       "      <td>-2.9</td>\n",
       "      <td>17.7</td>\n",
       "      <td>Norwegian</td>\n",
       "      <td>23.0</td>\n",
       "      <td>2016-01-01</td>\n",
       "      <td>942084</td>\n",
       "    </tr>\n",
       "    <tr>\n",
       "      <th>9</th>\n",
       "      <td>Helsinki</td>\n",
       "      <td>-3.9</td>\n",
       "      <td>17.8</td>\n",
       "      <td>Finnish</td>\n",
       "      <td>NaN</td>\n",
       "      <td>2016-03-31</td>\n",
       "      <td>1231595</td>\n",
       "    </tr>\n",
       "    <tr>\n",
       "      <th>10</th>\n",
       "      <td>Lulea</td>\n",
       "      <td>-5.1</td>\n",
       "      <td>20.7</td>\n",
       "      <td>Swedish</td>\n",
       "      <td>6.0</td>\n",
       "      <td>2014-12-31</td>\n",
       "      <td>75966</td>\n",
       "    </tr>\n",
       "    <tr>\n",
       "      <th>11</th>\n",
       "      <td>Edinburgh</td>\n",
       "      <td>7.0</td>\n",
       "      <td>19.1</td>\n",
       "      <td>English</td>\n",
       "      <td>47.0</td>\n",
       "      <td>NaT</td>\n",
       "      <td>1339380</td>\n",
       "    </tr>\n",
       "    <tr>\n",
       "      <th>12</th>\n",
       "      <td>Birmingham</td>\n",
       "      <td>6.7</td>\n",
       "      <td>21.3</td>\n",
       "      <td>English</td>\n",
       "      <td>140.0</td>\n",
       "      <td>NaT</td>\n",
       "      <td>2440986</td>\n",
       "    </tr>\n",
       "    <tr>\n",
       "      <th>13</th>\n",
       "      <td>Cork</td>\n",
       "      <td>5.6</td>\n",
       "      <td>15.3</td>\n",
       "      <td>English</td>\n",
       "      <td>NaN</td>\n",
       "      <td>NaT</td>\n",
       "      <td>208669</td>\n",
       "    </tr>\n",
       "    <tr>\n",
       "      <th>14</th>\n",
       "      <td>Antwerp</td>\n",
       "      <td>3.4</td>\n",
       "      <td>18.5</td>\n",
       "      <td>Dutch</td>\n",
       "      <td>NaN</td>\n",
       "      <td>2016-01-01</td>\n",
       "      <td>517042</td>\n",
       "    </tr>\n",
       "    <tr>\n",
       "      <th>15</th>\n",
       "      <td>Lille</td>\n",
       "      <td>3.6</td>\n",
       "      <td>18.6</td>\n",
       "      <td>French</td>\n",
       "      <td>NaN</td>\n",
       "      <td>NaT</td>\n",
       "      <td>1015744</td>\n",
       "    </tr>\n",
       "    <tr>\n",
       "      <th>16</th>\n",
       "      <td>Bordeaux</td>\n",
       "      <td>6.6</td>\n",
       "      <td>21.4</td>\n",
       "      <td>French</td>\n",
       "      <td>NaN</td>\n",
       "      <td>NaT</td>\n",
       "      <td>851071</td>\n",
       "    </tr>\n",
       "    <tr>\n",
       "      <th>17</th>\n",
       "      <td>Malaga</td>\n",
       "      <td>12.1</td>\n",
       "      <td>25.5</td>\n",
       "      <td>Spanish</td>\n",
       "      <td>11.0</td>\n",
       "      <td>NaT</td>\n",
       "      <td>569130</td>\n",
       "    </tr>\n",
       "    <tr>\n",
       "      <th>18</th>\n",
       "      <td>Porto</td>\n",
       "      <td>9.5</td>\n",
       "      <td>20.6</td>\n",
       "      <td>Portuguese</td>\n",
       "      <td>0.0</td>\n",
       "      <td>NaT</td>\n",
       "      <td>1774000</td>\n",
       "    </tr>\n",
       "    <tr>\n",
       "      <th>19</th>\n",
       "      <td>Venice</td>\n",
       "      <td>3.3</td>\n",
       "      <td>23.0</td>\n",
       "      <td>Italian</td>\n",
       "      <td>1.0</td>\n",
       "      <td>NaT</td>\n",
       "      <td>264579</td>\n",
       "    </tr>\n",
       "    <tr>\n",
       "      <th>20</th>\n",
       "      <td>Ajaccio</td>\n",
       "      <td>9.0</td>\n",
       "      <td>22.9</td>\n",
       "      <td>French</td>\n",
       "      <td>38.0</td>\n",
       "      <td>NaT</td>\n",
       "      <td>68587</td>\n",
       "    </tr>\n",
       "    <tr>\n",
       "      <th>21</th>\n",
       "      <td>Rijeka</td>\n",
       "      <td>5.8</td>\n",
       "      <td>23.1</td>\n",
       "      <td>Croatian</td>\n",
       "      <td>0.0</td>\n",
       "      <td>NaT</td>\n",
       "      <td>213666</td>\n",
       "    </tr>\n",
       "    <tr>\n",
       "      <th>22</th>\n",
       "      <td>Istanbul</td>\n",
       "      <td>5.7</td>\n",
       "      <td>22.9</td>\n",
       "      <td>Turkish</td>\n",
       "      <td>39.0</td>\n",
       "      <td>2016-12-31</td>\n",
       "      <td>14657434</td>\n",
       "    </tr>\n",
       "  </tbody>\n",
       "</table>\n",
       "</div>"
      ],
      "text/plain": [
       "         Place  Temp_Jan  Temp_Jul             Language  Altitude MeasureDate  \\\n",
       "0    Amsterdam       3.4      17.6                Dutch      -2.0         NaT   \n",
       "1    Barcelona      11.8      25.7  Catalan and Spanish      12.0         NaT   \n",
       "2        Paris       5.0      20.6               French       NaN  2013-01-01   \n",
       "3       Geneva       1.5      20.2               French     375.0  2015-01-12   \n",
       "4       Munich       0.3      19.4               German     520.0  2015-12-31   \n",
       "5       Athens       9.9      28.5                Greek     338.0         NaT   \n",
       "6       Vienna       1.2      19.1               German     542.0  2017-01-01   \n",
       "7    Stockholm      -1.6      18.8              Swedish       0.0         NaT   \n",
       "8         Oslo      -2.9      17.7            Norwegian      23.0  2016-01-01   \n",
       "9     Helsinki      -3.9      17.8              Finnish       NaN  2016-03-31   \n",
       "10       Lulea      -5.1      20.7              Swedish       6.0  2014-12-31   \n",
       "11   Edinburgh       7.0      19.1              English      47.0         NaT   \n",
       "12  Birmingham       6.7      21.3              English     140.0         NaT   \n",
       "13        Cork       5.6      15.3              English       NaN         NaT   \n",
       "14     Antwerp       3.4      18.5                Dutch       NaN  2016-01-01   \n",
       "15       Lille       3.6      18.6               French       NaN         NaT   \n",
       "16    Bordeaux       6.6      21.4               French       NaN         NaT   \n",
       "17      Malaga      12.1      25.5              Spanish      11.0         NaT   \n",
       "18       Porto       9.5      20.6           Portuguese       0.0         NaT   \n",
       "19      Venice       3.3      23.0              Italian       1.0         NaT   \n",
       "20     Ajaccio       9.0      22.9               French      38.0         NaT   \n",
       "21      Rijeka       5.8      23.1             Croatian       0.0         NaT   \n",
       "22    Istanbul       5.7      22.9              Turkish      39.0  2016-12-31   \n",
       "\n",
       "    Population  \n",
       "0      1351587  \n",
       "1      4740000  \n",
       "2     10601122  \n",
       "3       198072  \n",
       "4      1450381  \n",
       "5      3090508  \n",
       "6      2600000  \n",
       "7      1515017  \n",
       "8       942084  \n",
       "9      1231595  \n",
       "10       75966  \n",
       "11     1339380  \n",
       "12     2440986  \n",
       "13      208669  \n",
       "14      517042  \n",
       "15     1015744  \n",
       "16      851071  \n",
       "17      569130  \n",
       "18     1774000  \n",
       "19      264579  \n",
       "20       68587  \n",
       "21      213666  \n",
       "22    14657434  "
      ]
     },
     "execution_count": 36,
     "metadata": {},
     "output_type": "execute_result"
    }
   ],
   "source": [
    "df"
   ]
  },
  {
   "cell_type": "markdown",
   "metadata": {},
   "source": [
    "Another way this can be done is by the <font color=\"blue\">pd.concat</font> function<sup>4</sup>:"
   ]
  },
  {
   "cell_type": "code",
   "execution_count": 37,
   "metadata": {},
   "outputs": [
    {
     "data": {
      "text/html": [
       "<div>\n",
       "<style scoped>\n",
       "    .dataframe tbody tr th:only-of-type {\n",
       "        vertical-align: middle;\n",
       "    }\n",
       "\n",
       "    .dataframe tbody tr th {\n",
       "        vertical-align: top;\n",
       "    }\n",
       "\n",
       "    .dataframe thead th {\n",
       "        text-align: right;\n",
       "    }\n",
       "</style>\n",
       "<table border=\"1\" class=\"dataframe\">\n",
       "  <thead>\n",
       "    <tr style=\"text-align: right;\">\n",
       "      <th></th>\n",
       "      <th>Place</th>\n",
       "      <th>Temp_Jan</th>\n",
       "      <th>Temp_Jul</th>\n",
       "      <th>Language</th>\n",
       "      <th>Altitude</th>\n",
       "      <th>MeasureDate</th>\n",
       "      <th>Population</th>\n",
       "    </tr>\n",
       "  </thead>\n",
       "  <tbody>\n",
       "    <tr>\n",
       "      <th>0</th>\n",
       "      <td>Amsterdam</td>\n",
       "      <td>3.4</td>\n",
       "      <td>17.6</td>\n",
       "      <td>Dutch</td>\n",
       "      <td>-2.0</td>\n",
       "      <td>NaT</td>\n",
       "      <td>1351587</td>\n",
       "    </tr>\n",
       "    <tr>\n",
       "      <th>1</th>\n",
       "      <td>Barcelona</td>\n",
       "      <td>11.8</td>\n",
       "      <td>25.7</td>\n",
       "      <td>Catalan and Spanish</td>\n",
       "      <td>12.0</td>\n",
       "      <td>NaT</td>\n",
       "      <td>4740000</td>\n",
       "    </tr>\n",
       "    <tr>\n",
       "      <th>2</th>\n",
       "      <td>Paris</td>\n",
       "      <td>5.0</td>\n",
       "      <td>20.6</td>\n",
       "      <td>French</td>\n",
       "      <td>NaN</td>\n",
       "      <td>2013-01-01</td>\n",
       "      <td>10601122</td>\n",
       "    </tr>\n",
       "    <tr>\n",
       "      <th>3</th>\n",
       "      <td>Geneva</td>\n",
       "      <td>1.5</td>\n",
       "      <td>20.2</td>\n",
       "      <td>French</td>\n",
       "      <td>375.0</td>\n",
       "      <td>2015-01-12</td>\n",
       "      <td>198072</td>\n",
       "    </tr>\n",
       "  </tbody>\n",
       "</table>\n",
       "</div>"
      ],
      "text/plain": [
       "       Place  Temp_Jan  Temp_Jul             Language  Altitude MeasureDate  \\\n",
       "0  Amsterdam       3.4      17.6                Dutch      -2.0         NaT   \n",
       "1  Barcelona      11.8      25.7  Catalan and Spanish      12.0         NaT   \n",
       "2      Paris       5.0      20.6               French       NaN  2013-01-01   \n",
       "3     Geneva       1.5      20.2               French     375.0  2015-01-12   \n",
       "\n",
       "   Population  \n",
       "0     1351587  \n",
       "1     4740000  \n",
       "2    10601122  \n",
       "3      198072  "
      ]
     },
     "execution_count": 37,
     "metadata": {},
     "output_type": "execute_result"
    }
   ],
   "source": [
    "pd.concat([df1, df2], ignore_index=True).head(4)"
   ]
  },
  {
   "cell_type": "markdown",
   "metadata": {},
   "source": [
    "[<font color=\"gray\">▲▲▲</font>](#contents)"
   ]
  },
  {
   "cell_type": "markdown",
   "metadata": {},
   "source": [
    "## **<a name=\"q9\">9. Missing values</a>**"
   ]
  },
  {
   "cell_type": "markdown",
   "metadata": {},
   "source": [
    "One of the first data inspections is if and where there are missing values (data that are not available for various reasons). As we can see, there are missing values in the data; missing values are labeled differently in Python for numeric data (NaN) and dates (NaT)<sup>5</sup>. First let's see how to detect where missing values occur."
   ]
  },
  {
   "cell_type": "markdown",
   "metadata": {},
   "source": [
    "The following command will indicate those cells with \"True\" where there is a missing value."
   ]
  },
  {
   "cell_type": "code",
   "execution_count": 38,
   "metadata": {},
   "outputs": [
    {
     "data": {
      "text/html": [
       "<div>\n",
       "<style scoped>\n",
       "    .dataframe tbody tr th:only-of-type {\n",
       "        vertical-align: middle;\n",
       "    }\n",
       "\n",
       "    .dataframe tbody tr th {\n",
       "        vertical-align: top;\n",
       "    }\n",
       "\n",
       "    .dataframe thead th {\n",
       "        text-align: right;\n",
       "    }\n",
       "</style>\n",
       "<table border=\"1\" class=\"dataframe\">\n",
       "  <thead>\n",
       "    <tr style=\"text-align: right;\">\n",
       "      <th></th>\n",
       "      <th>Place</th>\n",
       "      <th>Temp_Jan</th>\n",
       "      <th>Temp_Jul</th>\n",
       "      <th>Language</th>\n",
       "      <th>Altitude</th>\n",
       "      <th>MeasureDate</th>\n",
       "      <th>Population</th>\n",
       "    </tr>\n",
       "  </thead>\n",
       "  <tbody>\n",
       "    <tr>\n",
       "      <th>0</th>\n",
       "      <td>False</td>\n",
       "      <td>False</td>\n",
       "      <td>False</td>\n",
       "      <td>False</td>\n",
       "      <td>False</td>\n",
       "      <td>True</td>\n",
       "      <td>False</td>\n",
       "    </tr>\n",
       "    <tr>\n",
       "      <th>1</th>\n",
       "      <td>False</td>\n",
       "      <td>False</td>\n",
       "      <td>False</td>\n",
       "      <td>False</td>\n",
       "      <td>False</td>\n",
       "      <td>True</td>\n",
       "      <td>False</td>\n",
       "    </tr>\n",
       "    <tr>\n",
       "      <th>2</th>\n",
       "      <td>False</td>\n",
       "      <td>False</td>\n",
       "      <td>False</td>\n",
       "      <td>False</td>\n",
       "      <td>True</td>\n",
       "      <td>False</td>\n",
       "      <td>False</td>\n",
       "    </tr>\n",
       "  </tbody>\n",
       "</table>\n",
       "</div>"
      ],
      "text/plain": [
       "   Place  Temp_Jan  Temp_Jul  Language  Altitude  MeasureDate  Population\n",
       "0  False     False     False     False     False         True       False\n",
       "1  False     False     False     False     False         True       False\n",
       "2  False     False     False     False      True        False       False"
      ]
     },
     "execution_count": 38,
     "metadata": {},
     "output_type": "execute_result"
    }
   ],
   "source": [
    "pd.isnull(df).head(3)"
   ]
  },
  {
   "cell_type": "markdown",
   "metadata": {},
   "source": [
    "The cells that mention \"True\" are missing values. They only occur for *Altitude* and *MeasureDate*.\n",
    "It is also possible to inspect specific variables, just to avoid the output of the whole datasheet. "
   ]
  },
  {
   "cell_type": "code",
   "execution_count": 39,
   "metadata": {},
   "outputs": [
    {
     "data": {
      "text/plain": [
       "0    False\n",
       "1    False\n",
       "2     True\n",
       "3    False\n",
       "4    False\n",
       "Name: Altitude, dtype: bool"
      ]
     },
     "execution_count": 39,
     "metadata": {},
     "output_type": "execute_result"
    }
   ],
   "source": [
    "pd.isnull(df['Altitude']).head(5)"
   ]
  },
  {
   "cell_type": "markdown",
   "metadata": {},
   "source": [
    "There is a simple way to check the *number* of missing values per variable, using the <font color=\"blue\">is.null</font> function."
   ]
  },
  {
   "cell_type": "code",
   "execution_count": 40,
   "metadata": {},
   "outputs": [
    {
     "data": {
      "text/plain": [
       "Place           0\n",
       "Temp_Jan        0\n",
       "Temp_Jul        0\n",
       "Language        0\n",
       "Altitude        6\n",
       "MeasureDate    14\n",
       "Population      0\n",
       "dtype: int64"
      ]
     },
     "execution_count": 40,
     "metadata": {},
     "output_type": "execute_result"
    }
   ],
   "source": [
    "df.isnull().sum()"
   ]
  },
  {
   "cell_type": "markdown",
   "metadata": {},
   "source": [
    "The inverse is also possible, that is counting the number of nonmissing values."
   ]
  },
  {
   "cell_type": "code",
   "execution_count": 41,
   "metadata": {},
   "outputs": [
    {
     "data": {
      "text/plain": [
       "Place          23\n",
       "Temp_Jan       23\n",
       "Temp_Jul       23\n",
       "Language       23\n",
       "Altitude       17\n",
       "MeasureDate     9\n",
       "Population     23\n",
       "dtype: int64"
      ]
     },
     "execution_count": 41,
     "metadata": {},
     "output_type": "execute_result"
    }
   ],
   "source": [
    "df.count()"
   ]
  },
  {
   "cell_type": "markdown",
   "metadata": {},
   "source": [
    "Statistics could be computed while ignoring the missing values. Another possibility is to drop the row(s) that contains *any* missing value, using <font color=\"gray\">df.dropna(how='any')</font>. If you put <font color=\"gray\">how='all'</font> it will only drop the row(s) if all values are missing. Note that only writing it to <font color=\"red\">df</font> will change the DataFrame. So if <font color=\"gray\">df = df.dropna(how='any')</font> were used, the DataFrame <font color=\"red\">df</font> would have changed."
   ]
  },
  {
   "cell_type": "code",
   "execution_count": 42,
   "metadata": {},
   "outputs": [
    {
     "data": {
      "text/html": [
       "<div>\n",
       "<style scoped>\n",
       "    .dataframe tbody tr th:only-of-type {\n",
       "        vertical-align: middle;\n",
       "    }\n",
       "\n",
       "    .dataframe tbody tr th {\n",
       "        vertical-align: top;\n",
       "    }\n",
       "\n",
       "    .dataframe thead th {\n",
       "        text-align: right;\n",
       "    }\n",
       "</style>\n",
       "<table border=\"1\" class=\"dataframe\">\n",
       "  <thead>\n",
       "    <tr style=\"text-align: right;\">\n",
       "      <th></th>\n",
       "      <th>Place</th>\n",
       "      <th>Temp_Jan</th>\n",
       "      <th>Temp_Jul</th>\n",
       "      <th>Language</th>\n",
       "      <th>Altitude</th>\n",
       "      <th>MeasureDate</th>\n",
       "      <th>Population</th>\n",
       "    </tr>\n",
       "  </thead>\n",
       "  <tbody>\n",
       "    <tr>\n",
       "      <th>3</th>\n",
       "      <td>Geneva</td>\n",
       "      <td>1.5</td>\n",
       "      <td>20.2</td>\n",
       "      <td>French</td>\n",
       "      <td>375.0</td>\n",
       "      <td>2015-01-12</td>\n",
       "      <td>198072</td>\n",
       "    </tr>\n",
       "    <tr>\n",
       "      <th>4</th>\n",
       "      <td>Munich</td>\n",
       "      <td>0.3</td>\n",
       "      <td>19.4</td>\n",
       "      <td>German</td>\n",
       "      <td>520.0</td>\n",
       "      <td>2015-12-31</td>\n",
       "      <td>1450381</td>\n",
       "    </tr>\n",
       "    <tr>\n",
       "      <th>6</th>\n",
       "      <td>Vienna</td>\n",
       "      <td>1.2</td>\n",
       "      <td>19.1</td>\n",
       "      <td>German</td>\n",
       "      <td>542.0</td>\n",
       "      <td>2017-01-01</td>\n",
       "      <td>2600000</td>\n",
       "    </tr>\n",
       "    <tr>\n",
       "      <th>8</th>\n",
       "      <td>Oslo</td>\n",
       "      <td>-2.9</td>\n",
       "      <td>17.7</td>\n",
       "      <td>Norwegian</td>\n",
       "      <td>23.0</td>\n",
       "      <td>2016-01-01</td>\n",
       "      <td>942084</td>\n",
       "    </tr>\n",
       "    <tr>\n",
       "      <th>10</th>\n",
       "      <td>Lulea</td>\n",
       "      <td>-5.1</td>\n",
       "      <td>20.7</td>\n",
       "      <td>Swedish</td>\n",
       "      <td>6.0</td>\n",
       "      <td>2014-12-31</td>\n",
       "      <td>75966</td>\n",
       "    </tr>\n",
       "    <tr>\n",
       "      <th>22</th>\n",
       "      <td>Istanbul</td>\n",
       "      <td>5.7</td>\n",
       "      <td>22.9</td>\n",
       "      <td>Turkish</td>\n",
       "      <td>39.0</td>\n",
       "      <td>2016-12-31</td>\n",
       "      <td>14657434</td>\n",
       "    </tr>\n",
       "  </tbody>\n",
       "</table>\n",
       "</div>"
      ],
      "text/plain": [
       "       Place  Temp_Jan  Temp_Jul   Language  Altitude MeasureDate  Population\n",
       "3     Geneva       1.5      20.2     French     375.0  2015-01-12      198072\n",
       "4     Munich       0.3      19.4     German     520.0  2015-12-31     1450381\n",
       "6     Vienna       1.2      19.1     German     542.0  2017-01-01     2600000\n",
       "8       Oslo      -2.9      17.7  Norwegian      23.0  2016-01-01      942084\n",
       "10     Lulea      -5.1      20.7    Swedish       6.0  2014-12-31       75966\n",
       "22  Istanbul       5.7      22.9    Turkish      39.0  2016-12-31    14657434"
      ]
     },
     "execution_count": 42,
     "metadata": {},
     "output_type": "execute_result"
    }
   ],
   "source": [
    "df.dropna(how='any')"
   ]
  },
  {
   "cell_type": "markdown",
   "metadata": {},
   "source": [
    "Missing values are automatically omitted from summary statistics, such as <font color=\"blue\">describe()</font>."
   ]
  },
  {
   "cell_type": "code",
   "execution_count": 43,
   "metadata": {},
   "outputs": [
    {
     "data": {
      "text/plain": [
       "count     17.000000\n",
       "mean     122.941176\n",
       "std      191.653160\n",
       "min       -2.000000\n",
       "25%        1.000000\n",
       "50%       23.000000\n",
       "75%      140.000000\n",
       "max      542.000000\n",
       "Name: Altitude, dtype: float64"
      ]
     },
     "execution_count": 43,
     "metadata": {},
     "output_type": "execute_result"
    }
   ],
   "source": [
    "df['Altitude'].describe()"
   ]
  },
  {
   "cell_type": "markdown",
   "metadata": {},
   "source": [
    "It is possible to replace values with NaNs that fulfill a certain condition, for example if *Altitude* is larger than 500 m. It is adviced to refrain from using chain indices, such as <font color=\"gray\">df['Altitude'][df['Altitude']>350]=np.nan</font><sup>6</sup>"
   ]
  },
  {
   "cell_type": "code",
   "execution_count": 44,
   "metadata": {},
   "outputs": [],
   "source": [
    "df.loc[df['Altitude']>350, 'Altitude'] = np.nan "
   ]
  },
  {
   "cell_type": "code",
   "execution_count": 45,
   "metadata": {},
   "outputs": [
    {
     "data": {
      "text/plain": [
       "0      -2.0\n",
       "1      12.0\n",
       "2       NaN\n",
       "3       NaN\n",
       "4       NaN\n",
       "5     338.0\n",
       "6       NaN\n",
       "7       0.0\n",
       "8      23.0\n",
       "9       NaN\n",
       "10      6.0\n",
       "11     47.0\n",
       "12    140.0\n",
       "13      NaN\n",
       "14      NaN\n",
       "15      NaN\n",
       "16      NaN\n",
       "17     11.0\n",
       "18      0.0\n",
       "19      1.0\n",
       "20     38.0\n",
       "21      0.0\n",
       "22     39.0\n",
       "Name: Altitude, dtype: float64"
      ]
     },
     "execution_count": 45,
     "metadata": {},
     "output_type": "execute_result"
    }
   ],
   "source": [
    "df['Altitude']"
   ]
  },
  {
   "cell_type": "markdown",
   "metadata": {},
   "source": [
    "[<font color=\"gray\">▲▲▲</font>](#contents)"
   ]
  },
  {
   "cell_type": "markdown",
   "metadata": {},
   "source": [
    "## **<a name=\"q10\">10. Sorting the DataFrame</a>**"
   ]
  },
  {
   "cell_type": "markdown",
   "metadata": {},
   "source": [
    "The columns of a DataFrame can be alphabetically sorted on the column name. For this we use <font color=\"blue\">sort_index</font> with <font color=\"blue\">axis=1</font>, and <font color=\"blue\">ascending=True</font>."
   ]
  },
  {
   "cell_type": "code",
   "execution_count": 46,
   "metadata": {},
   "outputs": [
    {
     "data": {
      "text/html": [
       "<div>\n",
       "<style scoped>\n",
       "    .dataframe tbody tr th:only-of-type {\n",
       "        vertical-align: middle;\n",
       "    }\n",
       "\n",
       "    .dataframe tbody tr th {\n",
       "        vertical-align: top;\n",
       "    }\n",
       "\n",
       "    .dataframe thead th {\n",
       "        text-align: right;\n",
       "    }\n",
       "</style>\n",
       "<table border=\"1\" class=\"dataframe\">\n",
       "  <thead>\n",
       "    <tr style=\"text-align: right;\">\n",
       "      <th></th>\n",
       "      <th>Altitude</th>\n",
       "      <th>Language</th>\n",
       "      <th>MeasureDate</th>\n",
       "      <th>Place</th>\n",
       "      <th>Population</th>\n",
       "      <th>Temp_Jan</th>\n",
       "      <th>Temp_Jul</th>\n",
       "    </tr>\n",
       "  </thead>\n",
       "  <tbody>\n",
       "    <tr>\n",
       "      <th>0</th>\n",
       "      <td>-2.0</td>\n",
       "      <td>Dutch</td>\n",
       "      <td>NaT</td>\n",
       "      <td>Amsterdam</td>\n",
       "      <td>1351587</td>\n",
       "      <td>3.4</td>\n",
       "      <td>17.6</td>\n",
       "    </tr>\n",
       "    <tr>\n",
       "      <th>1</th>\n",
       "      <td>12.0</td>\n",
       "      <td>Catalan and Spanish</td>\n",
       "      <td>NaT</td>\n",
       "      <td>Barcelona</td>\n",
       "      <td>4740000</td>\n",
       "      <td>11.8</td>\n",
       "      <td>25.7</td>\n",
       "    </tr>\n",
       "    <tr>\n",
       "      <th>2</th>\n",
       "      <td>NaN</td>\n",
       "      <td>French</td>\n",
       "      <td>2013-01-01</td>\n",
       "      <td>Paris</td>\n",
       "      <td>10601122</td>\n",
       "      <td>5.0</td>\n",
       "      <td>20.6</td>\n",
       "    </tr>\n",
       "  </tbody>\n",
       "</table>\n",
       "</div>"
      ],
      "text/plain": [
       "   Altitude             Language MeasureDate      Place  Population  Temp_Jan  \\\n",
       "0      -2.0                Dutch         NaT  Amsterdam     1351587       3.4   \n",
       "1      12.0  Catalan and Spanish         NaT  Barcelona     4740000      11.8   \n",
       "2       NaN               French  2013-01-01      Paris    10601122       5.0   \n",
       "\n",
       "   Temp_Jul  \n",
       "0      17.6  \n",
       "1      25.7  \n",
       "2      20.6  "
      ]
     },
     "execution_count": 46,
     "metadata": {},
     "output_type": "execute_result"
    }
   ],
   "source": [
    "df.sort_index(axis=1, ascending=True).head(3)"
   ]
  },
  {
   "cell_type": "markdown",
   "metadata": {},
   "source": [
    "It is also possible to sort the rows based on a certain column, using <font color=\"blue\">sort_values</font>. If the column is a string, it is sorted alphabetically. If the column is numeric, it is ranked according to value. For example, in the following the DataFrame is sorted alphabetically on *Place*, and the result is written to <font color=\"red\">df</font>."
   ]
  },
  {
   "cell_type": "code",
   "execution_count": 47,
   "metadata": {},
   "outputs": [],
   "source": [
    "df = df.sort_values(by='Place')"
   ]
  },
  {
   "cell_type": "markdown",
   "metadata": {},
   "source": [
    "Displaying the first five rows we can confirm that the sorting worked."
   ]
  },
  {
   "cell_type": "code",
   "execution_count": 48,
   "metadata": {},
   "outputs": [
    {
     "data": {
      "text/html": [
       "<div>\n",
       "<style scoped>\n",
       "    .dataframe tbody tr th:only-of-type {\n",
       "        vertical-align: middle;\n",
       "    }\n",
       "\n",
       "    .dataframe tbody tr th {\n",
       "        vertical-align: top;\n",
       "    }\n",
       "\n",
       "    .dataframe thead th {\n",
       "        text-align: right;\n",
       "    }\n",
       "</style>\n",
       "<table border=\"1\" class=\"dataframe\">\n",
       "  <thead>\n",
       "    <tr style=\"text-align: right;\">\n",
       "      <th></th>\n",
       "      <th>Place</th>\n",
       "      <th>Temp_Jan</th>\n",
       "      <th>Temp_Jul</th>\n",
       "      <th>Language</th>\n",
       "      <th>Altitude</th>\n",
       "      <th>MeasureDate</th>\n",
       "      <th>Population</th>\n",
       "    </tr>\n",
       "  </thead>\n",
       "  <tbody>\n",
       "    <tr>\n",
       "      <th>20</th>\n",
       "      <td>Ajaccio</td>\n",
       "      <td>9.0</td>\n",
       "      <td>22.9</td>\n",
       "      <td>French</td>\n",
       "      <td>38.0</td>\n",
       "      <td>NaT</td>\n",
       "      <td>68587</td>\n",
       "    </tr>\n",
       "    <tr>\n",
       "      <th>0</th>\n",
       "      <td>Amsterdam</td>\n",
       "      <td>3.4</td>\n",
       "      <td>17.6</td>\n",
       "      <td>Dutch</td>\n",
       "      <td>-2.0</td>\n",
       "      <td>NaT</td>\n",
       "      <td>1351587</td>\n",
       "    </tr>\n",
       "    <tr>\n",
       "      <th>14</th>\n",
       "      <td>Antwerp</td>\n",
       "      <td>3.4</td>\n",
       "      <td>18.5</td>\n",
       "      <td>Dutch</td>\n",
       "      <td>NaN</td>\n",
       "      <td>2016-01-01</td>\n",
       "      <td>517042</td>\n",
       "    </tr>\n",
       "    <tr>\n",
       "      <th>5</th>\n",
       "      <td>Athens</td>\n",
       "      <td>9.9</td>\n",
       "      <td>28.5</td>\n",
       "      <td>Greek</td>\n",
       "      <td>338.0</td>\n",
       "      <td>NaT</td>\n",
       "      <td>3090508</td>\n",
       "    </tr>\n",
       "    <tr>\n",
       "      <th>1</th>\n",
       "      <td>Barcelona</td>\n",
       "      <td>11.8</td>\n",
       "      <td>25.7</td>\n",
       "      <td>Catalan and Spanish</td>\n",
       "      <td>12.0</td>\n",
       "      <td>NaT</td>\n",
       "      <td>4740000</td>\n",
       "    </tr>\n",
       "  </tbody>\n",
       "</table>\n",
       "</div>"
      ],
      "text/plain": [
       "        Place  Temp_Jan  Temp_Jul             Language  Altitude MeasureDate  \\\n",
       "20    Ajaccio       9.0      22.9               French      38.0         NaT   \n",
       "0   Amsterdam       3.4      17.6                Dutch      -2.0         NaT   \n",
       "14    Antwerp       3.4      18.5                Dutch       NaN  2016-01-01   \n",
       "5      Athens       9.9      28.5                Greek     338.0         NaT   \n",
       "1   Barcelona      11.8      25.7  Catalan and Spanish      12.0         NaT   \n",
       "\n",
       "    Population  \n",
       "20       68587  \n",
       "0      1351587  \n",
       "14      517042  \n",
       "5      3090508  \n",
       "1      4740000  "
      ]
     },
     "execution_count": 48,
     "metadata": {},
     "output_type": "execute_result"
    }
   ],
   "source": [
    "df.head(5)"
   ]
  },
  {
   "cell_type": "markdown",
   "metadata": {},
   "source": [
    "[<font color=\"gray\">▲▲▲</font>](#contents)"
   ]
  },
  {
   "cell_type": "markdown",
   "metadata": {},
   "source": [
    "## **<a name=\"q11\">11. Data selection by position</a>**"
   ]
  },
  {
   "cell_type": "markdown",
   "metadata": {},
   "source": [
    "It is sometimes important to inspect specific cells. For example, if you need to look up the data that is in the first row, first column, you could do the following:"
   ]
  },
  {
   "cell_type": "code",
   "execution_count": 49,
   "metadata": {},
   "outputs": [
    {
     "data": {
      "text/plain": [
       "'Ajaccio'"
      ]
     },
     "execution_count": 49,
     "metadata": {},
     "output_type": "execute_result"
    }
   ],
   "source": [
    "df.iloc[0,0]"
   ]
  },
  {
   "cell_type": "markdown",
   "metadata": {},
   "source": [
    "If you want to have multiple rows and columns, the following can be done:"
   ]
  },
  {
   "cell_type": "code",
   "execution_count": 50,
   "metadata": {},
   "outputs": [
    {
     "data": {
      "text/html": [
       "<div>\n",
       "<style scoped>\n",
       "    .dataframe tbody tr th:only-of-type {\n",
       "        vertical-align: middle;\n",
       "    }\n",
       "\n",
       "    .dataframe tbody tr th {\n",
       "        vertical-align: top;\n",
       "    }\n",
       "\n",
       "    .dataframe thead th {\n",
       "        text-align: right;\n",
       "    }\n",
       "</style>\n",
       "<table border=\"1\" class=\"dataframe\">\n",
       "  <thead>\n",
       "    <tr style=\"text-align: right;\">\n",
       "      <th></th>\n",
       "      <th>Place</th>\n",
       "      <th>Temp_Jan</th>\n",
       "    </tr>\n",
       "  </thead>\n",
       "  <tbody>\n",
       "    <tr>\n",
       "      <th>20</th>\n",
       "      <td>Ajaccio</td>\n",
       "      <td>9.0</td>\n",
       "    </tr>\n",
       "    <tr>\n",
       "      <th>0</th>\n",
       "      <td>Amsterdam</td>\n",
       "      <td>3.4</td>\n",
       "    </tr>\n",
       "    <tr>\n",
       "      <th>14</th>\n",
       "      <td>Antwerp</td>\n",
       "      <td>3.4</td>\n",
       "    </tr>\n",
       "  </tbody>\n",
       "</table>\n",
       "</div>"
      ],
      "text/plain": [
       "        Place  Temp_Jan\n",
       "20    Ajaccio       9.0\n",
       "0   Amsterdam       3.4\n",
       "14    Antwerp       3.4"
      ]
     },
     "execution_count": 50,
     "metadata": {},
     "output_type": "execute_result"
    }
   ],
   "source": [
    "df.iloc[:3,:2]"
   ]
  },
  {
   "cell_type": "markdown",
   "metadata": {},
   "source": [
    "Select rows within a given range, for example first till fourth column, and second till third row."
   ]
  },
  {
   "cell_type": "code",
   "execution_count": 51,
   "metadata": {},
   "outputs": [
    {
     "data": {
      "text/html": [
       "<div>\n",
       "<style scoped>\n",
       "    .dataframe tbody tr th:only-of-type {\n",
       "        vertical-align: middle;\n",
       "    }\n",
       "\n",
       "    .dataframe tbody tr th {\n",
       "        vertical-align: top;\n",
       "    }\n",
       "\n",
       "    .dataframe thead th {\n",
       "        text-align: right;\n",
       "    }\n",
       "</style>\n",
       "<table border=\"1\" class=\"dataframe\">\n",
       "  <thead>\n",
       "    <tr style=\"text-align: right;\">\n",
       "      <th></th>\n",
       "      <th>Place</th>\n",
       "      <th>Temp_Jan</th>\n",
       "      <th>Temp_Jul</th>\n",
       "      <th>Language</th>\n",
       "    </tr>\n",
       "  </thead>\n",
       "  <tbody>\n",
       "    <tr>\n",
       "      <th>0</th>\n",
       "      <td>Amsterdam</td>\n",
       "      <td>3.4</td>\n",
       "      <td>17.6</td>\n",
       "      <td>Dutch</td>\n",
       "    </tr>\n",
       "    <tr>\n",
       "      <th>14</th>\n",
       "      <td>Antwerp</td>\n",
       "      <td>3.4</td>\n",
       "      <td>18.5</td>\n",
       "      <td>Dutch</td>\n",
       "    </tr>\n",
       "  </tbody>\n",
       "</table>\n",
       "</div>"
      ],
      "text/plain": [
       "        Place  Temp_Jan  Temp_Jul Language\n",
       "0   Amsterdam       3.4      17.6    Dutch\n",
       "14    Antwerp       3.4      18.5    Dutch"
      ]
     },
     "execution_count": 51,
     "metadata": {},
     "output_type": "execute_result"
    }
   ],
   "source": [
    "df.iloc[1:3,0:4]"
   ]
  },
  {
   "cell_type": "markdown",
   "metadata": {},
   "source": [
    "For selecting certain columns, but switching the position of the second and third"
   ]
  },
  {
   "cell_type": "code",
   "execution_count": 52,
   "metadata": {},
   "outputs": [
    {
     "data": {
      "text/html": [
       "<div>\n",
       "<style scoped>\n",
       "    .dataframe tbody tr th:only-of-type {\n",
       "        vertical-align: middle;\n",
       "    }\n",
       "\n",
       "    .dataframe tbody tr th {\n",
       "        vertical-align: top;\n",
       "    }\n",
       "\n",
       "    .dataframe thead th {\n",
       "        text-align: right;\n",
       "    }\n",
       "</style>\n",
       "<table border=\"1\" class=\"dataframe\">\n",
       "  <thead>\n",
       "    <tr style=\"text-align: right;\">\n",
       "      <th></th>\n",
       "      <th>Temp_Jan</th>\n",
       "      <th>Language</th>\n",
       "      <th>Temp_Jul</th>\n",
       "    </tr>\n",
       "  </thead>\n",
       "  <tbody>\n",
       "    <tr>\n",
       "      <th>20</th>\n",
       "      <td>9.0</td>\n",
       "      <td>French</td>\n",
       "      <td>22.9</td>\n",
       "    </tr>\n",
       "    <tr>\n",
       "      <th>0</th>\n",
       "      <td>3.4</td>\n",
       "      <td>Dutch</td>\n",
       "      <td>17.6</td>\n",
       "    </tr>\n",
       "    <tr>\n",
       "      <th>14</th>\n",
       "      <td>3.4</td>\n",
       "      <td>Dutch</td>\n",
       "      <td>18.5</td>\n",
       "    </tr>\n",
       "    <tr>\n",
       "      <th>5</th>\n",
       "      <td>9.9</td>\n",
       "      <td>Greek</td>\n",
       "      <td>28.5</td>\n",
       "    </tr>\n",
       "    <tr>\n",
       "      <th>1</th>\n",
       "      <td>11.8</td>\n",
       "      <td>Catalan and Spanish</td>\n",
       "      <td>25.7</td>\n",
       "    </tr>\n",
       "  </tbody>\n",
       "</table>\n",
       "</div>"
      ],
      "text/plain": [
       "    Temp_Jan             Language  Temp_Jul\n",
       "20       9.0               French      22.9\n",
       "0        3.4                Dutch      17.6\n",
       "14       3.4                Dutch      18.5\n",
       "5        9.9                Greek      28.5\n",
       "1       11.8  Catalan and Spanish      25.7"
      ]
     },
     "execution_count": 52,
     "metadata": {},
     "output_type": "execute_result"
    }
   ],
   "source": [
    "df.iloc[:,[1,3,2]].head(5)"
   ]
  },
  {
   "cell_type": "markdown",
   "metadata": {},
   "source": [
    "[<font color=\"gray\">▲▲▲</font>](#contents)"
   ]
  },
  {
   "cell_type": "markdown",
   "metadata": {},
   "source": [
    "## **<a name=\"q12\">12. Conditional data selection</a>**"
   ]
  },
  {
   "cell_type": "markdown",
   "metadata": {},
   "source": [
    "There are circumstances in which you'd only want to select cases that fulfill a certain condition.\n",
    "The following only selects data if the average temperature in January is higher than 9 degrees Celsius:"
   ]
  },
  {
   "cell_type": "code",
   "execution_count": 53,
   "metadata": {},
   "outputs": [
    {
     "data": {
      "text/html": [
       "<div>\n",
       "<style scoped>\n",
       "    .dataframe tbody tr th:only-of-type {\n",
       "        vertical-align: middle;\n",
       "    }\n",
       "\n",
       "    .dataframe tbody tr th {\n",
       "        vertical-align: top;\n",
       "    }\n",
       "\n",
       "    .dataframe thead th {\n",
       "        text-align: right;\n",
       "    }\n",
       "</style>\n",
       "<table border=\"1\" class=\"dataframe\">\n",
       "  <thead>\n",
       "    <tr style=\"text-align: right;\">\n",
       "      <th></th>\n",
       "      <th>Place</th>\n",
       "      <th>Temp_Jan</th>\n",
       "      <th>Temp_Jul</th>\n",
       "      <th>Language</th>\n",
       "      <th>Altitude</th>\n",
       "      <th>MeasureDate</th>\n",
       "      <th>Population</th>\n",
       "    </tr>\n",
       "  </thead>\n",
       "  <tbody>\n",
       "    <tr>\n",
       "      <th>5</th>\n",
       "      <td>Athens</td>\n",
       "      <td>9.9</td>\n",
       "      <td>28.5</td>\n",
       "      <td>Greek</td>\n",
       "      <td>338.0</td>\n",
       "      <td>NaT</td>\n",
       "      <td>3090508</td>\n",
       "    </tr>\n",
       "    <tr>\n",
       "      <th>1</th>\n",
       "      <td>Barcelona</td>\n",
       "      <td>11.8</td>\n",
       "      <td>25.7</td>\n",
       "      <td>Catalan and Spanish</td>\n",
       "      <td>12.0</td>\n",
       "      <td>NaT</td>\n",
       "      <td>4740000</td>\n",
       "    </tr>\n",
       "    <tr>\n",
       "      <th>17</th>\n",
       "      <td>Malaga</td>\n",
       "      <td>12.1</td>\n",
       "      <td>25.5</td>\n",
       "      <td>Spanish</td>\n",
       "      <td>11.0</td>\n",
       "      <td>NaT</td>\n",
       "      <td>569130</td>\n",
       "    </tr>\n",
       "    <tr>\n",
       "      <th>18</th>\n",
       "      <td>Porto</td>\n",
       "      <td>9.5</td>\n",
       "      <td>20.6</td>\n",
       "      <td>Portuguese</td>\n",
       "      <td>0.0</td>\n",
       "      <td>NaT</td>\n",
       "      <td>1774000</td>\n",
       "    </tr>\n",
       "  </tbody>\n",
       "</table>\n",
       "</div>"
      ],
      "text/plain": [
       "        Place  Temp_Jan  Temp_Jul             Language  Altitude MeasureDate  \\\n",
       "5      Athens       9.9      28.5                Greek     338.0         NaT   \n",
       "1   Barcelona      11.8      25.7  Catalan and Spanish      12.0         NaT   \n",
       "17     Malaga      12.1      25.5              Spanish      11.0         NaT   \n",
       "18      Porto       9.5      20.6           Portuguese       0.0         NaT   \n",
       "\n",
       "    Population  \n",
       "5      3090508  \n",
       "1      4740000  \n",
       "17      569130  \n",
       "18     1774000  "
      ]
     },
     "execution_count": 53,
     "metadata": {},
     "output_type": "execute_result"
    }
   ],
   "source": [
    "df[df.Temp_Jan > 9]"
   ]
  },
  {
   "cell_type": "markdown",
   "metadata": {},
   "source": [
    "Select cases where the average July temperature was equal to 28.5."
   ]
  },
  {
   "cell_type": "code",
   "execution_count": 54,
   "metadata": {},
   "outputs": [
    {
     "data": {
      "text/html": [
       "<div>\n",
       "<style scoped>\n",
       "    .dataframe tbody tr th:only-of-type {\n",
       "        vertical-align: middle;\n",
       "    }\n",
       "\n",
       "    .dataframe tbody tr th {\n",
       "        vertical-align: top;\n",
       "    }\n",
       "\n",
       "    .dataframe thead th {\n",
       "        text-align: right;\n",
       "    }\n",
       "</style>\n",
       "<table border=\"1\" class=\"dataframe\">\n",
       "  <thead>\n",
       "    <tr style=\"text-align: right;\">\n",
       "      <th></th>\n",
       "      <th>Place</th>\n",
       "      <th>Temp_Jan</th>\n",
       "      <th>Temp_Jul</th>\n",
       "      <th>Language</th>\n",
       "      <th>Altitude</th>\n",
       "      <th>MeasureDate</th>\n",
       "      <th>Population</th>\n",
       "    </tr>\n",
       "  </thead>\n",
       "  <tbody>\n",
       "    <tr>\n",
       "      <th>5</th>\n",
       "      <td>Athens</td>\n",
       "      <td>9.9</td>\n",
       "      <td>28.5</td>\n",
       "      <td>Greek</td>\n",
       "      <td>338.0</td>\n",
       "      <td>NaT</td>\n",
       "      <td>3090508</td>\n",
       "    </tr>\n",
       "  </tbody>\n",
       "</table>\n",
       "</div>"
      ],
      "text/plain": [
       "    Place  Temp_Jan  Temp_Jul Language  Altitude MeasureDate  Population\n",
       "5  Athens       9.9      28.5    Greek     338.0         NaT     3090508"
      ]
     },
     "execution_count": 54,
     "metadata": {},
     "output_type": "execute_result"
    }
   ],
   "source": [
    "df[df.Temp_Jul == 28.5]"
   ]
  },
  {
   "cell_type": "markdown",
   "metadata": {},
   "source": [
    "Select cases if July temperature was unequal to 28.5."
   ]
  },
  {
   "cell_type": "code",
   "execution_count": 55,
   "metadata": {},
   "outputs": [
    {
     "data": {
      "text/html": [
       "<div>\n",
       "<style scoped>\n",
       "    .dataframe tbody tr th:only-of-type {\n",
       "        vertical-align: middle;\n",
       "    }\n",
       "\n",
       "    .dataframe tbody tr th {\n",
       "        vertical-align: top;\n",
       "    }\n",
       "\n",
       "    .dataframe thead th {\n",
       "        text-align: right;\n",
       "    }\n",
       "</style>\n",
       "<table border=\"1\" class=\"dataframe\">\n",
       "  <thead>\n",
       "    <tr style=\"text-align: right;\">\n",
       "      <th></th>\n",
       "      <th>Place</th>\n",
       "      <th>Temp_Jan</th>\n",
       "      <th>Temp_Jul</th>\n",
       "      <th>Language</th>\n",
       "      <th>Altitude</th>\n",
       "      <th>MeasureDate</th>\n",
       "      <th>Population</th>\n",
       "    </tr>\n",
       "  </thead>\n",
       "  <tbody>\n",
       "    <tr>\n",
       "      <th>20</th>\n",
       "      <td>Ajaccio</td>\n",
       "      <td>9.0</td>\n",
       "      <td>22.9</td>\n",
       "      <td>French</td>\n",
       "      <td>38.0</td>\n",
       "      <td>NaT</td>\n",
       "      <td>68587</td>\n",
       "    </tr>\n",
       "    <tr>\n",
       "      <th>0</th>\n",
       "      <td>Amsterdam</td>\n",
       "      <td>3.4</td>\n",
       "      <td>17.6</td>\n",
       "      <td>Dutch</td>\n",
       "      <td>-2.0</td>\n",
       "      <td>NaT</td>\n",
       "      <td>1351587</td>\n",
       "    </tr>\n",
       "    <tr>\n",
       "      <th>14</th>\n",
       "      <td>Antwerp</td>\n",
       "      <td>3.4</td>\n",
       "      <td>18.5</td>\n",
       "      <td>Dutch</td>\n",
       "      <td>NaN</td>\n",
       "      <td>2016-01-01</td>\n",
       "      <td>517042</td>\n",
       "    </tr>\n",
       "  </tbody>\n",
       "</table>\n",
       "</div>"
      ],
      "text/plain": [
       "        Place  Temp_Jan  Temp_Jul Language  Altitude MeasureDate  Population\n",
       "20    Ajaccio       9.0      22.9   French      38.0         NaT       68587\n",
       "0   Amsterdam       3.4      17.6    Dutch      -2.0         NaT     1351587\n",
       "14    Antwerp       3.4      18.5    Dutch       NaN  2016-01-01      517042"
      ]
     },
     "execution_count": 55,
     "metadata": {},
     "output_type": "execute_result"
    }
   ],
   "source": [
    "df[df.Temp_Jul != 28.5].head(3)"
   ]
  },
  {
   "cell_type": "markdown",
   "metadata": {},
   "source": [
    "It is also possible to select data that fulfill *multiple* conditions, for example cities where the January temperature is larger than 5 *and* the July temperature is smaller than 17 degrees Celsius."
   ]
  },
  {
   "cell_type": "code",
   "execution_count": 56,
   "metadata": {},
   "outputs": [
    {
     "data": {
      "text/html": [
       "<div>\n",
       "<style scoped>\n",
       "    .dataframe tbody tr th:only-of-type {\n",
       "        vertical-align: middle;\n",
       "    }\n",
       "\n",
       "    .dataframe tbody tr th {\n",
       "        vertical-align: top;\n",
       "    }\n",
       "\n",
       "    .dataframe thead th {\n",
       "        text-align: right;\n",
       "    }\n",
       "</style>\n",
       "<table border=\"1\" class=\"dataframe\">\n",
       "  <thead>\n",
       "    <tr style=\"text-align: right;\">\n",
       "      <th></th>\n",
       "      <th>Place</th>\n",
       "      <th>Temp_Jan</th>\n",
       "      <th>Temp_Jul</th>\n",
       "      <th>Language</th>\n",
       "      <th>Altitude</th>\n",
       "      <th>MeasureDate</th>\n",
       "      <th>Population</th>\n",
       "    </tr>\n",
       "  </thead>\n",
       "  <tbody>\n",
       "    <tr>\n",
       "      <th>13</th>\n",
       "      <td>Cork</td>\n",
       "      <td>5.6</td>\n",
       "      <td>15.3</td>\n",
       "      <td>English</td>\n",
       "      <td>NaN</td>\n",
       "      <td>NaT</td>\n",
       "      <td>208669</td>\n",
       "    </tr>\n",
       "  </tbody>\n",
       "</table>\n",
       "</div>"
      ],
      "text/plain": [
       "   Place  Temp_Jan  Temp_Jul Language  Altitude MeasureDate  Population\n",
       "13  Cork       5.6      15.3  English       NaN         NaT      208669"
      ]
     },
     "execution_count": 56,
     "metadata": {},
     "output_type": "execute_result"
    }
   ],
   "source": [
    "df[(df.Temp_Jan > 5) & (df.Temp_Jul < 17)]"
   ]
  },
  {
   "cell_type": "markdown",
   "metadata": {},
   "source": [
    "The following selects the data if *either* January temperature is larger than 5 *or* July temperature is smaller than 17. Note that Cork is not selected in this case, since it fulfills both conditions."
   ]
  },
  {
   "cell_type": "code",
   "execution_count": 57,
   "metadata": {},
   "outputs": [
    {
     "data": {
      "text/html": [
       "<div>\n",
       "<style scoped>\n",
       "    .dataframe tbody tr th:only-of-type {\n",
       "        vertical-align: middle;\n",
       "    }\n",
       "\n",
       "    .dataframe tbody tr th {\n",
       "        vertical-align: top;\n",
       "    }\n",
       "\n",
       "    .dataframe thead th {\n",
       "        text-align: right;\n",
       "    }\n",
       "</style>\n",
       "<table border=\"1\" class=\"dataframe\">\n",
       "  <thead>\n",
       "    <tr style=\"text-align: right;\">\n",
       "      <th></th>\n",
       "      <th>Place</th>\n",
       "      <th>Temp_Jan</th>\n",
       "      <th>Temp_Jul</th>\n",
       "      <th>Language</th>\n",
       "      <th>Altitude</th>\n",
       "      <th>MeasureDate</th>\n",
       "      <th>Population</th>\n",
       "    </tr>\n",
       "  </thead>\n",
       "  <tbody>\n",
       "    <tr>\n",
       "      <th>20</th>\n",
       "      <td>Ajaccio</td>\n",
       "      <td>9.0</td>\n",
       "      <td>22.9</td>\n",
       "      <td>French</td>\n",
       "      <td>38.0</td>\n",
       "      <td>NaT</td>\n",
       "      <td>68587</td>\n",
       "    </tr>\n",
       "    <tr>\n",
       "      <th>5</th>\n",
       "      <td>Athens</td>\n",
       "      <td>9.9</td>\n",
       "      <td>28.5</td>\n",
       "      <td>Greek</td>\n",
       "      <td>338.0</td>\n",
       "      <td>NaT</td>\n",
       "      <td>3090508</td>\n",
       "    </tr>\n",
       "    <tr>\n",
       "      <th>1</th>\n",
       "      <td>Barcelona</td>\n",
       "      <td>11.8</td>\n",
       "      <td>25.7</td>\n",
       "      <td>Catalan and Spanish</td>\n",
       "      <td>12.0</td>\n",
       "      <td>NaT</td>\n",
       "      <td>4740000</td>\n",
       "    </tr>\n",
       "    <tr>\n",
       "      <th>12</th>\n",
       "      <td>Birmingham</td>\n",
       "      <td>6.7</td>\n",
       "      <td>21.3</td>\n",
       "      <td>English</td>\n",
       "      <td>140.0</td>\n",
       "      <td>NaT</td>\n",
       "      <td>2440986</td>\n",
       "    </tr>\n",
       "    <tr>\n",
       "      <th>16</th>\n",
       "      <td>Bordeaux</td>\n",
       "      <td>6.6</td>\n",
       "      <td>21.4</td>\n",
       "      <td>French</td>\n",
       "      <td>NaN</td>\n",
       "      <td>NaT</td>\n",
       "      <td>851071</td>\n",
       "    </tr>\n",
       "    <tr>\n",
       "      <th>11</th>\n",
       "      <td>Edinburgh</td>\n",
       "      <td>7.0</td>\n",
       "      <td>19.1</td>\n",
       "      <td>English</td>\n",
       "      <td>47.0</td>\n",
       "      <td>NaT</td>\n",
       "      <td>1339380</td>\n",
       "    </tr>\n",
       "    <tr>\n",
       "      <th>22</th>\n",
       "      <td>Istanbul</td>\n",
       "      <td>5.7</td>\n",
       "      <td>22.9</td>\n",
       "      <td>Turkish</td>\n",
       "      <td>39.0</td>\n",
       "      <td>2016-12-31</td>\n",
       "      <td>14657434</td>\n",
       "    </tr>\n",
       "    <tr>\n",
       "      <th>17</th>\n",
       "      <td>Malaga</td>\n",
       "      <td>12.1</td>\n",
       "      <td>25.5</td>\n",
       "      <td>Spanish</td>\n",
       "      <td>11.0</td>\n",
       "      <td>NaT</td>\n",
       "      <td>569130</td>\n",
       "    </tr>\n",
       "    <tr>\n",
       "      <th>18</th>\n",
       "      <td>Porto</td>\n",
       "      <td>9.5</td>\n",
       "      <td>20.6</td>\n",
       "      <td>Portuguese</td>\n",
       "      <td>0.0</td>\n",
       "      <td>NaT</td>\n",
       "      <td>1774000</td>\n",
       "    </tr>\n",
       "    <tr>\n",
       "      <th>21</th>\n",
       "      <td>Rijeka</td>\n",
       "      <td>5.8</td>\n",
       "      <td>23.1</td>\n",
       "      <td>Croatian</td>\n",
       "      <td>0.0</td>\n",
       "      <td>NaT</td>\n",
       "      <td>213666</td>\n",
       "    </tr>\n",
       "  </tbody>\n",
       "</table>\n",
       "</div>"
      ],
      "text/plain": [
       "         Place  Temp_Jan  Temp_Jul             Language  Altitude MeasureDate  \\\n",
       "20     Ajaccio       9.0      22.9               French      38.0         NaT   \n",
       "5       Athens       9.9      28.5                Greek     338.0         NaT   \n",
       "1    Barcelona      11.8      25.7  Catalan and Spanish      12.0         NaT   \n",
       "12  Birmingham       6.7      21.3              English     140.0         NaT   \n",
       "16    Bordeaux       6.6      21.4               French       NaN         NaT   \n",
       "11   Edinburgh       7.0      19.1              English      47.0         NaT   \n",
       "22    Istanbul       5.7      22.9              Turkish      39.0  2016-12-31   \n",
       "17      Malaga      12.1      25.5              Spanish      11.0         NaT   \n",
       "18       Porto       9.5      20.6           Portuguese       0.0         NaT   \n",
       "21      Rijeka       5.8      23.1             Croatian       0.0         NaT   \n",
       "\n",
       "    Population  \n",
       "20       68587  \n",
       "5      3090508  \n",
       "1      4740000  \n",
       "12     2440986  \n",
       "16      851071  \n",
       "11     1339380  \n",
       "22    14657434  \n",
       "17      569130  \n",
       "18     1774000  \n",
       "21      213666  "
      ]
     },
     "execution_count": 57,
     "metadata": {},
     "output_type": "execute_result"
    }
   ],
   "source": [
    "df[(df.Temp_Jan > 5) ^ (df.Temp_Jul < 17)]"
   ]
  },
  {
   "cell_type": "markdown",
   "metadata": {},
   "source": [
    "The following includes the Cork case. It select the data if January temperature is larger than 5 *and/or* July temperature is smaller than 17. That, means it also includes those cases that fulfill both cases."
   ]
  },
  {
   "cell_type": "code",
   "execution_count": 58,
   "metadata": {},
   "outputs": [
    {
     "data": {
      "text/html": [
       "<div>\n",
       "<style scoped>\n",
       "    .dataframe tbody tr th:only-of-type {\n",
       "        vertical-align: middle;\n",
       "    }\n",
       "\n",
       "    .dataframe tbody tr th {\n",
       "        vertical-align: top;\n",
       "    }\n",
       "\n",
       "    .dataframe thead th {\n",
       "        text-align: right;\n",
       "    }\n",
       "</style>\n",
       "<table border=\"1\" class=\"dataframe\">\n",
       "  <thead>\n",
       "    <tr style=\"text-align: right;\">\n",
       "      <th></th>\n",
       "      <th>Place</th>\n",
       "      <th>Temp_Jan</th>\n",
       "      <th>Temp_Jul</th>\n",
       "      <th>Language</th>\n",
       "      <th>Altitude</th>\n",
       "      <th>MeasureDate</th>\n",
       "      <th>Population</th>\n",
       "    </tr>\n",
       "  </thead>\n",
       "  <tbody>\n",
       "    <tr>\n",
       "      <th>20</th>\n",
       "      <td>Ajaccio</td>\n",
       "      <td>9.0</td>\n",
       "      <td>22.9</td>\n",
       "      <td>French</td>\n",
       "      <td>38.0</td>\n",
       "      <td>NaT</td>\n",
       "      <td>68587</td>\n",
       "    </tr>\n",
       "    <tr>\n",
       "      <th>5</th>\n",
       "      <td>Athens</td>\n",
       "      <td>9.9</td>\n",
       "      <td>28.5</td>\n",
       "      <td>Greek</td>\n",
       "      <td>338.0</td>\n",
       "      <td>NaT</td>\n",
       "      <td>3090508</td>\n",
       "    </tr>\n",
       "    <tr>\n",
       "      <th>1</th>\n",
       "      <td>Barcelona</td>\n",
       "      <td>11.8</td>\n",
       "      <td>25.7</td>\n",
       "      <td>Catalan and Spanish</td>\n",
       "      <td>12.0</td>\n",
       "      <td>NaT</td>\n",
       "      <td>4740000</td>\n",
       "    </tr>\n",
       "    <tr>\n",
       "      <th>12</th>\n",
       "      <td>Birmingham</td>\n",
       "      <td>6.7</td>\n",
       "      <td>21.3</td>\n",
       "      <td>English</td>\n",
       "      <td>140.0</td>\n",
       "      <td>NaT</td>\n",
       "      <td>2440986</td>\n",
       "    </tr>\n",
       "    <tr>\n",
       "      <th>16</th>\n",
       "      <td>Bordeaux</td>\n",
       "      <td>6.6</td>\n",
       "      <td>21.4</td>\n",
       "      <td>French</td>\n",
       "      <td>NaN</td>\n",
       "      <td>NaT</td>\n",
       "      <td>851071</td>\n",
       "    </tr>\n",
       "    <tr>\n",
       "      <th>13</th>\n",
       "      <td>Cork</td>\n",
       "      <td>5.6</td>\n",
       "      <td>15.3</td>\n",
       "      <td>English</td>\n",
       "      <td>NaN</td>\n",
       "      <td>NaT</td>\n",
       "      <td>208669</td>\n",
       "    </tr>\n",
       "    <tr>\n",
       "      <th>11</th>\n",
       "      <td>Edinburgh</td>\n",
       "      <td>7.0</td>\n",
       "      <td>19.1</td>\n",
       "      <td>English</td>\n",
       "      <td>47.0</td>\n",
       "      <td>NaT</td>\n",
       "      <td>1339380</td>\n",
       "    </tr>\n",
       "    <tr>\n",
       "      <th>22</th>\n",
       "      <td>Istanbul</td>\n",
       "      <td>5.7</td>\n",
       "      <td>22.9</td>\n",
       "      <td>Turkish</td>\n",
       "      <td>39.0</td>\n",
       "      <td>2016-12-31</td>\n",
       "      <td>14657434</td>\n",
       "    </tr>\n",
       "    <tr>\n",
       "      <th>17</th>\n",
       "      <td>Malaga</td>\n",
       "      <td>12.1</td>\n",
       "      <td>25.5</td>\n",
       "      <td>Spanish</td>\n",
       "      <td>11.0</td>\n",
       "      <td>NaT</td>\n",
       "      <td>569130</td>\n",
       "    </tr>\n",
       "    <tr>\n",
       "      <th>18</th>\n",
       "      <td>Porto</td>\n",
       "      <td>9.5</td>\n",
       "      <td>20.6</td>\n",
       "      <td>Portuguese</td>\n",
       "      <td>0.0</td>\n",
       "      <td>NaT</td>\n",
       "      <td>1774000</td>\n",
       "    </tr>\n",
       "    <tr>\n",
       "      <th>21</th>\n",
       "      <td>Rijeka</td>\n",
       "      <td>5.8</td>\n",
       "      <td>23.1</td>\n",
       "      <td>Croatian</td>\n",
       "      <td>0.0</td>\n",
       "      <td>NaT</td>\n",
       "      <td>213666</td>\n",
       "    </tr>\n",
       "  </tbody>\n",
       "</table>\n",
       "</div>"
      ],
      "text/plain": [
       "         Place  Temp_Jan  Temp_Jul             Language  Altitude MeasureDate  \\\n",
       "20     Ajaccio       9.0      22.9               French      38.0         NaT   \n",
       "5       Athens       9.9      28.5                Greek     338.0         NaT   \n",
       "1    Barcelona      11.8      25.7  Catalan and Spanish      12.0         NaT   \n",
       "12  Birmingham       6.7      21.3              English     140.0         NaT   \n",
       "16    Bordeaux       6.6      21.4               French       NaN         NaT   \n",
       "13        Cork       5.6      15.3              English       NaN         NaT   \n",
       "11   Edinburgh       7.0      19.1              English      47.0         NaT   \n",
       "22    Istanbul       5.7      22.9              Turkish      39.0  2016-12-31   \n",
       "17      Malaga      12.1      25.5              Spanish      11.0         NaT   \n",
       "18       Porto       9.5      20.6           Portuguese       0.0         NaT   \n",
       "21      Rijeka       5.8      23.1             Croatian       0.0         NaT   \n",
       "\n",
       "    Population  \n",
       "20       68587  \n",
       "5      3090508  \n",
       "1      4740000  \n",
       "12     2440986  \n",
       "16      851071  \n",
       "13      208669  \n",
       "11     1339380  \n",
       "22    14657434  \n",
       "17      569130  \n",
       "18     1774000  \n",
       "21      213666  "
      ]
     },
     "execution_count": 58,
     "metadata": {},
     "output_type": "execute_result"
    }
   ],
   "source": [
    "df[(df.Temp_Jan > 5) | (df.Temp_Jul < 17)]"
   ]
  },
  {
   "cell_type": "markdown",
   "metadata": {},
   "source": [
    "[<font color=\"gray\">▲▲▲</font>](#contents)"
   ]
  },
  {
   "cell_type": "markdown",
   "metadata": {},
   "source": [
    "## **<a name=\"q13\">13. Selection based on string</a>**"
   ]
  },
  {
   "cell_type": "markdown",
   "metadata": {},
   "source": [
    "Imagine that you have a very large dataset, and you wanted to check data for the city Paris.\n",
    "Of course by alphabetically arranging the data (as we have done) it is not that difficult to find back the data. But in some cases you would need a search function. \n",
    "To select a row based on a value in a *categorical* variable. So if we want to find back the \"Paris\" data, do the following:"
   ]
  },
  {
   "cell_type": "code",
   "execution_count": 59,
   "metadata": {},
   "outputs": [
    {
     "data": {
      "text/html": [
       "<div>\n",
       "<style scoped>\n",
       "    .dataframe tbody tr th:only-of-type {\n",
       "        vertical-align: middle;\n",
       "    }\n",
       "\n",
       "    .dataframe tbody tr th {\n",
       "        vertical-align: top;\n",
       "    }\n",
       "\n",
       "    .dataframe thead th {\n",
       "        text-align: right;\n",
       "    }\n",
       "</style>\n",
       "<table border=\"1\" class=\"dataframe\">\n",
       "  <thead>\n",
       "    <tr style=\"text-align: right;\">\n",
       "      <th></th>\n",
       "      <th>Place</th>\n",
       "      <th>Temp_Jan</th>\n",
       "      <th>Temp_Jul</th>\n",
       "      <th>Language</th>\n",
       "      <th>Altitude</th>\n",
       "      <th>MeasureDate</th>\n",
       "      <th>Population</th>\n",
       "    </tr>\n",
       "  </thead>\n",
       "  <tbody>\n",
       "    <tr>\n",
       "      <th>2</th>\n",
       "      <td>Paris</td>\n",
       "      <td>5.0</td>\n",
       "      <td>20.6</td>\n",
       "      <td>French</td>\n",
       "      <td>NaN</td>\n",
       "      <td>2013-01-01</td>\n",
       "      <td>10601122</td>\n",
       "    </tr>\n",
       "  </tbody>\n",
       "</table>\n",
       "</div>"
      ],
      "text/plain": [
       "   Place  Temp_Jan  Temp_Jul Language  Altitude MeasureDate  Population\n",
       "2  Paris       5.0      20.6   French       NaN  2013-01-01    10601122"
      ]
     },
     "execution_count": 59,
     "metadata": {},
     "output_type": "execute_result"
    }
   ],
   "source": [
    "df[df['Place'].str.contains('Paris')]"
   ]
  },
  {
   "cell_type": "markdown",
   "metadata": {},
   "source": [
    "And it also work if you are only using part of a string, for example \"Stock\""
   ]
  },
  {
   "cell_type": "code",
   "execution_count": 60,
   "metadata": {
    "scrolled": true
   },
   "outputs": [
    {
     "data": {
      "text/html": [
       "<div>\n",
       "<style scoped>\n",
       "    .dataframe tbody tr th:only-of-type {\n",
       "        vertical-align: middle;\n",
       "    }\n",
       "\n",
       "    .dataframe tbody tr th {\n",
       "        vertical-align: top;\n",
       "    }\n",
       "\n",
       "    .dataframe thead th {\n",
       "        text-align: right;\n",
       "    }\n",
       "</style>\n",
       "<table border=\"1\" class=\"dataframe\">\n",
       "  <thead>\n",
       "    <tr style=\"text-align: right;\">\n",
       "      <th></th>\n",
       "      <th>Place</th>\n",
       "      <th>Temp_Jan</th>\n",
       "      <th>Temp_Jul</th>\n",
       "      <th>Language</th>\n",
       "      <th>Altitude</th>\n",
       "      <th>MeasureDate</th>\n",
       "      <th>Population</th>\n",
       "    </tr>\n",
       "  </thead>\n",
       "  <tbody>\n",
       "    <tr>\n",
       "      <th>7</th>\n",
       "      <td>Stockholm</td>\n",
       "      <td>-1.6</td>\n",
       "      <td>18.8</td>\n",
       "      <td>Swedish</td>\n",
       "      <td>0.0</td>\n",
       "      <td>NaT</td>\n",
       "      <td>1515017</td>\n",
       "    </tr>\n",
       "  </tbody>\n",
       "</table>\n",
       "</div>"
      ],
      "text/plain": [
       "       Place  Temp_Jan  Temp_Jul Language  Altitude MeasureDate  Population\n",
       "7  Stockholm      -1.6      18.8  Swedish       0.0         NaT     1515017"
      ]
     },
     "execution_count": 60,
     "metadata": {},
     "output_type": "execute_result"
    }
   ],
   "source": [
    "df[df['Place'].str.contains('Stock')]"
   ]
  },
  {
   "cell_type": "markdown",
   "metadata": {},
   "source": [
    "Another example, searching for \"Spanish\" gives the following hits:"
   ]
  },
  {
   "cell_type": "code",
   "execution_count": null,
   "metadata": {
    "collapsed": true
   },
   "outputs": [],
   "source": [
    "df[df['Language'].str.contains('Spanish')]"
   ]
  },
  {
   "cell_type": "markdown",
   "metadata": {},
   "source": [
    "[<font color=\"gray\">▲▲▲</font>](#contents)"
   ]
  },
  {
   "cell_type": "markdown",
   "metadata": {},
   "source": [
    "## **<a name=\"q14\">14. Adding single rows</a>**"
   ]
  },
  {
   "cell_type": "markdown",
   "metadata": {},
   "source": [
    "Data can be added manually as well. Adding a row can be done in at least two ways:"
   ]
  },
  {
   "cell_type": "markdown",
   "metadata": {},
   "source": [
    "First, we use <font color=\"blue\">df.loc</font> to add a row at the right index, using <font color=\"blue\">len(df)+1</font>, which takes the lenght of the DataFrame plus one. So this always places the new row at the end."
   ]
  },
  {
   "cell_type": "code",
   "execution_count": 61,
   "metadata": {},
   "outputs": [],
   "source": [
    "df.loc[len(df)+1,:]=['Rome', 7.5, 24.1, 'Italian', 21, np.nan, 4353775]"
   ]
  },
  {
   "cell_type": "markdown",
   "metadata": {},
   "source": [
    "As we will see the new entry \"Rome\" is added in the last row."
   ]
  },
  {
   "cell_type": "code",
   "execution_count": 62,
   "metadata": {},
   "outputs": [
    {
     "data": {
      "text/html": [
       "<div>\n",
       "<style scoped>\n",
       "    .dataframe tbody tr th:only-of-type {\n",
       "        vertical-align: middle;\n",
       "    }\n",
       "\n",
       "    .dataframe tbody tr th {\n",
       "        vertical-align: top;\n",
       "    }\n",
       "\n",
       "    .dataframe thead th {\n",
       "        text-align: right;\n",
       "    }\n",
       "</style>\n",
       "<table border=\"1\" class=\"dataframe\">\n",
       "  <thead>\n",
       "    <tr style=\"text-align: right;\">\n",
       "      <th></th>\n",
       "      <th>Place</th>\n",
       "      <th>Temp_Jan</th>\n",
       "      <th>Temp_Jul</th>\n",
       "      <th>Language</th>\n",
       "      <th>Altitude</th>\n",
       "      <th>MeasureDate</th>\n",
       "      <th>Population</th>\n",
       "    </tr>\n",
       "  </thead>\n",
       "  <tbody>\n",
       "    <tr>\n",
       "      <th>19</th>\n",
       "      <td>Venice</td>\n",
       "      <td>3.3</td>\n",
       "      <td>23.0</td>\n",
       "      <td>Italian</td>\n",
       "      <td>1.0</td>\n",
       "      <td>NaT</td>\n",
       "      <td>264579.0</td>\n",
       "    </tr>\n",
       "    <tr>\n",
       "      <th>6</th>\n",
       "      <td>Vienna</td>\n",
       "      <td>1.2</td>\n",
       "      <td>19.1</td>\n",
       "      <td>German</td>\n",
       "      <td>NaN</td>\n",
       "      <td>2017-01-01</td>\n",
       "      <td>2600000.0</td>\n",
       "    </tr>\n",
       "    <tr>\n",
       "      <th>24</th>\n",
       "      <td>Rome</td>\n",
       "      <td>7.5</td>\n",
       "      <td>24.1</td>\n",
       "      <td>Italian</td>\n",
       "      <td>21.0</td>\n",
       "      <td>NaT</td>\n",
       "      <td>4353775.0</td>\n",
       "    </tr>\n",
       "  </tbody>\n",
       "</table>\n",
       "</div>"
      ],
      "text/plain": [
       "     Place  Temp_Jan  Temp_Jul Language  Altitude MeasureDate  Population\n",
       "19  Venice       3.3      23.0  Italian       1.0         NaT    264579.0\n",
       "6   Vienna       1.2      19.1   German       NaN  2017-01-01   2600000.0\n",
       "24    Rome       7.5      24.1  Italian      21.0         NaT   4353775.0"
      ]
     },
     "execution_count": 62,
     "metadata": {},
     "output_type": "execute_result"
    }
   ],
   "source": [
    "df.tail(3)"
   ]
  },
  {
   "cell_type": "markdown",
   "metadata": {},
   "source": [
    "A second way to do this is by using <font color=\"blue\">append</font>. We first make <font color=\"red\">newrow</font>:"
   ]
  },
  {
   "cell_type": "code",
   "execution_count": 63,
   "metadata": {},
   "outputs": [],
   "source": [
    "newrow = pd.Series(['Madrid', 6.3, 25.6, 'Spanish', 667, np.nan, 6240000], index= ['Place', 'Temp_Jan', 'Temp_Jul', 'Language', 'Altitude', 'MeasureDate', 'Population'])"
   ]
  },
  {
   "cell_type": "code",
   "execution_count": 64,
   "metadata": {},
   "outputs": [
    {
     "data": {
      "text/plain": [
       "pandas.core.series.Series"
      ]
     },
     "execution_count": 64,
     "metadata": {},
     "output_type": "execute_result"
    }
   ],
   "source": [
    "type(newrow)"
   ]
  },
  {
   "cell_type": "code",
   "execution_count": 65,
   "metadata": {},
   "outputs": [
    {
     "data": {
      "text/plain": [
       "Place           Madrid\n",
       "Temp_Jan           6.3\n",
       "Temp_Jul          25.6\n",
       "Language       Spanish\n",
       "Altitude           667\n",
       "MeasureDate        NaN\n",
       "Population     6240000\n",
       "dtype: object"
      ]
     },
     "execution_count": 65,
     "metadata": {},
     "output_type": "execute_result"
    }
   ],
   "source": [
    "newrow"
   ]
  },
  {
   "cell_type": "markdown",
   "metadata": {},
   "source": [
    "If we have created the row, we use <font color=\"blue\">append</font>. "
   ]
  },
  {
   "cell_type": "code",
   "execution_count": 66,
   "metadata": {},
   "outputs": [],
   "source": [
    "df = df.append(newrow, ignore_index=True)"
   ]
  },
  {
   "cell_type": "code",
   "execution_count": 67,
   "metadata": {},
   "outputs": [
    {
     "data": {
      "text/html": [
       "<div>\n",
       "<style scoped>\n",
       "    .dataframe tbody tr th:only-of-type {\n",
       "        vertical-align: middle;\n",
       "    }\n",
       "\n",
       "    .dataframe tbody tr th {\n",
       "        vertical-align: top;\n",
       "    }\n",
       "\n",
       "    .dataframe thead th {\n",
       "        text-align: right;\n",
       "    }\n",
       "</style>\n",
       "<table border=\"1\" class=\"dataframe\">\n",
       "  <thead>\n",
       "    <tr style=\"text-align: right;\">\n",
       "      <th></th>\n",
       "      <th>Place</th>\n",
       "      <th>Temp_Jan</th>\n",
       "      <th>Temp_Jul</th>\n",
       "      <th>Language</th>\n",
       "      <th>Altitude</th>\n",
       "      <th>MeasureDate</th>\n",
       "      <th>Population</th>\n",
       "    </tr>\n",
       "  </thead>\n",
       "  <tbody>\n",
       "    <tr>\n",
       "      <th>22</th>\n",
       "      <td>Vienna</td>\n",
       "      <td>1.2</td>\n",
       "      <td>19.1</td>\n",
       "      <td>German</td>\n",
       "      <td>NaN</td>\n",
       "      <td>2017-01-01 00:00:00</td>\n",
       "      <td>2600000.0</td>\n",
       "    </tr>\n",
       "    <tr>\n",
       "      <th>23</th>\n",
       "      <td>Rome</td>\n",
       "      <td>7.5</td>\n",
       "      <td>24.1</td>\n",
       "      <td>Italian</td>\n",
       "      <td>21.0</td>\n",
       "      <td>NaT</td>\n",
       "      <td>4353775.0</td>\n",
       "    </tr>\n",
       "    <tr>\n",
       "      <th>24</th>\n",
       "      <td>Madrid</td>\n",
       "      <td>6.3</td>\n",
       "      <td>25.6</td>\n",
       "      <td>Spanish</td>\n",
       "      <td>667.0</td>\n",
       "      <td>NaN</td>\n",
       "      <td>6240000.0</td>\n",
       "    </tr>\n",
       "  </tbody>\n",
       "</table>\n",
       "</div>"
      ],
      "text/plain": [
       "     Place  Temp_Jan  Temp_Jul Language  Altitude          MeasureDate  \\\n",
       "22  Vienna       1.2      19.1   German       NaN  2017-01-01 00:00:00   \n",
       "23    Rome       7.5      24.1  Italian      21.0                  NaT   \n",
       "24  Madrid       6.3      25.6  Spanish     667.0                  NaN   \n",
       "\n",
       "    Population  \n",
       "22   2600000.0  \n",
       "23   4353775.0  \n",
       "24   6240000.0  "
      ]
     },
     "execution_count": 67,
     "metadata": {},
     "output_type": "execute_result"
    }
   ],
   "source": [
    "df.tail(3)"
   ]
  },
  {
   "cell_type": "markdown",
   "metadata": {},
   "source": [
    "[<font color=\"gray\">▲▲▲</font>](#contents)"
   ]
  },
  {
   "cell_type": "markdown",
   "metadata": {},
   "source": [
    "## **<a name=\"q15\">15. Exploratory analyses using boxplots</a>**"
   ]
  },
  {
   "cell_type": "markdown",
   "metadata": {},
   "source": [
    "To have a summary of a variable, use the <font color=\"blue\">describe()</font> command. Note that median is the *50%* indicator.\n",
    "It is also possible to use for ex. <font color=\"blue\">min()</font>, <font color=\"blue\">mean()</font>, <font color=\"blue\">median()</font> and other stats separately. From these statistics it is directly clear that in July temperature is higher than January (not unexpected for European countries)."
   ]
  },
  {
   "cell_type": "code",
   "execution_count": 68,
   "metadata": {},
   "outputs": [
    {
     "data": {
      "text/plain": [
       "count    25.000000\n",
       "mean      4.468000\n",
       "std       4.630759\n",
       "min      -5.100000\n",
       "25%       1.500000\n",
       "50%       5.600000\n",
       "75%       7.000000\n",
       "max      12.100000\n",
       "Name: Temp_Jan, dtype: float64"
      ]
     },
     "execution_count": 68,
     "metadata": {},
     "output_type": "execute_result"
    }
   ],
   "source": [
    "df['Temp_Jan'].describe()"
   ]
  },
  {
   "cell_type": "code",
   "execution_count": 69,
   "metadata": {},
   "outputs": [
    {
     "data": {
      "text/plain": [
       "count    25.000000\n",
       "mean     21.120000\n",
       "std       3.147353\n",
       "min      15.300000\n",
       "25%      18.800000\n",
       "50%      20.600000\n",
       "75%      23.000000\n",
       "max      28.500000\n",
       "Name: Temp_Jul, dtype: float64"
      ]
     },
     "execution_count": 69,
     "metadata": {},
     "output_type": "execute_result"
    }
   ],
   "source": [
    "df['Temp_Jul'].describe()"
   ]
  },
  {
   "cell_type": "markdown",
   "metadata": {},
   "source": [
    "We are going to create boxplots using Matplotlib. Before running any code, we make sure that the plot layout is reset to the origin. As you will see later, we are going to use Seaborn, and this may change the layout of other plots<sup>7</sup>"
   ]
  },
  {
   "cell_type": "code",
   "execution_count": 70,
   "metadata": {},
   "outputs": [
    {
     "name": "stderr",
     "output_type": "stream",
     "text": [
      "C:\\Users\\Microsoft\\Anaconda3\\lib\\_collections_abc.py:841: MatplotlibDeprecationWarning:\n",
      "\n",
      "\n",
      "The examples.directory rcparam was deprecated in Matplotlib 3.0 and will be removed in 3.2. In the future, examples will be found relative to the 'datapath' directory.\n",
      "\n",
      "C:\\Users\\Microsoft\\Anaconda3\\lib\\_collections_abc.py:841: MatplotlibDeprecationWarning:\n",
      "\n",
      "\n",
      "The savefig.frameon rcparam was deprecated in Matplotlib 3.1 and will be removed in 3.3.\n",
      "\n",
      "C:\\Users\\Microsoft\\Anaconda3\\lib\\_collections_abc.py:841: MatplotlibDeprecationWarning:\n",
      "\n",
      "\n",
      "The text.latex.unicode rcparam was deprecated in Matplotlib 3.0 and will be removed in 3.2.\n",
      "\n",
      "C:\\Users\\Microsoft\\Anaconda3\\lib\\_collections_abc.py:841: MatplotlibDeprecationWarning:\n",
      "\n",
      "\n",
      "The verbose.fileo rcparam was deprecated in Matplotlib 3.1 and will be removed in 3.3.\n",
      "\n",
      "C:\\Users\\Microsoft\\Anaconda3\\lib\\_collections_abc.py:841: MatplotlibDeprecationWarning:\n",
      "\n",
      "\n",
      "The verbose.level rcparam was deprecated in Matplotlib 3.1 and will be removed in 3.3.\n",
      "\n"
     ]
    }
   ],
   "source": [
    "sns.reset_orig()"
   ]
  },
  {
   "cell_type": "markdown",
   "metadata": {},
   "source": [
    "Boxplots can be used to check for outliers and distribution of the variables.\n",
    "To position the two boxplots, <font color=\"blue\">fig.add_subplot(a,b,c)</font> is used, where *a* is number of rows, *b* is the number of columns, and *c* is the position that increments rowwise. "
   ]
  },
  {
   "cell_type": "code",
   "execution_count": null,
   "metadata": {
    "collapsed": true
   },
   "outputs": [],
   "source": [
    "fig = plt.figure()\n",
    "\n",
    "fig.add_subplot(1,2,1)\n",
    "df[['Temp_Jan']].boxplot(sym='.')\n",
    "fig.add_subplot(1,2,2)\n",
    "df[['Temp_Jul']].boxplot(sym='.')\n",
    "plt.show()"
   ]
  },
  {
   "cell_type": "markdown",
   "metadata": {},
   "source": [
    "Not bad these plots. Matplotlib gives a quick insight on data distribution and possible outliers. But the range of the axes are different for the two plots, and unnecessary space is wasted for two y-axes. So the question arises if we could change this."
   ]
  },
  {
   "cell_type": "markdown",
   "metadata": {},
   "source": [
    "First, we are going to select the two columns and make a new temporary DataFrame called <font color=\"red\">temp</font>."
   ]
  },
  {
   "cell_type": "code",
   "execution_count": 71,
   "metadata": {},
   "outputs": [],
   "source": [
    "temp = df.iloc[:,[1,2]]"
   ]
  },
  {
   "cell_type": "markdown",
   "metadata": {},
   "source": [
    "Second, we'd like to adapt our columnnames slightly, and the following code does that:"
   ]
  },
  {
   "cell_type": "code",
   "execution_count": 72,
   "metadata": {},
   "outputs": [],
   "source": [
    "temp.columns = ['January','July']"
   ]
  },
  {
   "cell_type": "markdown",
   "metadata": {},
   "source": [
    "The following code puts the two boxplots in one figure. We could add a line <font color=\"blue\">plt.ylim</font> to adjust the range of the y-axis."
   ]
  },
  {
   "cell_type": "code",
   "execution_count": 73,
   "metadata": {},
   "outputs": [
    {
     "data": {
      "image/png": "[encoded data removed]",
      "text/plain": [
       "<Figure size 640x480 with 1 Axes>"
      ]
     },
     "metadata": {},
     "output_type": "display_data"
    }
   ],
   "source": [
    "temp.boxplot(sym='.')\n",
    "plt.ylim(-10, 30)\n",
    "plt.show()"
   ]
  },
  {
   "cell_type": "markdown",
   "metadata": {},
   "source": [
    "In the following another boxplot is produced, now for the variable Altitude. Note that some of the parameter settings are changed, such as <font color=\"blue\">sym='bo'</font>, which means that blue filled dots are used for the outliers; <font color=\"blue\">vert=0</font> means that a horizontal boxplot is used; <font color=\"blue\">width</font> adapts the width of the box; <font color=\"blue\">patch_artist=True</font> fills the box with a color.\n",
    "Making a boxplot for Altitude shows there are some outliers. In certain contexts outliers can be data errors, because of for example human errors entering data, machine failure etc. The present example of Altitudes shows that not all outliers are data errors."
   ]
  },
  {
   "cell_type": "code",
   "execution_count": 74,
   "metadata": {
    "scrolled": true
   },
   "outputs": [
    {
     "data": {
      "image/png": "[encoded data removed]",
      "text/plain": [
       "<Figure size 640x480 with 1 Axes>"
      ]
     },
     "metadata": {},
     "output_type": "display_data"
    }
   ],
   "source": [
    "fig = plt.figure()\n",
    "df[['Altitude']].boxplot(sym='bo', widths = 0.4, patch_artist = True, vert=0)\n",
    "flierprops = dict(markersize=9)\n",
    "plt.show()"
   ]
  },
  {
   "cell_type": "markdown",
   "metadata": {},
   "source": [
    "[<font color=\"gray\">▲▲▲</font>](#contents)"
   ]
  },
  {
   "cell_type": "markdown",
   "metadata": {},
   "source": [
    "## **<a name=\"q16\">16. Barplots </a>**"
   ]
  },
  {
   "cell_type": "markdown",
   "metadata": {},
   "source": [
    "Using horizontal bars one can get a quick impression of the temperatures and the differences and variation across cities, as well as the differences between winter- (January = dark blue) and summertime (July = light blue). This has been done in the code below.\n",
    "<font color=\"gray\">Df.sort_values(by='Temp_Jan', ascending=False)</font> is used to order the bars.\n",
    "In <font color=\"blue\">plt.legend()</font> it is possible to change parameters that determine the location of the legend, such as <font color=\"blue\">bbox_to_anchor</font>. The parameter <font color=\"blue\"> mode=expand</font> makes that the legend box takes similar width as the plot<sup>8</sup>.\n",
    "The data are ordered on January temperature, starting with the city with the lowest temperatures, which is Lulea, situated in the very north of Sweden."
   ]
  },
  {
   "cell_type": "code",
   "execution_count": 75,
   "metadata": {},
   "outputs": [
    {
     "data": {
      "image/png": "[encoded data removed]",
      "text/plain": [
       "<Figure size 700x1000 with 1 Axes>"
      ]
     },
     "metadata": {},
     "output_type": "display_data"
    }
   ],
   "source": [
    "plt.figure(figsize = (7, 10))\n",
    "barwd = 0.2\n",
    "r1=range(len(df))\n",
    "r2=[y+ barwd for y in r1]\n",
    "plt.barh(r1, df.sort_values(by='Temp_Jan', ascending=False).Temp_Jan, height = barwd, color = 'blue')\n",
    "plt.barh(r2, df.sort_values(by='Temp_Jan', ascending=False).Temp_Jul, height = barwd, color = 'lightblue')\n",
    "plt.yticks([s + barwd for s in range(len(df))], df.sort_values(by='Temp_Jan', ascending=False).Place,\n",
    "  rotation = 0)\n",
    "lightblue_patch = mpatches.Patch(color='lightblue', label='July temperatures')\n",
    "blue_patch = mpatches.Patch(color='blue', label='January temperatures')\n",
    "plt.legend(handles=[lightblue_patch, blue_patch], bbox_to_anchor=(0., 1.02, 1., .102), loc=3, mode=\"expand\", borderaxespad=0)\n",
    "plt.show()"
   ]
  },
  {
   "cell_type": "markdown",
   "metadata": {},
   "source": [
    "[<font color=\"gray\">▲▲▲</font>](#contents)"
   ]
  },
  {
   "cell_type": "markdown",
   "metadata": {},
   "source": [
    "## **<a name=\"q17\">17. Pie Charts</a>**"
   ]
  },
  {
   "cell_type": "markdown",
   "metadata": {},
   "source": [
    "To appreciate the different population sizes, we can benefit from a pie chart.\n",
    "As can be directly seen, the pie becomes dense because of the quantity of data, and a smart use of colors is desired<sup>9</sup>. The parameter <font color=\"blue\">cs</font> is used for color scaling.\n",
    "The resulting chart shows that Istanbul and Paris are clearly among the largest cities that are in our dataset."
   ]
  },
  {
   "cell_type": "code",
   "execution_count": 76,
   "metadata": {},
   "outputs": [
    {
     "data": {
      "image/png": "[encoded data removed]",
      "text/plain": [
       "<Figure size 1000x1000 with 1 Axes>"
      ]
     },
     "metadata": {},
     "output_type": "display_data"
    }
   ],
   "source": [
    "cs = cm.Set1(np.arange(40)/40.)\n",
    "mpl.rcParams['font.size'] = 6.0\n",
    "plt.figure(figsize = (10, 10))\n",
    "x = df.Population\n",
    "plt.pie(x, labels = df.Place, labeldistance = 1.2, colors = cs)\n",
    "plt.show()"
   ]
  },
  {
   "cell_type": "markdown",
   "metadata": {},
   "source": [
    "To deal partly with the density, it it possible to print the labels in a legend outside the pie.\n",
    "Just pass the argument <font color=\"blue\">labels=df.Place</font> directly to <font color=\"blue\">pyplot.legend()</font>. Use the <font color=\"blue\">bbox_to_anchor()</font> argument to place the legend just outside the figure."
   ]
  },
  {
   "cell_type": "code",
   "execution_count": 77,
   "metadata": {},
   "outputs": [
    {
     "data": {
      "image/png": "[encoded data removed]",
      "text/plain": [
       "<Figure size 1000x1000 with 1 Axes>"
      ]
     },
     "metadata": {},
     "output_type": "display_data"
    }
   ],
   "source": [
    "mpl.rcParams['font.size'] = 6.0\n",
    "plt.figure(figsize = (10, 10))\n",
    "x = df.Population\n",
    "plt.pie(x, colors = cs)\n",
    "plt.legend(labels = df.Place, bbox_to_anchor=(1.1, 1.05))\n",
    "plt.show()"
   ]
  },
  {
   "cell_type": "markdown",
   "metadata": {},
   "source": [
    "A different kind of pie chart can be produced using plotly.\n",
    "If you want to try this yourself, you need to first create an account<sup>10</sup>.\n",
    "You will then need to fill-in your *username* and *API* when you run Plotly code:"
   ]
  },
  {
   "cell_type": "code",
   "execution_count": 81,
   "metadata": {},
   "outputs": [
    {
     "ename": "AttributeError",
     "evalue": "module 'plotly.tools' has no attribute 'set_credentials_file'",
     "output_type": "error",
     "traceback": [
      "\u001b[1;31m---------------------------------------------------------------------------\u001b[0m",
      "\u001b[1;31mAttributeError\u001b[0m                            Traceback (most recent call last)",
      "\u001b[1;32m<ipython-input-81-d6b5f9266006>\u001b[0m in \u001b[0;36m<module>\u001b[1;34m\u001b[0m\n\u001b[1;32m----> 1\u001b[1;33m \u001b[0mplotly\u001b[0m\u001b[1;33m.\u001b[0m\u001b[0mtools\u001b[0m\u001b[1;33m.\u001b[0m\u001b[0mset_credentials_file\u001b[0m\u001b[1;33m(\u001b[0m\u001b[0musername\u001b[0m\u001b[1;33m=\u001b[0m\u001b[1;34m'rrighart'\u001b[0m\u001b[1;33m,\u001b[0m \u001b[0mapi_key\u001b[0m\u001b[1;33m=\u001b[0m\u001b[1;34m'999999999'\u001b[0m\u001b[1;33m)\u001b[0m\u001b[1;33m\u001b[0m\u001b[1;33m\u001b[0m\u001b[0m\n\u001b[0m",
      "\u001b[1;31mAttributeError\u001b[0m: module 'plotly.tools' has no attribute 'set_credentials_file'"
     ]
    }
   ],
   "source": [
    "plotly.tools.set_credentials_file(username='rrighart', api_key='999999999')"
   ]
  },
  {
   "cell_type": "markdown",
   "metadata": {},
   "source": [
    "The pie-chart only needs a few lines of codes and produces a quite interactive chart. Hovering  over the pie will show the corresponding label and data."
   ]
  },
  {
   "cell_type": "code",
   "execution_count": 79,
   "metadata": {},
   "outputs": [
    {
     "ename": "NameError",
     "evalue": "name 'py' is not defined",
     "output_type": "error",
     "traceback": [
      "\u001b[1;31m---------------------------------------------------------------------------\u001b[0m",
      "\u001b[1;31mNameError\u001b[0m                                 Traceback (most recent call last)",
      "\u001b[1;32m<ipython-input-79-c3e04d9e1afd>\u001b[0m in \u001b[0;36m<module>\u001b[1;34m\u001b[0m\n\u001b[0;32m      6\u001b[0m      }\n\u001b[0;32m      7\u001b[0m \u001b[1;33m\u001b[0m\u001b[0m\n\u001b[1;32m----> 8\u001b[1;33m \u001b[0mpy\u001b[0m\u001b[1;33m.\u001b[0m\u001b[0miplot\u001b[0m\u001b[1;33m(\u001b[0m\u001b[0mfig\u001b[0m\u001b[1;33m)\u001b[0m\u001b[1;33m\u001b[0m\u001b[1;33m\u001b[0m\u001b[0m\n\u001b[0m",
      "\u001b[1;31mNameError\u001b[0m: name 'py' is not defined"
     ]
    }
   ],
   "source": [
    "fig = {\n",
    "    'data': [{'labels': df.Place,\n",
    "              'values': df.Population,\n",
    "              'type': 'pie'}],\n",
    "    'layout': {'title': 'City populations as percentage of the total'}\n",
    "     }\n",
    "\n",
    "py.iplot(fig)"
   ]
  },
  {
   "cell_type": "markdown",
   "metadata": {},
   "source": [
    "[<font color=\"gray\">▲▲▲</font>](#contents)"
   ]
  },
  {
   "cell_type": "markdown",
   "metadata": {},
   "source": [
    "## **<a name=\"q18\">18. Scatterplots</a>**"
   ]
  },
  {
   "cell_type": "markdown",
   "metadata": {
    "collapsed": true
   },
   "source": [
    "Scatterplots can be used for exploring relations between data. It shows that there is a roughly linear relation between the winter- and summer temperature. The parameter <font color=\"blue\">s</font> can be adapted to change the marker size."
   ]
  },
  {
   "cell_type": "code",
   "execution_count": 82,
   "metadata": {},
   "outputs": [
    {
     "name": "stderr",
     "output_type": "stream",
     "text": [
      "C:\\Users\\Microsoft\\Anaconda3\\lib\\_collections_abc.py:841: MatplotlibDeprecationWarning:\n",
      "\n",
      "\n",
      "The examples.directory rcparam was deprecated in Matplotlib 3.0 and will be removed in 3.2. In the future, examples will be found relative to the 'datapath' directory.\n",
      "\n",
      "C:\\Users\\Microsoft\\Anaconda3\\lib\\_collections_abc.py:841: MatplotlibDeprecationWarning:\n",
      "\n",
      "\n",
      "The savefig.frameon rcparam was deprecated in Matplotlib 3.1 and will be removed in 3.3.\n",
      "\n",
      "C:\\Users\\Microsoft\\Anaconda3\\lib\\_collections_abc.py:841: MatplotlibDeprecationWarning:\n",
      "\n",
      "\n",
      "The text.latex.unicode rcparam was deprecated in Matplotlib 3.0 and will be removed in 3.2.\n",
      "\n",
      "C:\\Users\\Microsoft\\Anaconda3\\lib\\_collections_abc.py:841: MatplotlibDeprecationWarning:\n",
      "\n",
      "\n",
      "The verbose.fileo rcparam was deprecated in Matplotlib 3.1 and will be removed in 3.3.\n",
      "\n",
      "C:\\Users\\Microsoft\\Anaconda3\\lib\\_collections_abc.py:841: MatplotlibDeprecationWarning:\n",
      "\n",
      "\n",
      "The verbose.level rcparam was deprecated in Matplotlib 3.1 and will be removed in 3.3.\n",
      "\n"
     ]
    },
    {
     "data": {
      "image/png": "[encoded data removed]",
      "text/plain": [
       "<Figure size 800x800 with 1 Axes>"
      ]
     },
     "metadata": {},
     "output_type": "display_data"
    }
   ],
   "source": [
    "sns.reset_orig()\n",
    "mpl.rcParams['font.size'] = 10.0\n",
    "plt.figure(figsize = (8, 8))\n",
    "plt.scatter(df.Temp_Jan, df.Temp_Jul, c = 'yellow', s=50)\n",
    "plt.title('Relation between winter- and summertemperature')\n",
    "plt.xlabel('Temperature in January')\n",
    "plt.ylabel('Temperature in July')\n",
    "plt.show()"
   ]
  },
  {
   "cell_type": "markdown",
   "metadata": {},
   "source": [
    "We could display a third variable in this scatterplot. For example, it may be informative to make the dot diameters proportional to the population size. To do this, we could incorporate the variable <font color=\"red\">df.Population</font> into the scatterplot. Using the parameters <font color=\"blue\">facecolors</font> and <font color=\"blue\">edgecolors</font>, empty circles are used in order to display any overlapping data.\n",
    "\n",
    "In these data, there seems a slight tendency that the relatively smaller places are in lower temperature areas. For the present purpose, the data were not very well sampled and therefore may be biased. Most important here is to see how such a visualization gives insight in three dimensions at once."
   ]
  },
  {
   "cell_type": "code",
   "execution_count": 83,
   "metadata": {},
   "outputs": [
    {
     "data": {
      "image/png": "[encoded data removed]",
      "text/plain": [
       "<Figure size 800x800 with 1 Axes>"
      ]
     },
     "metadata": {},
     "output_type": "display_data"
    }
   ],
   "source": [
    "popsize = df.Population/5000\n",
    "\n",
    "mpl.rcParams['font.size'] = 10.0\n",
    "plt.figure(figsize = (8, 8))\n",
    "plt.scatter(df.Temp_Jan, df.Temp_Jul, facecolors='none', edgecolors='red', linewidth=1.2, s=popsize)\n",
    "plt.title('Relation between winter- and summertemperature')\n",
    "plt.xlabel('Temperature in January')\n",
    "plt.ylabel('Temperature in July')\n",
    "\n",
    "for label, x, y in zip(df.Place, df.Temp_Jan, df.Temp_Jul):\n",
    "    plt.annotate(\n",
    "        label,\n",
    "        xy=(x,y), xytext=(-10,10), textcoords='offset points', ha='center', va='bottom',  \n",
    "    )\n",
    "plt.show()"
   ]
  },
  {
   "cell_type": "markdown",
   "metadata": {},
   "source": [
    "[<font color=\"gray\">▲▲▲</font>](#contents)"
   ]
  },
  {
   "cell_type": "markdown",
   "metadata": {},
   "source": [
    "## **<a name=\"q19\">19. Replacing values</a>**"
   ]
  },
  {
   "cell_type": "markdown",
   "metadata": {},
   "source": [
    "One of the most common data transformations is replacing values. The reason can be data entry errors, language differences (e.g., different labels are used for \"Geneva\", \"Genève\", \"Genf\" or \"Ginebra\"), or different conventions in other contexts. Values can be replaced by the following:"
   ]
  },
  {
   "cell_type": "code",
   "execution_count": 84,
   "metadata": {},
   "outputs": [],
   "source": [
    "df=df.replace(['Catalan and Spanish'], ['Catalan / Spanish'])"
   ]
  },
  {
   "cell_type": "code",
   "execution_count": 85,
   "metadata": {},
   "outputs": [
    {
     "data": {
      "text/html": [
       "<div>\n",
       "<style scoped>\n",
       "    .dataframe tbody tr th:only-of-type {\n",
       "        vertical-align: middle;\n",
       "    }\n",
       "\n",
       "    .dataframe tbody tr th {\n",
       "        vertical-align: top;\n",
       "    }\n",
       "\n",
       "    .dataframe thead th {\n",
       "        text-align: right;\n",
       "    }\n",
       "</style>\n",
       "<table border=\"1\" class=\"dataframe\">\n",
       "  <thead>\n",
       "    <tr style=\"text-align: right;\">\n",
       "      <th></th>\n",
       "      <th>Place</th>\n",
       "      <th>Temp_Jan</th>\n",
       "      <th>Temp_Jul</th>\n",
       "      <th>Language</th>\n",
       "      <th>Altitude</th>\n",
       "      <th>MeasureDate</th>\n",
       "      <th>Population</th>\n",
       "    </tr>\n",
       "  </thead>\n",
       "  <tbody>\n",
       "    <tr>\n",
       "      <th>4</th>\n",
       "      <td>Barcelona</td>\n",
       "      <td>11.8</td>\n",
       "      <td>25.7</td>\n",
       "      <td>Catalan / Spanish</td>\n",
       "      <td>12.0</td>\n",
       "      <td>NaT</td>\n",
       "      <td>4740000.0</td>\n",
       "    </tr>\n",
       "  </tbody>\n",
       "</table>\n",
       "</div>"
      ],
      "text/plain": [
       "       Place  Temp_Jan  Temp_Jul           Language  Altitude MeasureDate  \\\n",
       "4  Barcelona      11.8      25.7  Catalan / Spanish      12.0         NaT   \n",
       "\n",
       "   Population  \n",
       "4   4740000.0  "
      ]
     },
     "execution_count": 85,
     "metadata": {},
     "output_type": "execute_result"
    }
   ],
   "source": [
    "df[df['Language'].str.contains('Cat')]"
   ]
  },
  {
   "cell_type": "markdown",
   "metadata": {},
   "source": [
    "The same is valid for numbers. \n",
    "To replace a value at a certain index use <font color=\"blue\">df.iloc</font>. Take care that indexing in Python starts at 0, so that means that the first row/column is at 0, the second row/column at 1, etc. For example, <font color=\"gray\">df.iloc[1,2]=17</font> would replace the value at the second row, third column with the value 17."
   ]
  },
  {
   "cell_type": "markdown",
   "metadata": {},
   "source": [
    "[<font color=\"gray\">▲▲▲</font>](#contents)"
   ]
  },
  {
   "cell_type": "markdown",
   "metadata": {},
   "source": [
    "## **<a name=\"q20\">20. Data categorization</a>**"
   ]
  },
  {
   "cell_type": "markdown",
   "metadata": {},
   "source": [
    "Another data transformation concerns making categories from numeric/integer values. Let us do that for example for temperature. The code underneath will categorize data in bins from -10 to -5, -5 to 0 etc. (which means that -5 would be in -10 to -5, -4.9 would be in category -5 to 0). In addition, we create some labels to reflect these categories. Of course, the labels are quite subjective. I met people in Sweden who find -5 Celsius comfortable, while this may be different for people from France."
   ]
  },
  {
   "cell_type": "code",
   "execution_count": 86,
   "metadata": {},
   "outputs": [],
   "source": [
    "tempbins = [-10, -5, 0, 5, 10, 15, 20, 25, 30]\n",
    "templabels = ['Very low', 'Low', 'Reasonaby Low', 'Average', 'Reasonably High', 'High', 'Very High', 'Extremely High']"
   ]
  },
  {
   "cell_type": "markdown",
   "metadata": {},
   "source": [
    "The following will create the categorized variables:"
   ]
  },
  {
   "cell_type": "code",
   "execution_count": 87,
   "metadata": {},
   "outputs": [],
   "source": [
    "df['Temp_Jan_cat'] = pd.cut(df['Temp_Jan'], tempbins, labels = templabels)\n",
    "df['Temp_Jul_cat'] = pd.cut(df['Temp_Jul'], tempbins, labels = templabels)"
   ]
  },
  {
   "cell_type": "code",
   "execution_count": 88,
   "metadata": {},
   "outputs": [
    {
     "data": {
      "text/html": [
       "<div>\n",
       "<style scoped>\n",
       "    .dataframe tbody tr th:only-of-type {\n",
       "        vertical-align: middle;\n",
       "    }\n",
       "\n",
       "    .dataframe tbody tr th {\n",
       "        vertical-align: top;\n",
       "    }\n",
       "\n",
       "    .dataframe thead th {\n",
       "        text-align: right;\n",
       "    }\n",
       "</style>\n",
       "<table border=\"1\" class=\"dataframe\">\n",
       "  <thead>\n",
       "    <tr style=\"text-align: right;\">\n",
       "      <th></th>\n",
       "      <th>Place</th>\n",
       "      <th>Temp_Jan</th>\n",
       "      <th>Temp_Jul</th>\n",
       "      <th>Language</th>\n",
       "      <th>Altitude</th>\n",
       "      <th>MeasureDate</th>\n",
       "      <th>Population</th>\n",
       "      <th>Temp_Jan_cat</th>\n",
       "      <th>Temp_Jul_cat</th>\n",
       "    </tr>\n",
       "  </thead>\n",
       "  <tbody>\n",
       "    <tr>\n",
       "      <th>0</th>\n",
       "      <td>Ajaccio</td>\n",
       "      <td>9.0</td>\n",
       "      <td>22.9</td>\n",
       "      <td>French</td>\n",
       "      <td>38.0</td>\n",
       "      <td>NaT</td>\n",
       "      <td>68587.0</td>\n",
       "      <td>Average</td>\n",
       "      <td>Very High</td>\n",
       "    </tr>\n",
       "    <tr>\n",
       "      <th>1</th>\n",
       "      <td>Amsterdam</td>\n",
       "      <td>3.4</td>\n",
       "      <td>17.6</td>\n",
       "      <td>Dutch</td>\n",
       "      <td>-2.0</td>\n",
       "      <td>NaT</td>\n",
       "      <td>1351587.0</td>\n",
       "      <td>Reasonaby Low</td>\n",
       "      <td>High</td>\n",
       "    </tr>\n",
       "    <tr>\n",
       "      <th>2</th>\n",
       "      <td>Antwerp</td>\n",
       "      <td>3.4</td>\n",
       "      <td>18.5</td>\n",
       "      <td>Dutch</td>\n",
       "      <td>NaN</td>\n",
       "      <td>2016-01-01 00:00:00</td>\n",
       "      <td>517042.0</td>\n",
       "      <td>Reasonaby Low</td>\n",
       "      <td>High</td>\n",
       "    </tr>\n",
       "    <tr>\n",
       "      <th>3</th>\n",
       "      <td>Athens</td>\n",
       "      <td>9.9</td>\n",
       "      <td>28.5</td>\n",
       "      <td>Greek</td>\n",
       "      <td>338.0</td>\n",
       "      <td>NaT</td>\n",
       "      <td>3090508.0</td>\n",
       "      <td>Average</td>\n",
       "      <td>Extremely High</td>\n",
       "    </tr>\n",
       "    <tr>\n",
       "      <th>4</th>\n",
       "      <td>Barcelona</td>\n",
       "      <td>11.8</td>\n",
       "      <td>25.7</td>\n",
       "      <td>Catalan / Spanish</td>\n",
       "      <td>12.0</td>\n",
       "      <td>NaT</td>\n",
       "      <td>4740000.0</td>\n",
       "      <td>Reasonably High</td>\n",
       "      <td>Extremely High</td>\n",
       "    </tr>\n",
       "  </tbody>\n",
       "</table>\n",
       "</div>"
      ],
      "text/plain": [
       "       Place  Temp_Jan  Temp_Jul           Language  Altitude  \\\n",
       "0    Ajaccio       9.0      22.9             French      38.0   \n",
       "1  Amsterdam       3.4      17.6              Dutch      -2.0   \n",
       "2    Antwerp       3.4      18.5              Dutch       NaN   \n",
       "3     Athens       9.9      28.5              Greek     338.0   \n",
       "4  Barcelona      11.8      25.7  Catalan / Spanish      12.0   \n",
       "\n",
       "           MeasureDate  Population     Temp_Jan_cat    Temp_Jul_cat  \n",
       "0                  NaT     68587.0          Average       Very High  \n",
       "1                  NaT   1351587.0    Reasonaby Low            High  \n",
       "2  2016-01-01 00:00:00    517042.0    Reasonaby Low            High  \n",
       "3                  NaT   3090508.0          Average  Extremely High  \n",
       "4                  NaT   4740000.0  Reasonably High  Extremely High  "
      ]
     },
     "execution_count": 88,
     "metadata": {},
     "output_type": "execute_result"
    }
   ],
   "source": [
    "df.head(5)"
   ]
  },
  {
   "cell_type": "markdown",
   "metadata": {},
   "source": [
    "We can then count the number of observations for each category:"
   ]
  },
  {
   "cell_type": "code",
   "execution_count": 89,
   "metadata": {},
   "outputs": [
    {
     "data": {
      "text/plain": [
       "Average            11\n",
       "Reasonaby Low       8\n",
       "Low                 3\n",
       "Reasonably High     2\n",
       "Very low            1\n",
       "Extremely High      0\n",
       "Very High           0\n",
       "High                0\n",
       "Name: Temp_Jan_cat, dtype: int64"
      ]
     },
     "execution_count": 89,
     "metadata": {},
     "output_type": "execute_result"
    }
   ],
   "source": [
    "pd.value_counts(df['Temp_Jan_cat'])"
   ]
  },
  {
   "cell_type": "code",
   "execution_count": 90,
   "metadata": {},
   "outputs": [
    {
     "data": {
      "text/plain": [
       "Very High          11\n",
       "High               10\n",
       "Extremely High      4\n",
       "Reasonably High     0\n",
       "Average             0\n",
       "Reasonaby Low       0\n",
       "Low                 0\n",
       "Very low            0\n",
       "Name: Temp_Jul_cat, dtype: int64"
      ]
     },
     "execution_count": 90,
     "metadata": {},
     "output_type": "execute_result"
    }
   ],
   "source": [
    "pd.value_counts(df['Temp_Jul_cat'])"
   ]
  },
  {
   "cell_type": "markdown",
   "metadata": {},
   "source": [
    "As we see the <font color=\"blue\">pd.cut</font> function created a categorical variable."
   ]
  },
  {
   "cell_type": "code",
   "execution_count": 91,
   "metadata": {},
   "outputs": [
    {
     "data": {
      "text/plain": [
       "Place             object\n",
       "Temp_Jan         float64\n",
       "Temp_Jul         float64\n",
       "Language          object\n",
       "Altitude         float64\n",
       "MeasureDate       object\n",
       "Population       float64\n",
       "Temp_Jan_cat    category\n",
       "Temp_Jul_cat    category\n",
       "dtype: object"
      ]
     },
     "execution_count": 91,
     "metadata": {},
     "output_type": "execute_result"
    }
   ],
   "source": [
    "df.dtypes"
   ]
  },
  {
   "cell_type": "markdown",
   "metadata": {},
   "source": [
    "The categorized data can be displayed by a histogram. Quite insightful is using overlapping histograms. The setting of <font color=\"blue\">alpha = 0.5</font> means that the bars are transparant in case there is an overlap between categories; however in this case there is no overlap (in other words, all temperatures in July are different from those in January). The bins were set before by tempbins."
   ]
  },
  {
   "cell_type": "code",
   "execution_count": 92,
   "metadata": {},
   "outputs": [
    {
     "data": {
      "image/png": "[encoded data removed]",
      "text/plain": [
       "<Figure size 640x480 with 1 Axes>"
      ]
     },
     "metadata": {},
     "output_type": "display_data"
    }
   ],
   "source": [
    "plt.hist(df['Temp_Jan'], alpha= 0.5, bins = tempbins, label='Temperature January')\n",
    "plt.hist(df['Temp_Jul'], alpha= 0.5, bins = tempbins, label='Temperature July')\n",
    "plt.ylim(0, 14)\n",
    "plt.legend(bbox_to_anchor=(0., 1.02, 1., .102), loc=3, mode=\"expand\", borderaxespad=0)\n",
    "plt.show()"
   ]
  },
  {
   "cell_type": "markdown",
   "metadata": {},
   "source": [
    "We may want to compute data as function of the categories. For example, given the temperature categories, is there a different mean precipitation? In Pandas there is a <font color=\"blue\">groupby</font> function that can do this<sup>11</sup>. First let us see the categories:"
   ]
  },
  {
   "cell_type": "code",
   "execution_count": 93,
   "metadata": {},
   "outputs": [
    {
     "data": {
      "text/plain": [
       "dict_keys(['Very low', 'Low', 'Reasonaby Low', 'Average', 'Reasonably High', 'High', 'Very High', 'Extremely High'])"
      ]
     },
     "execution_count": 93,
     "metadata": {},
     "output_type": "execute_result"
    }
   ],
   "source": [
    "df.groupby(['Temp_Jan_cat']).groups.keys()"
   ]
  },
  {
   "cell_type": "markdown",
   "metadata": {},
   "source": [
    "We can then inspect the first entry of every category:"
   ]
  },
  {
   "cell_type": "code",
   "execution_count": 94,
   "metadata": {},
   "outputs": [
    {
     "data": {
      "text/html": [
       "<div>\n",
       "<style scoped>\n",
       "    .dataframe tbody tr th:only-of-type {\n",
       "        vertical-align: middle;\n",
       "    }\n",
       "\n",
       "    .dataframe tbody tr th {\n",
       "        vertical-align: top;\n",
       "    }\n",
       "\n",
       "    .dataframe thead th {\n",
       "        text-align: right;\n",
       "    }\n",
       "</style>\n",
       "<table border=\"1\" class=\"dataframe\">\n",
       "  <thead>\n",
       "    <tr style=\"text-align: right;\">\n",
       "      <th></th>\n",
       "      <th>Place</th>\n",
       "      <th>Temp_Jan</th>\n",
       "      <th>Temp_Jul</th>\n",
       "      <th>Language</th>\n",
       "      <th>Altitude</th>\n",
       "      <th>MeasureDate</th>\n",
       "      <th>Population</th>\n",
       "      <th>Temp_Jul_cat</th>\n",
       "    </tr>\n",
       "    <tr>\n",
       "      <th>Temp_Jan_cat</th>\n",
       "      <th></th>\n",
       "      <th></th>\n",
       "      <th></th>\n",
       "      <th></th>\n",
       "      <th></th>\n",
       "      <th></th>\n",
       "      <th></th>\n",
       "      <th></th>\n",
       "    </tr>\n",
       "  </thead>\n",
       "  <tbody>\n",
       "    <tr>\n",
       "      <th>Very low</th>\n",
       "      <td>Lulea</td>\n",
       "      <td>-5.1</td>\n",
       "      <td>20.7</td>\n",
       "      <td>Swedish</td>\n",
       "      <td>6.0</td>\n",
       "      <td>2014-12-31</td>\n",
       "      <td>75966.0</td>\n",
       "      <td>Very High</td>\n",
       "    </tr>\n",
       "    <tr>\n",
       "      <th>Low</th>\n",
       "      <td>Helsinki</td>\n",
       "      <td>-3.9</td>\n",
       "      <td>17.8</td>\n",
       "      <td>Finnish</td>\n",
       "      <td>23.0</td>\n",
       "      <td>2016-03-31</td>\n",
       "      <td>1231595.0</td>\n",
       "      <td>High</td>\n",
       "    </tr>\n",
       "    <tr>\n",
       "      <th>Reasonaby Low</th>\n",
       "      <td>Amsterdam</td>\n",
       "      <td>3.4</td>\n",
       "      <td>17.6</td>\n",
       "      <td>Dutch</td>\n",
       "      <td>-2.0</td>\n",
       "      <td>2016-01-01</td>\n",
       "      <td>1351587.0</td>\n",
       "      <td>High</td>\n",
       "    </tr>\n",
       "    <tr>\n",
       "      <th>Average</th>\n",
       "      <td>Ajaccio</td>\n",
       "      <td>9.0</td>\n",
       "      <td>22.9</td>\n",
       "      <td>French</td>\n",
       "      <td>38.0</td>\n",
       "      <td>2016-12-31</td>\n",
       "      <td>68587.0</td>\n",
       "      <td>Very High</td>\n",
       "    </tr>\n",
       "    <tr>\n",
       "      <th>Reasonably High</th>\n",
       "      <td>Barcelona</td>\n",
       "      <td>11.8</td>\n",
       "      <td>25.7</td>\n",
       "      <td>Catalan / Spanish</td>\n",
       "      <td>12.0</td>\n",
       "      <td>NaT</td>\n",
       "      <td>4740000.0</td>\n",
       "      <td>Extremely High</td>\n",
       "    </tr>\n",
       "    <tr>\n",
       "      <th>High</th>\n",
       "      <td>None</td>\n",
       "      <td>NaN</td>\n",
       "      <td>NaN</td>\n",
       "      <td>None</td>\n",
       "      <td>NaN</td>\n",
       "      <td>NaT</td>\n",
       "      <td>NaN</td>\n",
       "      <td>NaN</td>\n",
       "    </tr>\n",
       "    <tr>\n",
       "      <th>Very High</th>\n",
       "      <td>None</td>\n",
       "      <td>NaN</td>\n",
       "      <td>NaN</td>\n",
       "      <td>None</td>\n",
       "      <td>NaN</td>\n",
       "      <td>NaT</td>\n",
       "      <td>NaN</td>\n",
       "      <td>NaN</td>\n",
       "    </tr>\n",
       "    <tr>\n",
       "      <th>Extremely High</th>\n",
       "      <td>None</td>\n",
       "      <td>NaN</td>\n",
       "      <td>NaN</td>\n",
       "      <td>None</td>\n",
       "      <td>NaN</td>\n",
       "      <td>NaT</td>\n",
       "      <td>NaN</td>\n",
       "      <td>NaN</td>\n",
       "    </tr>\n",
       "  </tbody>\n",
       "</table>\n",
       "</div>"
      ],
      "text/plain": [
       "                     Place  Temp_Jan  Temp_Jul           Language  Altitude  \\\n",
       "Temp_Jan_cat                                                                  \n",
       "Very low             Lulea      -5.1      20.7            Swedish       6.0   \n",
       "Low               Helsinki      -3.9      17.8            Finnish      23.0   \n",
       "Reasonaby Low    Amsterdam       3.4      17.6              Dutch      -2.0   \n",
       "Average            Ajaccio       9.0      22.9             French      38.0   \n",
       "Reasonably High  Barcelona      11.8      25.7  Catalan / Spanish      12.0   \n",
       "High                  None       NaN       NaN               None       NaN   \n",
       "Very High             None       NaN       NaN               None       NaN   \n",
       "Extremely High        None       NaN       NaN               None       NaN   \n",
       "\n",
       "                MeasureDate  Population    Temp_Jul_cat  \n",
       "Temp_Jan_cat                                             \n",
       "Very low         2014-12-31     75966.0       Very High  \n",
       "Low              2016-03-31   1231595.0            High  \n",
       "Reasonaby Low    2016-01-01   1351587.0            High  \n",
       "Average          2016-12-31     68587.0       Very High  \n",
       "Reasonably High         NaT   4740000.0  Extremely High  \n",
       "High                    NaT         NaN             NaN  \n",
       "Very High               NaT         NaN             NaN  \n",
       "Extremely High          NaT         NaN             NaN  "
      ]
     },
     "execution_count": 94,
     "metadata": {},
     "output_type": "execute_result"
    }
   ],
   "source": [
    "df.groupby(['Temp_Jan_cat']).first()"
   ]
  },
  {
   "cell_type": "markdown",
   "metadata": {},
   "source": [
    "And now let's compute mean temperature in July as a function of the binned temperature in January:"
   ]
  },
  {
   "cell_type": "code",
   "execution_count": 95,
   "metadata": {},
   "outputs": [
    {
     "data": {
      "text/plain": [
       "Temp_Jan_cat\n",
       "Very low           20.700000\n",
       "Low                18.100000\n",
       "Reasonaby Low      19.625000\n",
       "Average            22.254545\n",
       "Reasonably High    25.600000\n",
       "High                     NaN\n",
       "Very High                NaN\n",
       "Extremely High           NaN\n",
       "Name: Temp_Jul, dtype: float64"
      ]
     },
     "execution_count": 95,
     "metadata": {},
     "output_type": "execute_result"
    }
   ],
   "source": [
    "df.groupby(['Temp_Jan_cat']).Temp_Jul.mean()"
   ]
  },
  {
   "cell_type": "markdown",
   "metadata": {},
   "source": [
    "If you actually want to view every variable as a function of <font color=\"red\">Temp_Jan_cat</font>:"
   ]
  },
  {
   "cell_type": "code",
   "execution_count": 96,
   "metadata": {},
   "outputs": [
    {
     "data": {
      "text/html": [
       "<div>\n",
       "<style scoped>\n",
       "    .dataframe tbody tr th:only-of-type {\n",
       "        vertical-align: middle;\n",
       "    }\n",
       "\n",
       "    .dataframe tbody tr th {\n",
       "        vertical-align: top;\n",
       "    }\n",
       "\n",
       "    .dataframe thead th {\n",
       "        text-align: right;\n",
       "    }\n",
       "</style>\n",
       "<table border=\"1\" class=\"dataframe\">\n",
       "  <thead>\n",
       "    <tr style=\"text-align: right;\">\n",
       "      <th></th>\n",
       "      <th>Temp_Jan</th>\n",
       "      <th>Temp_Jul</th>\n",
       "      <th>Altitude</th>\n",
       "      <th>Population</th>\n",
       "    </tr>\n",
       "    <tr>\n",
       "      <th>Temp_Jan_cat</th>\n",
       "      <th></th>\n",
       "      <th></th>\n",
       "      <th></th>\n",
       "      <th></th>\n",
       "    </tr>\n",
       "  </thead>\n",
       "  <tbody>\n",
       "    <tr>\n",
       "      <th>Very low</th>\n",
       "      <td>-5.100000</td>\n",
       "      <td>20.700000</td>\n",
       "      <td>6.000000</td>\n",
       "      <td>7.596600e+04</td>\n",
       "    </tr>\n",
       "    <tr>\n",
       "      <th>Low</th>\n",
       "      <td>-2.800000</td>\n",
       "      <td>18.100000</td>\n",
       "      <td>11.500000</td>\n",
       "      <td>1.229565e+06</td>\n",
       "    </tr>\n",
       "    <tr>\n",
       "      <th>Reasonaby Low</th>\n",
       "      <td>2.712500</td>\n",
       "      <td>19.625000</td>\n",
       "      <td>-0.500000</td>\n",
       "      <td>2.249816e+06</td>\n",
       "    </tr>\n",
       "    <tr>\n",
       "      <th>Average</th>\n",
       "      <td>7.236364</td>\n",
       "      <td>22.254545</td>\n",
       "      <td>143.333333</td>\n",
       "      <td>3.203461e+06</td>\n",
       "    </tr>\n",
       "    <tr>\n",
       "      <th>Reasonably High</th>\n",
       "      <td>11.950000</td>\n",
       "      <td>25.600000</td>\n",
       "      <td>11.500000</td>\n",
       "      <td>2.654565e+06</td>\n",
       "    </tr>\n",
       "    <tr>\n",
       "      <th>High</th>\n",
       "      <td>NaN</td>\n",
       "      <td>NaN</td>\n",
       "      <td>NaN</td>\n",
       "      <td>NaN</td>\n",
       "    </tr>\n",
       "    <tr>\n",
       "      <th>Very High</th>\n",
       "      <td>NaN</td>\n",
       "      <td>NaN</td>\n",
       "      <td>NaN</td>\n",
       "      <td>NaN</td>\n",
       "    </tr>\n",
       "    <tr>\n",
       "      <th>Extremely High</th>\n",
       "      <td>NaN</td>\n",
       "      <td>NaN</td>\n",
       "      <td>NaN</td>\n",
       "      <td>NaN</td>\n",
       "    </tr>\n",
       "  </tbody>\n",
       "</table>\n",
       "</div>"
      ],
      "text/plain": [
       "                  Temp_Jan   Temp_Jul    Altitude    Population\n",
       "Temp_Jan_cat                                                   \n",
       "Very low         -5.100000  20.700000    6.000000  7.596600e+04\n",
       "Low              -2.800000  18.100000   11.500000  1.229565e+06\n",
       "Reasonaby Low     2.712500  19.625000   -0.500000  2.249816e+06\n",
       "Average           7.236364  22.254545  143.333333  3.203461e+06\n",
       "Reasonably High  11.950000  25.600000   11.500000  2.654565e+06\n",
       "High                   NaN        NaN         NaN           NaN\n",
       "Very High              NaN        NaN         NaN           NaN\n",
       "Extremely High         NaN        NaN         NaN           NaN"
      ]
     },
     "execution_count": 96,
     "metadata": {},
     "output_type": "execute_result"
    }
   ],
   "source": [
    "df.groupby(['Temp_Jan_cat']).mean()"
   ]
  },
  {
   "cell_type": "markdown",
   "metadata": {},
   "source": [
    "[<font color=\"gray\">▲▲▲</font>](#contents)"
   ]
  },
  {
   "cell_type": "markdown",
   "metadata": {},
   "source": [
    "## **<a name=\"q21\">21. Data conversions</a>**"
   ]
  },
  {
   "cell_type": "markdown",
   "metadata": {},
   "source": [
    "Another data transformation is converting the values using a computation. For example, we may want to create a new variable that reflects the difference between temperatures in January and July. "
   ]
  },
  {
   "cell_type": "code",
   "execution_count": 97,
   "metadata": {},
   "outputs": [],
   "source": [
    "df.loc[:,\"Tempdiff\"]= df.loc[:,\"Temp_Jan\"]-df.loc[:,\"Temp_Jul\"]"
   ]
  },
  {
   "cell_type": "markdown",
   "metadata": {},
   "source": [
    "Always make sure to inspect the result:"
   ]
  },
  {
   "cell_type": "code",
   "execution_count": 98,
   "metadata": {},
   "outputs": [
    {
     "data": {
      "text/html": [
       "<div>\n",
       "<style scoped>\n",
       "    .dataframe tbody tr th:only-of-type {\n",
       "        vertical-align: middle;\n",
       "    }\n",
       "\n",
       "    .dataframe tbody tr th {\n",
       "        vertical-align: top;\n",
       "    }\n",
       "\n",
       "    .dataframe thead th {\n",
       "        text-align: right;\n",
       "    }\n",
       "</style>\n",
       "<table border=\"1\" class=\"dataframe\">\n",
       "  <thead>\n",
       "    <tr style=\"text-align: right;\">\n",
       "      <th></th>\n",
       "      <th>Place</th>\n",
       "      <th>Temp_Jan</th>\n",
       "      <th>Temp_Jul</th>\n",
       "      <th>Tempdiff</th>\n",
       "    </tr>\n",
       "  </thead>\n",
       "  <tbody>\n",
       "    <tr>\n",
       "      <th>0</th>\n",
       "      <td>Ajaccio</td>\n",
       "      <td>9.0</td>\n",
       "      <td>22.9</td>\n",
       "      <td>-13.9</td>\n",
       "    </tr>\n",
       "    <tr>\n",
       "      <th>1</th>\n",
       "      <td>Amsterdam</td>\n",
       "      <td>3.4</td>\n",
       "      <td>17.6</td>\n",
       "      <td>-14.2</td>\n",
       "    </tr>\n",
       "    <tr>\n",
       "      <th>2</th>\n",
       "      <td>Antwerp</td>\n",
       "      <td>3.4</td>\n",
       "      <td>18.5</td>\n",
       "      <td>-15.1</td>\n",
       "    </tr>\n",
       "  </tbody>\n",
       "</table>\n",
       "</div>"
      ],
      "text/plain": [
       "       Place  Temp_Jan  Temp_Jul  Tempdiff\n",
       "0    Ajaccio       9.0      22.9     -13.9\n",
       "1  Amsterdam       3.4      17.6     -14.2\n",
       "2    Antwerp       3.4      18.5     -15.1"
      ]
     },
     "execution_count": 98,
     "metadata": {},
     "output_type": "execute_result"
    }
   ],
   "source": [
    "df[['Place','Temp_Jan', 'Temp_Jul', 'Tempdiff']].head(3)"
   ]
  },
  {
   "cell_type": "markdown",
   "metadata": {},
   "source": [
    "A function can also be used to make a data conversion. For example, if we want to covert temperatures from Celsius into Fahrenheit, we need to make the following conversion<sup>12</sup>:\n",
    "    *T(°F) = T(°C) x 9/5 + 32*.\n",
    "If you only use this code once, you would probably do the following code, and it will give the new temperatures in Fahrenheit."
   ]
  },
  {
   "cell_type": "code",
   "execution_count": 99,
   "metadata": {},
   "outputs": [
    {
     "data": {
      "text/plain": [
       "0    48.20\n",
       "1    38.12\n",
       "2    38.12\n",
       "Name: Temp_Jan, dtype: float64"
      ]
     },
     "execution_count": 99,
     "metadata": {},
     "output_type": "execute_result"
    }
   ],
   "source": [
    "(df.Temp_Jan*9/5+32).head(3)"
   ]
  },
  {
   "cell_type": "markdown",
   "metadata": {},
   "source": [
    "However, if the conversion will be used anywhere else again, you may probably want to write a function<sup>13</sup>. Briefly, you use <font color=\"blue\">def</font> to define the function name including arguments. Do not forget the colon (:). Next line, after an indentation you define the desired transformation. "
   ]
  },
  {
   "cell_type": "code",
   "execution_count": 100,
   "metadata": {},
   "outputs": [],
   "source": [
    "def Tconv(x):\n",
    "    y=x*9/5+32\n",
    "    return y"
   ]
  },
  {
   "cell_type": "markdown",
   "metadata": {},
   "source": [
    "The next step is then to check the function, for example using input temperature 32 °C. <font color=\"blue\">Tconv(32)</font> gives an output of 89 °F."
   ]
  },
  {
   "cell_type": "code",
   "execution_count": 101,
   "metadata": {},
   "outputs": [
    {
     "data": {
      "text/plain": [
       "89.6"
      ]
     },
     "execution_count": 101,
     "metadata": {},
     "output_type": "execute_result"
    }
   ],
   "source": [
    "Tconv(32)"
   ]
  },
  {
   "cell_type": "markdown",
   "metadata": {},
   "source": [
    "So now it is time to convert a whole column to Fahrenheit:"
   ]
  },
  {
   "cell_type": "markdown",
   "metadata": {},
   "source": [
    "Basically, the whole column is put in the function, and the output variable is directly written to the DataFrame."
   ]
  },
  {
   "cell_type": "code",
   "execution_count": 102,
   "metadata": {},
   "outputs": [],
   "source": [
    "df['Temp_JanF'] = Tconv(df['Temp_Jan'])\n",
    "df['Temp_JulF'] = Tconv(df['Temp_Jul'])"
   ]
  },
  {
   "cell_type": "code",
   "execution_count": 103,
   "metadata": {},
   "outputs": [
    {
     "data": {
      "text/html": [
       "<div>\n",
       "<style scoped>\n",
       "    .dataframe tbody tr th:only-of-type {\n",
       "        vertical-align: middle;\n",
       "    }\n",
       "\n",
       "    .dataframe tbody tr th {\n",
       "        vertical-align: top;\n",
       "    }\n",
       "\n",
       "    .dataframe thead th {\n",
       "        text-align: right;\n",
       "    }\n",
       "</style>\n",
       "<table border=\"1\" class=\"dataframe\">\n",
       "  <thead>\n",
       "    <tr style=\"text-align: right;\">\n",
       "      <th></th>\n",
       "      <th>Place</th>\n",
       "      <th>Temp_Jan</th>\n",
       "      <th>Temp_Jul</th>\n",
       "      <th>Language</th>\n",
       "      <th>Altitude</th>\n",
       "      <th>MeasureDate</th>\n",
       "      <th>Population</th>\n",
       "      <th>Temp_Jan_cat</th>\n",
       "      <th>Temp_Jul_cat</th>\n",
       "      <th>Tempdiff</th>\n",
       "      <th>Temp_JanF</th>\n",
       "      <th>Temp_JulF</th>\n",
       "    </tr>\n",
       "  </thead>\n",
       "  <tbody>\n",
       "    <tr>\n",
       "      <th>0</th>\n",
       "      <td>Ajaccio</td>\n",
       "      <td>9.0</td>\n",
       "      <td>22.9</td>\n",
       "      <td>French</td>\n",
       "      <td>38.0</td>\n",
       "      <td>NaT</td>\n",
       "      <td>68587.0</td>\n",
       "      <td>Average</td>\n",
       "      <td>Very High</td>\n",
       "      <td>-13.9</td>\n",
       "      <td>48.20</td>\n",
       "      <td>73.22</td>\n",
       "    </tr>\n",
       "    <tr>\n",
       "      <th>1</th>\n",
       "      <td>Amsterdam</td>\n",
       "      <td>3.4</td>\n",
       "      <td>17.6</td>\n",
       "      <td>Dutch</td>\n",
       "      <td>-2.0</td>\n",
       "      <td>NaT</td>\n",
       "      <td>1351587.0</td>\n",
       "      <td>Reasonaby Low</td>\n",
       "      <td>High</td>\n",
       "      <td>-14.2</td>\n",
       "      <td>38.12</td>\n",
       "      <td>63.68</td>\n",
       "    </tr>\n",
       "    <tr>\n",
       "      <th>2</th>\n",
       "      <td>Antwerp</td>\n",
       "      <td>3.4</td>\n",
       "      <td>18.5</td>\n",
       "      <td>Dutch</td>\n",
       "      <td>NaN</td>\n",
       "      <td>2016-01-01 00:00:00</td>\n",
       "      <td>517042.0</td>\n",
       "      <td>Reasonaby Low</td>\n",
       "      <td>High</td>\n",
       "      <td>-15.1</td>\n",
       "      <td>38.12</td>\n",
       "      <td>65.30</td>\n",
       "    </tr>\n",
       "  </tbody>\n",
       "</table>\n",
       "</div>"
      ],
      "text/plain": [
       "       Place  Temp_Jan  Temp_Jul Language  Altitude          MeasureDate  \\\n",
       "0    Ajaccio       9.0      22.9   French      38.0                  NaT   \n",
       "1  Amsterdam       3.4      17.6    Dutch      -2.0                  NaT   \n",
       "2    Antwerp       3.4      18.5    Dutch       NaN  2016-01-01 00:00:00   \n",
       "\n",
       "   Population   Temp_Jan_cat Temp_Jul_cat  Tempdiff  Temp_JanF  Temp_JulF  \n",
       "0     68587.0        Average    Very High     -13.9      48.20      73.22  \n",
       "1   1351587.0  Reasonaby Low         High     -14.2      38.12      63.68  \n",
       "2    517042.0  Reasonaby Low         High     -15.1      38.12      65.30  "
      ]
     },
     "execution_count": 103,
     "metadata": {},
     "output_type": "execute_result"
    }
   ],
   "source": [
    "df.head(3)"
   ]
  },
  {
   "cell_type": "markdown",
   "metadata": {},
   "source": [
    "[<font color=\"gray\">▲▲▲</font>](#contents)"
   ]
  },
  {
   "cell_type": "markdown",
   "metadata": {},
   "source": [
    "## **<a name=\"q22\">22. Merging data</a>**"
   ]
  },
  {
   "cell_type": "markdown",
   "metadata": {},
   "source": [
    "Another operation that is quite frequently used is <font color=\"blue\">merge</font>.\n",
    "Note that this is different from <font color=\"blue\">append</font> that we applied before, which only concatenated the rows of two dataframes. Now we are going to add a new column <font color=\"red\">Prec_Jan</font>, reflecting precipitation (rainfall).   "
   ]
  },
  {
   "cell_type": "code",
   "execution_count": 104,
   "metadata": {
    "scrolled": true
   },
   "outputs": [],
   "source": [
    "data = {'Place': ['Amsterdam', 'Barcelona', 'Paris', 'Geneva', 'Munich', 'Athens', 'Vienna', 'Stockholm', 'Oslo','Helsinki', 'Lulea', 'Edinburgh', 'Birmingham', 'Cork', 'Antwerp', 'Lille', 'Bordeaux', 'Malaga', 'Porto', 'Venice', 'Ajaccio', 'Rijeka', 'Istanbul', 'Rome'],\n",
    "        'Prec_Jan': [66.6,43.7,53.7,76.0,48.0,56.9,21.3,39,54.9,52,34,67.5,73.2,131.4,69.3,60.5,87.3,69.0,147.1,47.0,56.7,128.7,105.0,66.9],\n",
    "        }\n",
    "df3 = pd.DataFrame(data, columns = ['Place', 'Prec_Jan'])"
   ]
  },
  {
   "cell_type": "code",
   "execution_count": 105,
   "metadata": {},
   "outputs": [
    {
     "data": {
      "text/html": [
       "<div>\n",
       "<style scoped>\n",
       "    .dataframe tbody tr th:only-of-type {\n",
       "        vertical-align: middle;\n",
       "    }\n",
       "\n",
       "    .dataframe tbody tr th {\n",
       "        vertical-align: top;\n",
       "    }\n",
       "\n",
       "    .dataframe thead th {\n",
       "        text-align: right;\n",
       "    }\n",
       "</style>\n",
       "<table border=\"1\" class=\"dataframe\">\n",
       "  <thead>\n",
       "    <tr style=\"text-align: right;\">\n",
       "      <th></th>\n",
       "      <th>Place</th>\n",
       "      <th>Prec_Jan</th>\n",
       "    </tr>\n",
       "  </thead>\n",
       "  <tbody>\n",
       "    <tr>\n",
       "      <th>0</th>\n",
       "      <td>Amsterdam</td>\n",
       "      <td>66.6</td>\n",
       "    </tr>\n",
       "    <tr>\n",
       "      <th>1</th>\n",
       "      <td>Barcelona</td>\n",
       "      <td>43.7</td>\n",
       "    </tr>\n",
       "    <tr>\n",
       "      <th>2</th>\n",
       "      <td>Paris</td>\n",
       "      <td>53.7</td>\n",
       "    </tr>\n",
       "  </tbody>\n",
       "</table>\n",
       "</div>"
      ],
      "text/plain": [
       "       Place  Prec_Jan\n",
       "0  Amsterdam      66.6\n",
       "1  Barcelona      43.7\n",
       "2      Paris      53.7"
      ]
     },
     "execution_count": 105,
     "metadata": {},
     "output_type": "execute_result"
    }
   ],
   "source": [
    "df3.head(3)"
   ]
  },
  {
   "cell_type": "markdown",
   "metadata": {},
   "source": [
    "We are going to use the Pandas function <font color=\"blue\">pd.merge</font>. The columns of the two DataFrames are merged on <font color=\"blue\">Place</font>, and the parameter <font color=\"blue\">how='left'</font> means that dataset <font color=\"red\">df</font> serves as base (missing values are filled with NaN). "
   ]
  },
  {
   "cell_type": "code",
   "execution_count": 106,
   "metadata": {},
   "outputs": [],
   "source": [
    "df = pd.merge(df, df3, how='left', on='Place')"
   ]
  },
  {
   "cell_type": "code",
   "execution_count": 107,
   "metadata": {},
   "outputs": [
    {
     "data": {
      "text/html": [
       "<div>\n",
       "<style scoped>\n",
       "    .dataframe tbody tr th:only-of-type {\n",
       "        vertical-align: middle;\n",
       "    }\n",
       "\n",
       "    .dataframe tbody tr th {\n",
       "        vertical-align: top;\n",
       "    }\n",
       "\n",
       "    .dataframe thead th {\n",
       "        text-align: right;\n",
       "    }\n",
       "</style>\n",
       "<table border=\"1\" class=\"dataframe\">\n",
       "  <thead>\n",
       "    <tr style=\"text-align: right;\">\n",
       "      <th></th>\n",
       "      <th>Place</th>\n",
       "      <th>Temp_Jan</th>\n",
       "      <th>Temp_Jul</th>\n",
       "      <th>Language</th>\n",
       "      <th>Altitude</th>\n",
       "      <th>MeasureDate</th>\n",
       "      <th>Population</th>\n",
       "      <th>Temp_Jan_cat</th>\n",
       "      <th>Temp_Jul_cat</th>\n",
       "      <th>Tempdiff</th>\n",
       "      <th>Temp_JanF</th>\n",
       "      <th>Temp_JulF</th>\n",
       "      <th>Prec_Jan</th>\n",
       "    </tr>\n",
       "  </thead>\n",
       "  <tbody>\n",
       "    <tr>\n",
       "      <th>0</th>\n",
       "      <td>Ajaccio</td>\n",
       "      <td>9.0</td>\n",
       "      <td>22.9</td>\n",
       "      <td>French</td>\n",
       "      <td>38.0</td>\n",
       "      <td>NaT</td>\n",
       "      <td>68587.0</td>\n",
       "      <td>Average</td>\n",
       "      <td>Very High</td>\n",
       "      <td>-13.9</td>\n",
       "      <td>48.20</td>\n",
       "      <td>73.22</td>\n",
       "      <td>56.7</td>\n",
       "    </tr>\n",
       "    <tr>\n",
       "      <th>1</th>\n",
       "      <td>Amsterdam</td>\n",
       "      <td>3.4</td>\n",
       "      <td>17.6</td>\n",
       "      <td>Dutch</td>\n",
       "      <td>-2.0</td>\n",
       "      <td>NaT</td>\n",
       "      <td>1351587.0</td>\n",
       "      <td>Reasonaby Low</td>\n",
       "      <td>High</td>\n",
       "      <td>-14.2</td>\n",
       "      <td>38.12</td>\n",
       "      <td>63.68</td>\n",
       "      <td>66.6</td>\n",
       "    </tr>\n",
       "    <tr>\n",
       "      <th>2</th>\n",
       "      <td>Antwerp</td>\n",
       "      <td>3.4</td>\n",
       "      <td>18.5</td>\n",
       "      <td>Dutch</td>\n",
       "      <td>NaN</td>\n",
       "      <td>2016-01-01 00:00:00</td>\n",
       "      <td>517042.0</td>\n",
       "      <td>Reasonaby Low</td>\n",
       "      <td>High</td>\n",
       "      <td>-15.1</td>\n",
       "      <td>38.12</td>\n",
       "      <td>65.30</td>\n",
       "      <td>69.3</td>\n",
       "    </tr>\n",
       "  </tbody>\n",
       "</table>\n",
       "</div>"
      ],
      "text/plain": [
       "       Place  Temp_Jan  Temp_Jul Language  Altitude          MeasureDate  \\\n",
       "0    Ajaccio       9.0      22.9   French      38.0                  NaT   \n",
       "1  Amsterdam       3.4      17.6    Dutch      -2.0                  NaT   \n",
       "2    Antwerp       3.4      18.5    Dutch       NaN  2016-01-01 00:00:00   \n",
       "\n",
       "   Population   Temp_Jan_cat Temp_Jul_cat  Tempdiff  Temp_JanF  Temp_JulF  \\\n",
       "0     68587.0        Average    Very High     -13.9      48.20      73.22   \n",
       "1   1351587.0  Reasonaby Low         High     -14.2      38.12      63.68   \n",
       "2    517042.0  Reasonaby Low         High     -15.1      38.12      65.30   \n",
       "\n",
       "   Prec_Jan  \n",
       "0      56.7  \n",
       "1      66.6  \n",
       "2      69.3  "
      ]
     },
     "execution_count": 107,
     "metadata": {},
     "output_type": "execute_result"
    }
   ],
   "source": [
    "df.head(3)"
   ]
  },
  {
   "cell_type": "markdown",
   "metadata": {},
   "source": [
    "[<font color=\"gray\">▲▲▲</font>](#contents)"
   ]
  },
  {
   "cell_type": "markdown",
   "metadata": {},
   "source": [
    "## **<a name=\"q23\">23. More scatterplots</a>**"
   ]
  },
  {
   "cell_type": "markdown",
   "metadata": {},
   "source": [
    "We already explored the relation between temperature in January and July, using the scatterplot function. We are now going to plot the relation between temperature and precipitation in January. "
   ]
  },
  {
   "cell_type": "code",
   "execution_count": 108,
   "metadata": {},
   "outputs": [
    {
     "data": {
      "image/png": "[encoded data removed]",
      "text/plain": [
       "<Figure size 800x800 with 1 Axes>"
      ]
     },
     "metadata": {},
     "output_type": "display_data"
    }
   ],
   "source": [
    "mpl.rcParams['font.size'] = 10.0\n",
    "plt.figure(figsize = (8, 8))\n",
    "plt.scatter(df.Temp_Jan, df.Prec_Jan, c = 'yellow', s=50)\n",
    "plt.title('Relation between winter rain and temperature')\n",
    "plt.xlabel('Temperature in January (Celsius)')\n",
    "plt.ylabel('Precipitation in January (mm)')\n",
    "plt.show()"
   ]
  },
  {
   "cell_type": "markdown",
   "metadata": {},
   "source": [
    "Python offers several packages for data visualization. The following shows a similar scatterplot but now using Seaborn. It automatically adds a regression line to the plot. So what the data suggest is that when average temperatures were higher, the more rainfall there was in January."
   ]
  },
  {
   "cell_type": "code",
   "execution_count": 109,
   "metadata": {},
   "outputs": [
    {
     "data": {
      "image/png": "[encoded data removed]",
      "text/plain": [
       "<Figure size 640x480 with 1 Axes>"
      ]
     },
     "metadata": {},
     "output_type": "display_data"
    }
   ],
   "source": [
    "sns.set(color_codes=True)\n",
    "ax = sns.regplot(x=\"Temp_Jan\", y=\"Prec_Jan\", data=df)\n",
    "ax.set(xlabel='Temperature in January (Celsius)', ylabel='precipitation in January (mm)')\n",
    "plt.show()"
   ]
  },
  {
   "cell_type": "markdown",
   "metadata": {},
   "source": [
    "[<font color=\"gray\">▲▲▲</font>](#contents)"
   ]
  },
  {
   "cell_type": "markdown",
   "metadata": {},
   "source": [
    "## **<a name=\"q24\">24. Geographical mapping</a>**"
   ]
  },
  {
   "cell_type": "markdown",
   "metadata": {
    "collapsed": true
   },
   "source": [
    "A geographic map can be made for these cities. For this purpose it would be nice to have coordinates, -- the longitude and latitude data --, for the different cities. The longitude is the distance east or west of the prime meridian (i.e., imaginary line from north to south through Greenwich, England). The latitude is the distance north or south of the equator. Both are measured in terms of the 360 degrees of a circle. "
   ]
  },
  {
   "cell_type": "code",
   "execution_count": 110,
   "metadata": {},
   "outputs": [],
   "source": [
    "data = {'Place': ['Amsterdam', 'Barcelona', 'Paris', 'Geneva', 'Munich', 'Athens', 'Vienna', 'Stockholm', 'Oslo', 'Helsinki', 'Lulea', 'Edinburgh', 'Birmingham', 'Cork', 'Antwerp', 'Lille', 'Bordeaux', 'Malaga', 'Porto', 'Venice', 'Ajaccio', 'Rijeka', 'Istanbul', 'Rome', 'Madrid'],\n",
    "        'Lat': [52.38, 41.38, 48.86, 46.20, 48.15, 37.97, 48.2, 59.32, 59.95, 60.17, 65.58, 55.95, 52.48, 51.90, 51.22, 50.64, 44.84, 36.72, 41.13, 45.44, 41.93, 45.33, 41.01, 41.89, 40.43],\n",
    "        'Long': [4.9, 2.18, 2.35, 6.14, 11.58, 23.72, 16.37, 18.07, 10.75, 24.94, 22.15, -3.19, -1.89, -8.48, 4.4, 3.06, -0.58, -4.42, -8.67, 12.33, 8.74, 14.44, 28.98, 12.49, -3.68]}\n",
    "\n",
    "dfr = pd.DataFrame(data, columns = ['Place', 'Lat', 'Long'])"
   ]
  },
  {
   "cell_type": "markdown",
   "metadata": {},
   "source": [
    "We merge the coordinates data with our available DataFrame. "
   ]
  },
  {
   "cell_type": "code",
   "execution_count": 111,
   "metadata": {},
   "outputs": [],
   "source": [
    "dfn = pd.merge(df, dfr, how='left', on='Place') # x=long, y=lat"
   ]
  },
  {
   "cell_type": "markdown",
   "metadata": {},
   "source": [
    "As a next step we inspect some data:"
   ]
  },
  {
   "cell_type": "code",
   "execution_count": 112,
   "metadata": {},
   "outputs": [
    {
     "data": {
      "text/html": [
       "<div>\n",
       "<style scoped>\n",
       "    .dataframe tbody tr th:only-of-type {\n",
       "        vertical-align: middle;\n",
       "    }\n",
       "\n",
       "    .dataframe tbody tr th {\n",
       "        vertical-align: top;\n",
       "    }\n",
       "\n",
       "    .dataframe thead th {\n",
       "        text-align: right;\n",
       "    }\n",
       "</style>\n",
       "<table border=\"1\" class=\"dataframe\">\n",
       "  <thead>\n",
       "    <tr style=\"text-align: right;\">\n",
       "      <th></th>\n",
       "      <th>Place</th>\n",
       "      <th>Temp_Jan</th>\n",
       "      <th>Temp_Jul</th>\n",
       "      <th>Language</th>\n",
       "      <th>Altitude</th>\n",
       "      <th>MeasureDate</th>\n",
       "      <th>Population</th>\n",
       "      <th>Temp_Jan_cat</th>\n",
       "      <th>Temp_Jul_cat</th>\n",
       "      <th>Tempdiff</th>\n",
       "      <th>Temp_JanF</th>\n",
       "      <th>Temp_JulF</th>\n",
       "      <th>Prec_Jan</th>\n",
       "      <th>Lat</th>\n",
       "      <th>Long</th>\n",
       "    </tr>\n",
       "  </thead>\n",
       "  <tbody>\n",
       "    <tr>\n",
       "      <th>0</th>\n",
       "      <td>Ajaccio</td>\n",
       "      <td>9.0</td>\n",
       "      <td>22.9</td>\n",
       "      <td>French</td>\n",
       "      <td>38.0</td>\n",
       "      <td>NaT</td>\n",
       "      <td>68587.0</td>\n",
       "      <td>Average</td>\n",
       "      <td>Very High</td>\n",
       "      <td>-13.9</td>\n",
       "      <td>48.20</td>\n",
       "      <td>73.22</td>\n",
       "      <td>56.7</td>\n",
       "      <td>41.93</td>\n",
       "      <td>8.74</td>\n",
       "    </tr>\n",
       "    <tr>\n",
       "      <th>1</th>\n",
       "      <td>Amsterdam</td>\n",
       "      <td>3.4</td>\n",
       "      <td>17.6</td>\n",
       "      <td>Dutch</td>\n",
       "      <td>-2.0</td>\n",
       "      <td>NaT</td>\n",
       "      <td>1351587.0</td>\n",
       "      <td>Reasonaby Low</td>\n",
       "      <td>High</td>\n",
       "      <td>-14.2</td>\n",
       "      <td>38.12</td>\n",
       "      <td>63.68</td>\n",
       "      <td>66.6</td>\n",
       "      <td>52.38</td>\n",
       "      <td>4.90</td>\n",
       "    </tr>\n",
       "    <tr>\n",
       "      <th>2</th>\n",
       "      <td>Antwerp</td>\n",
       "      <td>3.4</td>\n",
       "      <td>18.5</td>\n",
       "      <td>Dutch</td>\n",
       "      <td>NaN</td>\n",
       "      <td>2016-01-01 00:00:00</td>\n",
       "      <td>517042.0</td>\n",
       "      <td>Reasonaby Low</td>\n",
       "      <td>High</td>\n",
       "      <td>-15.1</td>\n",
       "      <td>38.12</td>\n",
       "      <td>65.30</td>\n",
       "      <td>69.3</td>\n",
       "      <td>51.22</td>\n",
       "      <td>4.40</td>\n",
       "    </tr>\n",
       "  </tbody>\n",
       "</table>\n",
       "</div>"
      ],
      "text/plain": [
       "       Place  Temp_Jan  Temp_Jul Language  Altitude          MeasureDate  \\\n",
       "0    Ajaccio       9.0      22.9   French      38.0                  NaT   \n",
       "1  Amsterdam       3.4      17.6    Dutch      -2.0                  NaT   \n",
       "2    Antwerp       3.4      18.5    Dutch       NaN  2016-01-01 00:00:00   \n",
       "\n",
       "   Population   Temp_Jan_cat Temp_Jul_cat  Tempdiff  Temp_JanF  Temp_JulF  \\\n",
       "0     68587.0        Average    Very High     -13.9      48.20      73.22   \n",
       "1   1351587.0  Reasonaby Low         High     -14.2      38.12      63.68   \n",
       "2    517042.0  Reasonaby Low         High     -15.1      38.12      65.30   \n",
       "\n",
       "   Prec_Jan    Lat  Long  \n",
       "0      56.7  41.93  8.74  \n",
       "1      66.6  52.38  4.90  \n",
       "2      69.3  51.22  4.40  "
      ]
     },
     "execution_count": 112,
     "metadata": {},
     "output_type": "execute_result"
    }
   ],
   "source": [
    "dfn.head(3)"
   ]
  },
  {
   "cell_type": "markdown",
   "metadata": {},
   "source": [
    "We are then using Basemap for the geographical mapping. We do a straightforward map of the cities, with the diameter of circles reflecting the population size."
   ]
  },
  {
   "cell_type": "markdown",
   "metadata": {},
   "source": [
    "First, we need to use longitude and latitude data. It would therefore be good to identify the column <font color=\"red\">Lat</font> and <font color=\"red\">Long</font> *automatically*. This means, that the script should still work in the event we added or removed some of the columns. How to do that? The central part is using the function <font color=\"blue\">np.where</font>, and to search for the variable name."
   ]
  },
  {
   "cell_type": "code",
   "execution_count": 113,
   "metadata": {},
   "outputs": [
    {
     "data": {
      "text/plain": [
       "(array([0], dtype=int64), array([14], dtype=int64))"
      ]
     },
     "execution_count": 113,
     "metadata": {},
     "output_type": "execute_result"
    }
   ],
   "source": [
    "np.where([dfn.columns=='Long'])"
   ]
  },
  {
   "cell_type": "code",
   "execution_count": 114,
   "metadata": {},
   "outputs": [
    {
     "data": {
      "text/plain": [
       "Index(['Place', 'Temp_Jan', 'Temp_Jul', 'Language', 'Altitude', 'MeasureDate',\n",
       "       'Population', 'Temp_Jan_cat', 'Temp_Jul_cat', 'Tempdiff', 'Temp_JanF',\n",
       "       'Temp_JulF', 'Prec_Jan', 'Lat', 'Long'],\n",
       "      dtype='object')"
      ]
     },
     "execution_count": 114,
     "metadata": {},
     "output_type": "execute_result"
    }
   ],
   "source": [
    "dfn.columns"
   ]
  },
  {
   "cell_type": "markdown",
   "metadata": {},
   "source": [
    "The following then writes for each variable name the index of the column."
   ]
  },
  {
   "cell_type": "code",
   "execution_count": 115,
   "metadata": {},
   "outputs": [],
   "source": [
    "longitude = np.where([dfn.columns=='Long'])[1].tolist()[0]\n",
    "latitude = np.where([dfn.columns=='Lat'])[1].tolist()[0]\n",
    "population = np.where([dfn.columns=='Population'])[1].tolist()[0]"
   ]
  },
  {
   "cell_type": "code",
   "execution_count": 116,
   "metadata": {},
   "outputs": [
    {
     "name": "stdout",
     "output_type": "stream",
     "text": [
      "14 13 6\n"
     ]
    }
   ],
   "source": [
    "print(longitude, latitude, population)"
   ]
  },
  {
   "cell_type": "markdown",
   "metadata": {},
   "source": [
    "The three parameters, - <font color=\"red\">longitude</font>, <font color=\"red\">latitude</font>, and <font color=\"red\">population</font> -, are used in the geographic plotting of the cities. Other code such as <font color=\"blue\">Basemap()</font>, <font color=\"blue\">drawmapboundary()</font>, <font color=\"blue\">etopo()</font>, <font color=\"blue\">drawcoastlines()</font>, <font color=\"blue\">drawcountries()</font> are all used to set-up the European map."
   ]
  },
  {
   "cell_type": "code",
   "execution_count": 117,
   "metadata": {},
   "outputs": [
    {
     "ename": "NameError",
     "evalue": "name 'Basemap' is not defined",
     "output_type": "error",
     "traceback": [
      "\u001b[1;31m---------------------------------------------------------------------------\u001b[0m",
      "\u001b[1;31mNameError\u001b[0m                                 Traceback (most recent call last)",
      "\u001b[1;32m<ipython-input-117-fd370717b096>\u001b[0m in \u001b[0;36m<module>\u001b[1;34m\u001b[0m\n\u001b[0;32m      2\u001b[0m \u001b[1;33m\u001b[0m\u001b[0m\n\u001b[0;32m      3\u001b[0m \u001b[0mplt\u001b[0m\u001b[1;33m.\u001b[0m\u001b[0mfigure\u001b[0m\u001b[1;33m(\u001b[0m\u001b[0mfigsize\u001b[0m\u001b[1;33m=\u001b[0m\u001b[1;33m(\u001b[0m\u001b[1;36m10\u001b[0m\u001b[1;33m,\u001b[0m\u001b[1;36m10\u001b[0m\u001b[1;33m)\u001b[0m\u001b[1;33m)\u001b[0m\u001b[1;33m\u001b[0m\u001b[1;33m\u001b[0m\u001b[0m\n\u001b[1;32m----> 4\u001b[1;33m \u001b[0mmap\u001b[0m \u001b[1;33m=\u001b[0m \u001b[0mBasemap\u001b[0m\u001b[1;33m(\u001b[0m\u001b[0mprojection\u001b[0m\u001b[1;33m=\u001b[0m\u001b[1;34m'aeqd'\u001b[0m\u001b[1;33m,\u001b[0m \u001b[0mlon_0\u001b[0m \u001b[1;33m=\u001b[0m \u001b[1;36m10\u001b[0m\u001b[1;33m,\u001b[0m \u001b[0mlat_0\u001b[0m \u001b[1;33m=\u001b[0m \u001b[1;36m50\u001b[0m\u001b[1;33m,\u001b[0m \u001b[0mwidth\u001b[0m \u001b[1;33m=\u001b[0m \u001b[1;36m5000000\u001b[0m\u001b[1;33m,\u001b[0m \u001b[0mheight\u001b[0m \u001b[1;33m=\u001b[0m \u001b[1;36m5000000\u001b[0m\u001b[1;33m,\u001b[0m \u001b[0mresolution\u001b[0m\u001b[1;33m=\u001b[0m\u001b[1;34m'l'\u001b[0m\u001b[1;33m)\u001b[0m \u001b[1;31m# set res=h\u001b[0m\u001b[1;33m\u001b[0m\u001b[1;33m\u001b[0m\u001b[0m\n\u001b[0m\u001b[0;32m      5\u001b[0m \u001b[0mmap\u001b[0m\u001b[1;33m.\u001b[0m\u001b[0mdrawmapboundary\u001b[0m\u001b[1;33m(\u001b[0m\u001b[0mfill_color\u001b[0m\u001b[1;33m=\u001b[0m\u001b[1;34m'white'\u001b[0m\u001b[1;33m)\u001b[0m\u001b[1;33m\u001b[0m\u001b[1;33m\u001b[0m\u001b[0m\n\u001b[0;32m      6\u001b[0m \u001b[0mmap\u001b[0m\u001b[1;33m.\u001b[0m\u001b[0metopo\u001b[0m\u001b[1;33m(\u001b[0m\u001b[1;33m)\u001b[0m\u001b[1;33m\u001b[0m\u001b[1;33m\u001b[0m\u001b[0m\n",
      "\u001b[1;31mNameError\u001b[0m: name 'Basemap' is not defined"
     ]
    },
    {
     "data": {
      "text/plain": [
       "<Figure size 1000x1000 with 0 Axes>"
      ]
     },
     "metadata": {},
     "output_type": "display_data"
    }
   ],
   "source": [
    "scale = 0.005\n",
    "\n",
    "plt.figure(figsize=(10,10))\n",
    "map = Basemap(projection='aeqd', lon_0 = 10, lat_0 = 50, width = 5000000, height = 5000000, resolution='l') # set res=h\n",
    "map.drawmapboundary(fill_color='white')\n",
    "map.etopo()\n",
    "map.drawcoastlines()\n",
    "map.drawcountries()\n",
    "\n",
    "for i in range(0,len(dfn)-1):\n",
    "        print(dfn.ix[i,longitude], dfn.ix[i,latitude])\n",
    "        x, y = map(dfn.ix[i,longitude], dfn.ix[i,latitude])\n",
    "        map.plot(x,y,marker='o', color='Red', markersize=int(math.sqrt(dfn.ix[i,population]))*scale)\n",
    "plt.show()"
   ]
  },
  {
   "cell_type": "markdown",
   "metadata": {},
   "source": [
    "[<font color=\"gray\">▲▲▲</font>](#contents)"
   ]
  },
  {
   "cell_type": "markdown",
   "metadata": {},
   "source": [
    "## **<a name=\"q25\">25. Lineplots</a>**"
   ]
  },
  {
   "cell_type": "markdown",
   "metadata": {},
   "source": [
    "Temperatures may differ given the longitude and latitude coordinates of the cities, and this is what we may inspect visually. Such a relationship between these coordinates and temperatures could be displayed with lineplots. It should be said in advance that strictly spoken it is not correct to use lineplots in this case, as the measures inbetween the single coordinates are unknown (actually NaNs, so we may not assume it to be linear inbetween). However, for this tutorial we accept this criticism as less important than the exploratory insight that these lineplot offer."
   ]
  },
  {
   "cell_type": "markdown",
   "metadata": {},
   "source": [
    "We start with the longitude data. A negative longitude means West of the prime meridian.\n",
    "To get a valid display of data, it needs to be sorted:"
   ]
  },
  {
   "cell_type": "code",
   "execution_count": 118,
   "metadata": {},
   "outputs": [],
   "source": [
    "dfn = dfn.sort_values(by='Long')"
   ]
  },
  {
   "cell_type": "code",
   "execution_count": 119,
   "metadata": {},
   "outputs": [
    {
     "data": {
      "text/plain": [
       "18   -8.67\n",
       "7    -8.48\n",
       "14   -4.42\n",
       "24   -3.68\n",
       "8    -3.19\n",
       "Name: Long, dtype: float64"
      ]
     },
     "execution_count": 119,
     "metadata": {},
     "output_type": "execute_result"
    }
   ],
   "source": [
    "dfn.Long.head(5)"
   ]
  },
  {
   "cell_type": "markdown",
   "metadata": {},
   "source": [
    "We then use the <font color=\"blue\">plot</font> function in Matplotlib. At first sight there seems no special trend, though it should be said that we only have few datapoints available."
   ]
  },
  {
   "cell_type": "code",
   "execution_count": 120,
   "metadata": {},
   "outputs": [
    {
     "name": "stderr",
     "output_type": "stream",
     "text": [
      "C:\\Users\\Microsoft\\Anaconda3\\lib\\_collections_abc.py:841: MatplotlibDeprecationWarning:\n",
      "\n",
      "\n",
      "The examples.directory rcparam was deprecated in Matplotlib 3.0 and will be removed in 3.2. In the future, examples will be found relative to the 'datapath' directory.\n",
      "\n",
      "C:\\Users\\Microsoft\\Anaconda3\\lib\\_collections_abc.py:841: MatplotlibDeprecationWarning:\n",
      "\n",
      "\n",
      "The savefig.frameon rcparam was deprecated in Matplotlib 3.1 and will be removed in 3.3.\n",
      "\n",
      "C:\\Users\\Microsoft\\Anaconda3\\lib\\_collections_abc.py:841: MatplotlibDeprecationWarning:\n",
      "\n",
      "\n",
      "The text.latex.unicode rcparam was deprecated in Matplotlib 3.0 and will be removed in 3.2.\n",
      "\n",
      "C:\\Users\\Microsoft\\Anaconda3\\lib\\_collections_abc.py:841: MatplotlibDeprecationWarning:\n",
      "\n",
      "\n",
      "The verbose.fileo rcparam was deprecated in Matplotlib 3.1 and will be removed in 3.3.\n",
      "\n",
      "C:\\Users\\Microsoft\\Anaconda3\\lib\\_collections_abc.py:841: MatplotlibDeprecationWarning:\n",
      "\n",
      "\n",
      "The verbose.level rcparam was deprecated in Matplotlib 3.1 and will be removed in 3.3.\n",
      "\n"
     ]
    },
    {
     "data": {
      "image/png": "[encoded data removed]",
      "text/plain": [
       "<Figure size 800x800 with 1 Axes>"
      ]
     },
     "metadata": {},
     "output_type": "display_data"
    }
   ],
   "source": [
    "sns.reset_orig()\n",
    "plt.figure(figsize = (8, 8))\n",
    "plt.plot(dfn.Long, dfn.Temp_Jan)\n",
    "plt.plot(dfn.Long, dfn.Temp_Jul)\n",
    "plt.xlabel('Longitude')\n",
    "plt.ylabel('Temperature (Celsius)')\n",
    "plt.legend(['Temperature January','Temperature July'], bbox_to_anchor=(0., 1.02, 1., .102), loc=3, mode=\"expand\", borderaxespad=0)\n",
    "plt.show()"
   ]
  },
  {
   "cell_type": "markdown",
   "metadata": {},
   "source": [
    "We do something similar for the latitude data. So we start sorting the data given the latitude. Note by the way that all values are positive, which is as expected, because all European cities are north of the equator.  "
   ]
  },
  {
   "cell_type": "code",
   "execution_count": null,
   "metadata": {
    "collapsed": true
   },
   "outputs": [],
   "source": [
    "dfn = dfn.sort_values(by='Lat')"
   ]
  },
  {
   "cell_type": "code",
   "execution_count": null,
   "metadata": {
    "collapsed": true
   },
   "outputs": [],
   "source": [
    "dfn.Lat.head(5)"
   ]
  },
  {
   "cell_type": "markdown",
   "metadata": {},
   "source": [
    "We again use the <font color=\"blue\">plot</font> function. As may be expected, there is a trend that southern cities have higher temperatures in January and July. Again, of course more data would be needed."
   ]
  },
  {
   "cell_type": "code",
   "execution_count": 121,
   "metadata": {},
   "outputs": [
    {
     "data": {
      "image/png": "[encoded data removed]",
      "text/plain": [
       "<Figure size 800x800 with 1 Axes>"
      ]
     },
     "metadata": {},
     "output_type": "display_data"
    }
   ],
   "source": [
    "plt.figure(figsize = (8, 8))\n",
    "plt.plot(dfn.Lat, dfn.Temp_Jan)\n",
    "plt.plot(dfn.Lat, dfn.Temp_Jul)\n",
    "plt.xlabel('Latitude')\n",
    "plt.ylabel('Temperature (Celsius)')\n",
    "plt.legend(['Temperature January','Temperature July'], bbox_to_anchor=(0., 1.02, 1., .102), loc=3, mode=\"expand\", borderaxespad=0)\n",
    "plt.show()"
   ]
  },
  {
   "cell_type": "markdown",
   "metadata": {},
   "source": [
    "[<font color=\"gray\">▲▲▲</font>](#contents)"
   ]
  },
  {
   "cell_type": "markdown",
   "metadata": {},
   "source": [
    "## **<a name=\"q26\">26. Remove rows and columns</a>**"
   ]
  },
  {
   "cell_type": "markdown",
   "metadata": {
    "collapsed": true
   },
   "source": [
    "To keep data organized and manageable, sometimes unneeded data need to be removed. So let us practice how to use the <font color=\"blue\">del</font> function to delete data.\n",
    "\n",
    "Remove the column <font color=\"red\">MeasureDate</font> . So let us check again *before* the removal:"
   ]
  },
  {
   "cell_type": "code",
   "execution_count": 122,
   "metadata": {},
   "outputs": [
    {
     "data": {
      "text/html": [
       "<div>\n",
       "<style scoped>\n",
       "    .dataframe tbody tr th:only-of-type {\n",
       "        vertical-align: middle;\n",
       "    }\n",
       "\n",
       "    .dataframe tbody tr th {\n",
       "        vertical-align: top;\n",
       "    }\n",
       "\n",
       "    .dataframe thead th {\n",
       "        text-align: right;\n",
       "    }\n",
       "</style>\n",
       "<table border=\"1\" class=\"dataframe\">\n",
       "  <thead>\n",
       "    <tr style=\"text-align: right;\">\n",
       "      <th></th>\n",
       "      <th>Place</th>\n",
       "      <th>Temp_Jan</th>\n",
       "      <th>Temp_Jul</th>\n",
       "      <th>Language</th>\n",
       "      <th>Altitude</th>\n",
       "      <th>MeasureDate</th>\n",
       "      <th>Population</th>\n",
       "      <th>Temp_Jan_cat</th>\n",
       "      <th>Temp_Jul_cat</th>\n",
       "      <th>Tempdiff</th>\n",
       "      <th>Temp_JanF</th>\n",
       "      <th>Temp_JulF</th>\n",
       "      <th>Prec_Jan</th>\n",
       "      <th>Lat</th>\n",
       "      <th>Long</th>\n",
       "    </tr>\n",
       "  </thead>\n",
       "  <tbody>\n",
       "    <tr>\n",
       "      <th>18</th>\n",
       "      <td>Porto</td>\n",
       "      <td>9.5</td>\n",
       "      <td>20.6</td>\n",
       "      <td>Portuguese</td>\n",
       "      <td>0.0</td>\n",
       "      <td>NaT</td>\n",
       "      <td>1774000.0</td>\n",
       "      <td>Average</td>\n",
       "      <td>Very High</td>\n",
       "      <td>-11.1</td>\n",
       "      <td>49.10</td>\n",
       "      <td>69.08</td>\n",
       "      <td>147.1</td>\n",
       "      <td>41.13</td>\n",
       "      <td>-8.67</td>\n",
       "    </tr>\n",
       "    <tr>\n",
       "      <th>7</th>\n",
       "      <td>Cork</td>\n",
       "      <td>5.6</td>\n",
       "      <td>15.3</td>\n",
       "      <td>English</td>\n",
       "      <td>NaN</td>\n",
       "      <td>NaT</td>\n",
       "      <td>208669.0</td>\n",
       "      <td>Average</td>\n",
       "      <td>High</td>\n",
       "      <td>-9.7</td>\n",
       "      <td>42.08</td>\n",
       "      <td>59.54</td>\n",
       "      <td>131.4</td>\n",
       "      <td>51.90</td>\n",
       "      <td>-8.48</td>\n",
       "    </tr>\n",
       "  </tbody>\n",
       "</table>\n",
       "</div>"
      ],
      "text/plain": [
       "    Place  Temp_Jan  Temp_Jul    Language  Altitude MeasureDate  Population  \\\n",
       "18  Porto       9.5      20.6  Portuguese       0.0         NaT   1774000.0   \n",
       "7    Cork       5.6      15.3     English       NaN         NaT    208669.0   \n",
       "\n",
       "   Temp_Jan_cat Temp_Jul_cat  Tempdiff  Temp_JanF  Temp_JulF  Prec_Jan    Lat  \\\n",
       "18      Average    Very High     -11.1      49.10      69.08     147.1  41.13   \n",
       "7       Average         High      -9.7      42.08      59.54     131.4  51.90   \n",
       "\n",
       "    Long  \n",
       "18 -8.67  \n",
       "7  -8.48  "
      ]
     },
     "execution_count": 122,
     "metadata": {},
     "output_type": "execute_result"
    }
   ],
   "source": [
    "dfn.head(2)"
   ]
  },
  {
   "cell_type": "markdown",
   "metadata": {},
   "source": [
    "Here is the <font color=\"blue\">del</font> command."
   ]
  },
  {
   "cell_type": "code",
   "execution_count": 123,
   "metadata": {},
   "outputs": [],
   "source": [
    "del dfn['MeasureDate']"
   ]
  },
  {
   "cell_type": "markdown",
   "metadata": {},
   "source": [
    "Now let us see the DataFrame *after* removal of a column."
   ]
  },
  {
   "cell_type": "code",
   "execution_count": 124,
   "metadata": {},
   "outputs": [
    {
     "data": {
      "text/html": [
       "<div>\n",
       "<style scoped>\n",
       "    .dataframe tbody tr th:only-of-type {\n",
       "        vertical-align: middle;\n",
       "    }\n",
       "\n",
       "    .dataframe tbody tr th {\n",
       "        vertical-align: top;\n",
       "    }\n",
       "\n",
       "    .dataframe thead th {\n",
       "        text-align: right;\n",
       "    }\n",
       "</style>\n",
       "<table border=\"1\" class=\"dataframe\">\n",
       "  <thead>\n",
       "    <tr style=\"text-align: right;\">\n",
       "      <th></th>\n",
       "      <th>Place</th>\n",
       "      <th>Temp_Jan</th>\n",
       "      <th>Temp_Jul</th>\n",
       "      <th>Language</th>\n",
       "      <th>Altitude</th>\n",
       "      <th>Population</th>\n",
       "      <th>Temp_Jan_cat</th>\n",
       "      <th>Temp_Jul_cat</th>\n",
       "      <th>Tempdiff</th>\n",
       "      <th>Temp_JanF</th>\n",
       "      <th>Temp_JulF</th>\n",
       "      <th>Prec_Jan</th>\n",
       "      <th>Lat</th>\n",
       "      <th>Long</th>\n",
       "    </tr>\n",
       "  </thead>\n",
       "  <tbody>\n",
       "    <tr>\n",
       "      <th>18</th>\n",
       "      <td>Porto</td>\n",
       "      <td>9.5</td>\n",
       "      <td>20.6</td>\n",
       "      <td>Portuguese</td>\n",
       "      <td>0.0</td>\n",
       "      <td>1774000.0</td>\n",
       "      <td>Average</td>\n",
       "      <td>Very High</td>\n",
       "      <td>-11.1</td>\n",
       "      <td>49.10</td>\n",
       "      <td>69.08</td>\n",
       "      <td>147.1</td>\n",
       "      <td>41.13</td>\n",
       "      <td>-8.67</td>\n",
       "    </tr>\n",
       "    <tr>\n",
       "      <th>7</th>\n",
       "      <td>Cork</td>\n",
       "      <td>5.6</td>\n",
       "      <td>15.3</td>\n",
       "      <td>English</td>\n",
       "      <td>NaN</td>\n",
       "      <td>208669.0</td>\n",
       "      <td>Average</td>\n",
       "      <td>High</td>\n",
       "      <td>-9.7</td>\n",
       "      <td>42.08</td>\n",
       "      <td>59.54</td>\n",
       "      <td>131.4</td>\n",
       "      <td>51.90</td>\n",
       "      <td>-8.48</td>\n",
       "    </tr>\n",
       "  </tbody>\n",
       "</table>\n",
       "</div>"
      ],
      "text/plain": [
       "    Place  Temp_Jan  Temp_Jul    Language  Altitude  Population Temp_Jan_cat  \\\n",
       "18  Porto       9.5      20.6  Portuguese       0.0   1774000.0      Average   \n",
       "7    Cork       5.6      15.3     English       NaN    208669.0      Average   \n",
       "\n",
       "   Temp_Jul_cat  Tempdiff  Temp_JanF  Temp_JulF  Prec_Jan    Lat  Long  \n",
       "18    Very High     -11.1      49.10      69.08     147.1  41.13 -8.67  \n",
       "7          High      -9.7      42.08      59.54     131.4  51.90 -8.48  "
      ]
     },
     "execution_count": 124,
     "metadata": {},
     "output_type": "execute_result"
    }
   ],
   "source": [
    "dfn.head(2)"
   ]
  },
  {
   "cell_type": "markdown",
   "metadata": {},
   "source": [
    "If you want to remove the first column (index=0) and third column (index=2). To make this definitive, the result needs to be written to the object <font color=\"red\">dfn</font>, such as <font color=\"gray\">dfn = dfn.drop(dfn.columns[[0,2]], axis=1)</font>."
   ]
  },
  {
   "cell_type": "code",
   "execution_count": 125,
   "metadata": {},
   "outputs": [
    {
     "data": {
      "text/html": [
       "<div>\n",
       "<style scoped>\n",
       "    .dataframe tbody tr th:only-of-type {\n",
       "        vertical-align: middle;\n",
       "    }\n",
       "\n",
       "    .dataframe tbody tr th {\n",
       "        vertical-align: top;\n",
       "    }\n",
       "\n",
       "    .dataframe thead th {\n",
       "        text-align: right;\n",
       "    }\n",
       "</style>\n",
       "<table border=\"1\" class=\"dataframe\">\n",
       "  <thead>\n",
       "    <tr style=\"text-align: right;\">\n",
       "      <th></th>\n",
       "      <th>Temp_Jan</th>\n",
       "      <th>Language</th>\n",
       "      <th>Altitude</th>\n",
       "      <th>Population</th>\n",
       "      <th>Temp_Jan_cat</th>\n",
       "      <th>Temp_Jul_cat</th>\n",
       "      <th>Tempdiff</th>\n",
       "      <th>Temp_JanF</th>\n",
       "      <th>Temp_JulF</th>\n",
       "      <th>Prec_Jan</th>\n",
       "      <th>Lat</th>\n",
       "      <th>Long</th>\n",
       "    </tr>\n",
       "  </thead>\n",
       "  <tbody>\n",
       "    <tr>\n",
       "      <th>18</th>\n",
       "      <td>9.5</td>\n",
       "      <td>Portuguese</td>\n",
       "      <td>0.0</td>\n",
       "      <td>1774000.0</td>\n",
       "      <td>Average</td>\n",
       "      <td>Very High</td>\n",
       "      <td>-11.1</td>\n",
       "      <td>49.10</td>\n",
       "      <td>69.08</td>\n",
       "      <td>147.1</td>\n",
       "      <td>41.13</td>\n",
       "      <td>-8.67</td>\n",
       "    </tr>\n",
       "    <tr>\n",
       "      <th>7</th>\n",
       "      <td>5.6</td>\n",
       "      <td>English</td>\n",
       "      <td>NaN</td>\n",
       "      <td>208669.0</td>\n",
       "      <td>Average</td>\n",
       "      <td>High</td>\n",
       "      <td>-9.7</td>\n",
       "      <td>42.08</td>\n",
       "      <td>59.54</td>\n",
       "      <td>131.4</td>\n",
       "      <td>51.90</td>\n",
       "      <td>-8.48</td>\n",
       "    </tr>\n",
       "  </tbody>\n",
       "</table>\n",
       "</div>"
      ],
      "text/plain": [
       "    Temp_Jan    Language  Altitude  Population Temp_Jan_cat Temp_Jul_cat  \\\n",
       "18       9.5  Portuguese       0.0   1774000.0      Average    Very High   \n",
       "7        5.6     English       NaN    208669.0      Average         High   \n",
       "\n",
       "    Tempdiff  Temp_JanF  Temp_JulF  Prec_Jan    Lat  Long  \n",
       "18     -11.1      49.10      69.08     147.1  41.13 -8.67  \n",
       "7       -9.7      42.08      59.54     131.4  51.90 -8.48  "
      ]
     },
     "execution_count": 125,
     "metadata": {},
     "output_type": "execute_result"
    }
   ],
   "source": [
    "dfn.drop(dfn.columns[[0,2]], axis=1).head(2)"
   ]
  },
  {
   "cell_type": "markdown",
   "metadata": {},
   "source": [
    "[<font color=\"gray\">▲▲▲</font>](#contents)"
   ]
  },
  {
   "cell_type": "markdown",
   "metadata": {
    "collapsed": true
   },
   "source": [
    "## **<a name=\"q27\">27. Save DataFrame</a>** "
   ]
  },
  {
   "cell_type": "markdown",
   "metadata": {
    "collapsed": true
   },
   "source": [
    "We are going to save the DataFrame to a file with extension .csv. We name the file <font color=\"red\">dfn</font> including date in the filename, to always have a previous backup available. Of course, you can remove the date part if you like."
   ]
  },
  {
   "cell_type": "code",
   "execution_count": 126,
   "metadata": {},
   "outputs": [],
   "source": [
    "datestring = datetime.strftime(datetime.now(), '%Y-%m-%d')\n",
    "datestring\n",
    "dfn.to_csv('dfn-'+datestring+'.csv', sep=\",\")"
   ]
  },
  {
   "cell_type": "markdown",
   "metadata": {},
   "source": [
    "The file can be found back in the following directory:"
   ]
  },
  {
   "cell_type": "code",
   "execution_count": 127,
   "metadata": {},
   "outputs": [
    {
     "data": {
      "text/plain": [
       "'C:\\\\Users\\\\Microsoft\\\\Downloads\\\\Machine Learning\\\\Data Preprocessing'"
      ]
     },
     "execution_count": 127,
     "metadata": {},
     "output_type": "execute_result"
    }
   ],
   "source": [
    "os.getcwd()"
   ]
  },
  {
   "cell_type": "markdown",
   "metadata": {},
   "source": [
    "[<font color=\"gray\">▲▲▲</font>](#contents)"
   ]
  },
  {
   "cell_type": "markdown",
   "metadata": {},
   "source": [
    "## **Closing words**"
   ]
  },
  {
   "cell_type": "markdown",
   "metadata": {},
   "source": [
    "Python offers excellent flexible solutions. The goal of this tutorial was to give a broad scope of preprocessing and visualizations while at the same time avoiding too much detail and long chapters as can be found in books. For this reason I have presented diverse preprocessing steps and data visualization packages such as Matplotlib, Seaborn, and Plotly. \n",
    "\n",
    "By no means this guide is exhaustive. If you feel that something essential is missing in this guide, if you discovered an error, if you have remarks, if you have ideas about other city data that are interesting for analysis, or if you just like to say <font color=\"orange\">hello</font> and get in contact, please do not hesitate to drop a message: <font color=\"blue\">rrighart@googlemail.com</font>\n",
    "\n",
    "I am looking forward to hearing from you! \n",
    "\n",
    "**Note**: Please make sure to check this site regularly for possible updates. \n"
   ]
  },
  {
   "cell_type": "markdown",
   "metadata": {},
   "source": [
    "[<font color=\"gray\">▲▲▲</font>](#contents)"
   ]
  },
  {
   "cell_type": "markdown",
   "metadata": {},
   "source": [
    "[<font color=\"gray\">▲▲▲</font>](#contents)"
   ]
  }
 ],
 "metadata": {
  "kernelspec": {
   "display_name": "Python 3",
   "language": "python",
   "name": "python3"
  },
  "language_info": {
   "codemirror_mode": {
    "name": "ipython",
    "version": 3
   },
   "file_extension": ".py",
   "mimetype": "text/x-python",
   "name": "python",
   "nbconvert_exporter": "python",
   "pygments_lexer": "ipython3",
   "version": "3.7.3"
  }
 },
 "nbformat": 4,
 "nbformat_minor": 2
}
