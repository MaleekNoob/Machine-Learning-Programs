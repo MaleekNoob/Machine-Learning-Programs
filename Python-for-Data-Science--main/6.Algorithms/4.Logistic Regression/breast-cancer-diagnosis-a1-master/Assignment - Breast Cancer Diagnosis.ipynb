{
 "cells": [
  {
   "cell_type": "markdown",
   "metadata": {},
   "source": [
    "# Assignment 1\n",
    "\n",
    "Breast cancer is the most common malignancy among women, accounting for nearly 1 in 3 cancers diagnosed among women in the United States, and it is the second leading cause of cancer death among women. Breast cancer occurs as a result of abnormal growth of cells in the breast tissue, commonly referred to as a tumor. A tumor does not mean cancer - tumors can be benign (patient doesn't have breast cancer) or malignant (patient has breast cancer). Tests such as MRI, mammogram, ultrasound and biopsy are commonly used to diagnose breast cancer performed.\n",
    "\n",
    "\n",
    "In this assignment, you will be analyzing ultrasound data of breast cancer tumors. Several characteristics of the tumor are given in the dataset, and you will create a model that will predict whether or not a patient has a positive breast cancer diagnosis based off of the tumor characteristics.\n",
    "\n",
    "This data set contains the following features:\n",
    "\n",
    "* id (patientid)\n",
    "* name\n",
    "* radius (the distance from the center to the circumference of the tumor)\n",
    "* texture (standard deviation of gray-scale values)\n",
    "* perimeter (circumference of the tumor, approx. 2*3.14 *radius)\n",
    "* area\n",
    "* smoothness (local variation in radius lengths)\n",
    "* compactness\n",
    "* concavity (severity of concave portions of the contour)\n",
    "* symmetry\n",
    "* fractal_dimension\n",
    "* age\n",
    "* diagnosis: 0 or 1 indicating whether patient has breast cancer or not\n",
    "\n",
    "\n"
   ]
  },
  {
   "cell_type": "markdown",
   "metadata": {
    "collapsed": true
   },
   "source": [
    "## Library and Data Import"
   ]
  },
  {
   "cell_type": "code",
   "execution_count": 1,
   "metadata": {},
   "outputs": [
    {
     "name": "stdout",
     "output_type": "stream",
     "text": [
      "Libraries have been imported! :)\n"
     ]
    }
   ],
   "source": [
    "# importing libraries\n",
    "\n",
    "import pandas as pd\n",
    "import numpy as np\n",
    "import matplotlib.pyplot as plt\n",
    "import seaborn as sns\n",
    "%matplotlib inline\n",
    "print('Libraries have been imported! :)')"
   ]
  },
  {
   "cell_type": "code",
   "execution_count": 2,
   "metadata": {},
   "outputs": [],
   "source": [
    "train = pd.read_csv(\"breastcancer.csv\")"
   ]
  },
  {
   "cell_type": "code",
   "execution_count": 3,
   "metadata": {},
   "outputs": [
    {
     "name": "stdout",
     "output_type": "stream",
     "text": [
      "Preview:\n",
      "\n",
      "           id                     name  radius  texture  perimeter    area  \\\n",
      "0    ID842302           Glynnis Munson     NaN    10.38     122.80  1001.0   \n",
      "1    ID842517              Lana Behrer   20.57    17.77     132.90  1326.0   \n",
      "2  ID84300903  Devondra Vanvalkenburgh   19.69    21.25     130.00  1203.0   \n",
      "3  ID84348301          Glory Maravalle     NaN    20.38      77.58   386.1   \n",
      "4  ID84358402           Mellie Mccurdy   20.29    14.34     135.10  1297.0   \n",
      "\n",
      "   smoothness  compactness  concavity  symmetry  fractal_dimension  age  \\\n",
      "0     0.11840      0.27760     0.3001    0.2419            0.07871   35   \n",
      "1     0.08474      0.07864     0.0869    0.1812            0.05667   27   \n",
      "2     0.10960      0.15990     0.1974    0.2069            0.05999   31   \n",
      "3     0.14250      0.28390     0.2414    0.2597            0.09744   49   \n",
      "4     0.10030      0.13280     0.1980    0.1809            0.05883   20   \n",
      "\n",
      "   diagnosis  \n",
      "0          1  \n",
      "1          1  \n",
      "2          1  \n",
      "3          1  \n",
      "4          1  \n"
     ]
    }
   ],
   "source": [
    "print(f'Preview:\\n\\n{train.head()}')"
   ]
  },
  {
   "cell_type": "markdown",
   "metadata": {},
   "source": [
    "## Exploratory Data Analysis through Visualizations"
   ]
  },
  {
   "cell_type": "markdown",
   "metadata": {},
   "source": [
    "### Visualization #1: Heat Map"
   ]
  },
  {
   "cell_type": "markdown",
   "metadata": {},
   "source": [
    ">*seaborn.heatmap* documentation:\n",
    "https://seaborn.pydata.org/generated/seaborn.heatmap.html"
   ]
  },
  {
   "cell_type": "markdown",
   "metadata": {},
   "source": [
    "**Parameters Explained**\n",
    " - data\n",
    "     - 2D dataset that can be coerced into an ndarray\n",
    "     - if it's a pd.dataframe -> index/col information will be used to label the columns and rows\n",
    " - cmap\n",
    "     - mapping from data values to color space\n",
    "     - if not provided -> default will depend on whether or not *center* is set\n",
    " - center\n",
    "     - value at which to center the colormap when plotting divergent data\n",
    "     - using this parameter will change the default *cmap* if none is specified\n",
    " - yticklabels\n",
    "     - True -> plot col names of dataframe\n",
    "     - False -> do not plot col names of dataframe\n",
    " - vmin / vmax\n",
    "     - set limits of colorbar\n",
    " - cbar\n",
    "     - to add a colorbar or not"
   ]
  },
  {
   "cell_type": "code",
   "execution_count": 4,
   "metadata": {},
   "outputs": [
    {
     "data": {
      "image/png": "[encoded data removed]",
      "text/plain": [
       "<Figure size 432x288 with 2 Axes>"
      ]
     },
     "metadata": {
      "needs_background": "light"
     },
     "output_type": "display_data"
    }
   ],
   "source": [
    "# simple heat map showing where we are missing data\n",
    "\n",
    "heat_map = sns.heatmap(train.isnull(), yticklabels = False, cbar = True, cmap = \"PuRd\", vmin = 0, vmax = 1)\n",
    "\n",
    "plt.show()"
   ]
  },
  {
   "cell_type": "markdown",
   "metadata": {},
   "source": [
    "*Looks like we aren't missing too much data in radius - might need to insert dummy data*"
   ]
  },
  {
   "cell_type": "markdown",
   "metadata": {},
   "source": [
    "### Visualization #2: Count Plot"
   ]
  },
  {
   "cell_type": "markdown",
   "metadata": {},
   "source": [
    ">*seaborn set_style* documentation: https://seaborn.pydata.org/generated/seaborn.set_style.html"
   ]
  },
  {
   "cell_type": "markdown",
   "metadata": {},
   "source": [
    ">*seaborn countplot* documentation: https://seaborn.pydata.org/generated/seaborn.countplot.html"
   ]
  },
  {
   "cell_type": "markdown",
   "metadata": {},
   "source": [
    ">*seaborn color_palette* documentation: https://seaborn.pydata.org/generated/seaborn.color_palette.html#seaborn.color_palette"
   ]
  },
  {
   "cell_type": "markdown",
   "metadata": {},
   "source": [
    "**Parameters Explained**\n",
    " - style\n",
    "     - affects color of the axes, whether a grid is enabled by default, and other aesthetic elements\n",
    " - x,y\n",
    "     -  name of variable in the *data* parameter\n",
    " - data\n",
    "     - dataframe, array, or list of arrays for plotting\n",
    " - palette\n",
    "     - palette name, list, or dict\n",
    "     - colors to use"
   ]
  },
  {
   "cell_type": "code",
   "execution_count": 5,
   "metadata": {},
   "outputs": [
    {
     "data": {
      "text/plain": [
       "<matplotlib.axes._subplots.AxesSubplot at 0x1e97bd9cf98>"
      ]
     },
     "execution_count": 5,
     "metadata": {},
     "output_type": "execute_result"
    },
    {
     "data": {
      "image/png": "[encoded data removed]",
      "text/plain": [
       "<Figure size 432x288 with 1 Axes>"
      ]
     },
     "metadata": {},
     "output_type": "display_data"
    }
   ],
   "source": [
    "# a countplot shows the counts of observations in each categorical bin using bars\n",
    "# think of it as a histogram across a categorical, instead of quantitative, variable\n",
    "\n",
    "sns.set_style(\"whitegrid\")\n",
    "sns.countplot(data = train, x = 'diagnosis', palette = 'husl')"
   ]
  },
  {
   "cell_type": "markdown",
   "metadata": {},
   "source": [
    "### Visualization #3: Histogram"
   ]
  },
  {
   "cell_type": "code",
   "execution_count": 6,
   "metadata": {},
   "outputs": [
    {
     "data": {
      "text/plain": [
       "<matplotlib.axes._subplots.AxesSubplot at 0x1e97be2d7f0>"
      ]
     },
     "execution_count": 6,
     "metadata": {},
     "output_type": "execute_result"
    },
    {
     "data": {
      "image/png": "[encoded data removed]",
      "text/plain": [
       "<Figure size 720x432 with 1 Axes>"
      ]
     },
     "metadata": {},
     "output_type": "display_data"
    }
   ],
   "source": [
    "# let's check out the spread of ages using a histogram\n",
    "\n",
    "train['age'].plot.hist(bins = 25, figsize = (10,6))"
   ]
  },
  {
   "cell_type": "markdown",
   "metadata": {},
   "source": [
    "## Data Cleaning"
   ]
  },
  {
   "cell_type": "markdown",
   "metadata": {},
   "source": [
    "The missing radius data needs to be filled in (not just dropped) by filling in the mean radius. Let's check the average radius by diagnosis."
   ]
  },
  {
   "cell_type": "code",
   "execution_count": 7,
   "metadata": {},
   "outputs": [
    {
     "data": {
      "text/plain": [
       "<matplotlib.axes._subplots.AxesSubplot at 0x1e97bd50668>"
      ]
     },
     "execution_count": 7,
     "metadata": {},
     "output_type": "execute_result"
    },
    {
     "data": {
      "image/png": "[encoded data removed]",
      "text/plain": [
       "<Figure size 720x504 with 1 Axes>"
      ]
     },
     "metadata": {},
     "output_type": "display_data"
    }
   ],
   "source": [
    "plt.figure(figsize = (10,7))\n",
    "sns.boxplot(x = \"diagnosis\", y = \"radius\", data = train)"
   ]
  },
  {
   "cell_type": "markdown",
   "metadata": {},
   "source": [
    "Women who were diagnosed with breast cancer (diagnosis = 1) tend to have a higher tumor radius size (the distance from the center to the circumference of the tumor)."
   ]
  },
  {
   "cell_type": "code",
   "execution_count": 8,
   "metadata": {},
   "outputs": [
    {
     "data": {
      "text/plain": [
       "diagnosis\n",
       "0    12.340825\n",
       "1    17.896629\n",
       "Name: radius, dtype: float64"
      ]
     },
     "execution_count": 8,
     "metadata": {},
     "output_type": "execute_result"
    }
   ],
   "source": [
    "# calculate the average radius size by diagnosis (0 or 1)\n",
    "\n",
    "train.groupby('diagnosis')[\"radius\"].mean()"
   ]
  },
  {
   "cell_type": "code",
   "execution_count": 9,
   "metadata": {},
   "outputs": [],
   "source": [
    "# create a function that imputes average radius into missing values\n",
    "\n",
    "def impute_radius(cols):\n",
    "    radius = cols[0]\n",
    "    diagnosis = cols[1]\n",
    "    \n",
    "    # if value in radius column is null\n",
    "    if pd.isnull(radius):\n",
    "        \n",
    "        # if woman is diagnosed with breast cancer\n",
    "        if diagnosis == 1:\n",
    "            return 17\n",
    "        # if woman was not diagnosed with breast cancer\n",
    "        else:\n",
    "            return 12\n",
    "    # when value in radius column is not null\n",
    "    else:\n",
    "        # return that same value\n",
    "        return radius"
   ]
  },
  {
   "cell_type": "code",
   "execution_count": 10,
   "metadata": {},
   "outputs": [],
   "source": [
    "train['radius'] = train[['radius', 'diagnosis']].apply(impute_radius, axis = 1)"
   ]
  },
  {
   "cell_type": "code",
   "execution_count": 11,
   "metadata": {},
   "outputs": [
    {
     "data": {
      "image/png": "[encoded data removed]",
      "text/plain": [
       "<Figure size 432x288 with 2 Axes>"
      ]
     },
     "metadata": {},
     "output_type": "display_data"
    }
   ],
   "source": [
    "# check the heat map again after applying the above function\n",
    "\n",
    "heat_map = sns.heatmap(train.isnull(), yticklabels = False, cbar = True, cmap = \"PuRd\", vmin = 0, vmax = 1)\n",
    "\n",
    "plt.show()"
   ]
  },
  {
   "cell_type": "markdown",
   "metadata": {},
   "source": [
    "All rows that were missing data have now been imputed with the average radius size which was determined by whether or not the woman was diagnosed with breast cancer. No need to drop columns or impute more missing values."
   ]
  },
  {
   "cell_type": "code",
   "execution_count": 12,
   "metadata": {},
   "outputs": [
    {
     "name": "stdout",
     "output_type": "stream",
     "text": [
      "<class 'pandas.core.frame.DataFrame'>\n",
      "RangeIndex: 569 entries, 0 to 568\n",
      "Data columns (total 13 columns):\n",
      "id                   569 non-null object\n",
      "name                 569 non-null object\n",
      "radius               569 non-null float64\n",
      "texture              569 non-null float64\n",
      "perimeter            569 non-null float64\n",
      "area                 569 non-null float64\n",
      "smoothness           569 non-null float64\n",
      "compactness          569 non-null float64\n",
      "concavity            569 non-null float64\n",
      "symmetry             569 non-null float64\n",
      "fractal_dimension    569 non-null float64\n",
      "age                  569 non-null int64\n",
      "diagnosis            569 non-null int64\n",
      "dtypes: float64(9), int64(2), object(2)\n",
      "memory usage: 57.9+ KB\n"
     ]
    }
   ],
   "source": [
    "train.info()"
   ]
  },
  {
   "cell_type": "code",
   "execution_count": 13,
   "metadata": {},
   "outputs": [],
   "source": [
    "# dropping categorical variables\n",
    "\n",
    "train.drop(['id', 'name'], axis = 1, inplace = True)"
   ]
  },
  {
   "cell_type": "code",
   "execution_count": 14,
   "metadata": {},
   "outputs": [
    {
     "data": {
      "text/html": [
       "<div>\n",
       "<style scoped>\n",
       "    .dataframe tbody tr th:only-of-type {\n",
       "        vertical-align: middle;\n",
       "    }\n",
       "\n",
       "    .dataframe tbody tr th {\n",
       "        vertical-align: top;\n",
       "    }\n",
       "\n",
       "    .dataframe thead th {\n",
       "        text-align: right;\n",
       "    }\n",
       "</style>\n",
       "<table border=\"1\" class=\"dataframe\">\n",
       "  <thead>\n",
       "    <tr style=\"text-align: right;\">\n",
       "      <th></th>\n",
       "      <th>radius</th>\n",
       "      <th>texture</th>\n",
       "      <th>perimeter</th>\n",
       "      <th>area</th>\n",
       "      <th>smoothness</th>\n",
       "      <th>compactness</th>\n",
       "      <th>concavity</th>\n",
       "      <th>symmetry</th>\n",
       "      <th>fractal_dimension</th>\n",
       "      <th>age</th>\n",
       "      <th>diagnosis</th>\n",
       "    </tr>\n",
       "  </thead>\n",
       "  <tbody>\n",
       "    <tr>\n",
       "      <th>0</th>\n",
       "      <td>17.00</td>\n",
       "      <td>10.38</td>\n",
       "      <td>122.80</td>\n",
       "      <td>1001.0</td>\n",
       "      <td>0.11840</td>\n",
       "      <td>0.27760</td>\n",
       "      <td>0.3001</td>\n",
       "      <td>0.2419</td>\n",
       "      <td>0.07871</td>\n",
       "      <td>35</td>\n",
       "      <td>1</td>\n",
       "    </tr>\n",
       "    <tr>\n",
       "      <th>1</th>\n",
       "      <td>20.57</td>\n",
       "      <td>17.77</td>\n",
       "      <td>132.90</td>\n",
       "      <td>1326.0</td>\n",
       "      <td>0.08474</td>\n",
       "      <td>0.07864</td>\n",
       "      <td>0.0869</td>\n",
       "      <td>0.1812</td>\n",
       "      <td>0.05667</td>\n",
       "      <td>27</td>\n",
       "      <td>1</td>\n",
       "    </tr>\n",
       "    <tr>\n",
       "      <th>2</th>\n",
       "      <td>19.69</td>\n",
       "      <td>21.25</td>\n",
       "      <td>130.00</td>\n",
       "      <td>1203.0</td>\n",
       "      <td>0.10960</td>\n",
       "      <td>0.15990</td>\n",
       "      <td>0.1974</td>\n",
       "      <td>0.2069</td>\n",
       "      <td>0.05999</td>\n",
       "      <td>31</td>\n",
       "      <td>1</td>\n",
       "    </tr>\n",
       "    <tr>\n",
       "      <th>3</th>\n",
       "      <td>17.00</td>\n",
       "      <td>20.38</td>\n",
       "      <td>77.58</td>\n",
       "      <td>386.1</td>\n",
       "      <td>0.14250</td>\n",
       "      <td>0.28390</td>\n",
       "      <td>0.2414</td>\n",
       "      <td>0.2597</td>\n",
       "      <td>0.09744</td>\n",
       "      <td>49</td>\n",
       "      <td>1</td>\n",
       "    </tr>\n",
       "    <tr>\n",
       "      <th>4</th>\n",
       "      <td>20.29</td>\n",
       "      <td>14.34</td>\n",
       "      <td>135.10</td>\n",
       "      <td>1297.0</td>\n",
       "      <td>0.10030</td>\n",
       "      <td>0.13280</td>\n",
       "      <td>0.1980</td>\n",
       "      <td>0.1809</td>\n",
       "      <td>0.05883</td>\n",
       "      <td>20</td>\n",
       "      <td>1</td>\n",
       "    </tr>\n",
       "  </tbody>\n",
       "</table>\n",
       "</div>"
      ],
      "text/plain": [
       "   radius  texture  perimeter    area  smoothness  compactness  concavity  \\\n",
       "0   17.00    10.38     122.80  1001.0     0.11840      0.27760     0.3001   \n",
       "1   20.57    17.77     132.90  1326.0     0.08474      0.07864     0.0869   \n",
       "2   19.69    21.25     130.00  1203.0     0.10960      0.15990     0.1974   \n",
       "3   17.00    20.38      77.58   386.1     0.14250      0.28390     0.2414   \n",
       "4   20.29    14.34     135.10  1297.0     0.10030      0.13280     0.1980   \n",
       "\n",
       "   symmetry  fractal_dimension  age  diagnosis  \n",
       "0    0.2419            0.07871   35          1  \n",
       "1    0.1812            0.05667   27          1  \n",
       "2    0.2069            0.05999   31          1  \n",
       "3    0.2597            0.09744   49          1  \n",
       "4    0.1809            0.05883   20          1  "
      ]
     },
     "execution_count": 14,
     "metadata": {},
     "output_type": "execute_result"
    }
   ],
   "source": [
    "train.head()"
   ]
  },
  {
   "cell_type": "markdown",
   "metadata": {},
   "source": [
    "## Building the Model"
   ]
  },
  {
   "cell_type": "markdown",
   "metadata": {},
   "source": [
    "#### Step 1: Split training data into X and y"
   ]
  },
  {
   "cell_type": "code",
   "execution_count": 15,
   "metadata": {},
   "outputs": [],
   "source": [
    "X = train.drop('diagnosis', axis = 1)\n",
    "y = train['diagnosis']"
   ]
  },
  {
   "cell_type": "code",
   "execution_count": 16,
   "metadata": {
    "scrolled": true
   },
   "outputs": [
    {
     "data": {
      "text/html": [
       "<div>\n",
       "<style scoped>\n",
       "    .dataframe tbody tr th:only-of-type {\n",
       "        vertical-align: middle;\n",
       "    }\n",
       "\n",
       "    .dataframe tbody tr th {\n",
       "        vertical-align: top;\n",
       "    }\n",
       "\n",
       "    .dataframe thead th {\n",
       "        text-align: right;\n",
       "    }\n",
       "</style>\n",
       "<table border=\"1\" class=\"dataframe\">\n",
       "  <thead>\n",
       "    <tr style=\"text-align: right;\">\n",
       "      <th></th>\n",
       "      <th>radius</th>\n",
       "      <th>texture</th>\n",
       "      <th>perimeter</th>\n",
       "      <th>area</th>\n",
       "      <th>smoothness</th>\n",
       "      <th>compactness</th>\n",
       "      <th>concavity</th>\n",
       "      <th>symmetry</th>\n",
       "      <th>fractal_dimension</th>\n",
       "      <th>age</th>\n",
       "    </tr>\n",
       "  </thead>\n",
       "  <tbody>\n",
       "    <tr>\n",
       "      <th>0</th>\n",
       "      <td>17.00</td>\n",
       "      <td>10.38</td>\n",
       "      <td>122.80</td>\n",
       "      <td>1001.0</td>\n",
       "      <td>0.11840</td>\n",
       "      <td>0.27760</td>\n",
       "      <td>0.3001</td>\n",
       "      <td>0.2419</td>\n",
       "      <td>0.07871</td>\n",
       "      <td>35</td>\n",
       "    </tr>\n",
       "    <tr>\n",
       "      <th>1</th>\n",
       "      <td>20.57</td>\n",
       "      <td>17.77</td>\n",
       "      <td>132.90</td>\n",
       "      <td>1326.0</td>\n",
       "      <td>0.08474</td>\n",
       "      <td>0.07864</td>\n",
       "      <td>0.0869</td>\n",
       "      <td>0.1812</td>\n",
       "      <td>0.05667</td>\n",
       "      <td>27</td>\n",
       "    </tr>\n",
       "    <tr>\n",
       "      <th>2</th>\n",
       "      <td>19.69</td>\n",
       "      <td>21.25</td>\n",
       "      <td>130.00</td>\n",
       "      <td>1203.0</td>\n",
       "      <td>0.10960</td>\n",
       "      <td>0.15990</td>\n",
       "      <td>0.1974</td>\n",
       "      <td>0.2069</td>\n",
       "      <td>0.05999</td>\n",
       "      <td>31</td>\n",
       "    </tr>\n",
       "    <tr>\n",
       "      <th>3</th>\n",
       "      <td>17.00</td>\n",
       "      <td>20.38</td>\n",
       "      <td>77.58</td>\n",
       "      <td>386.1</td>\n",
       "      <td>0.14250</td>\n",
       "      <td>0.28390</td>\n",
       "      <td>0.2414</td>\n",
       "      <td>0.2597</td>\n",
       "      <td>0.09744</td>\n",
       "      <td>49</td>\n",
       "    </tr>\n",
       "    <tr>\n",
       "      <th>4</th>\n",
       "      <td>20.29</td>\n",
       "      <td>14.34</td>\n",
       "      <td>135.10</td>\n",
       "      <td>1297.0</td>\n",
       "      <td>0.10030</td>\n",
       "      <td>0.13280</td>\n",
       "      <td>0.1980</td>\n",
       "      <td>0.1809</td>\n",
       "      <td>0.05883</td>\n",
       "      <td>20</td>\n",
       "    </tr>\n",
       "  </tbody>\n",
       "</table>\n",
       "</div>"
      ],
      "text/plain": [
       "   radius  texture  perimeter    area  smoothness  compactness  concavity  \\\n",
       "0   17.00    10.38     122.80  1001.0     0.11840      0.27760     0.3001   \n",
       "1   20.57    17.77     132.90  1326.0     0.08474      0.07864     0.0869   \n",
       "2   19.69    21.25     130.00  1203.0     0.10960      0.15990     0.1974   \n",
       "3   17.00    20.38      77.58   386.1     0.14250      0.28390     0.2414   \n",
       "4   20.29    14.34     135.10  1297.0     0.10030      0.13280     0.1980   \n",
       "\n",
       "   symmetry  fractal_dimension  age  \n",
       "0    0.2419            0.07871   35  \n",
       "1    0.1812            0.05667   27  \n",
       "2    0.2069            0.05999   31  \n",
       "3    0.2597            0.09744   49  \n",
       "4    0.1809            0.05883   20  "
      ]
     },
     "execution_count": 16,
     "metadata": {},
     "output_type": "execute_result"
    }
   ],
   "source": [
    "X.head()"
   ]
  },
  {
   "cell_type": "code",
   "execution_count": 17,
   "metadata": {},
   "outputs": [
    {
     "data": {
      "text/plain": [
       "0    1\n",
       "1    1\n",
       "2    1\n",
       "3    1\n",
       "4    1\n",
       "Name: diagnosis, dtype: int64"
      ]
     },
     "execution_count": 17,
     "metadata": {},
     "output_type": "execute_result"
    }
   ],
   "source": [
    "y.head()"
   ]
  },
  {
   "cell_type": "markdown",
   "metadata": {},
   "source": [
    "#### Step 2: Train test split"
   ]
  },
  {
   "cell_type": "code",
   "execution_count": 18,
   "metadata": {},
   "outputs": [],
   "source": [
    "from sklearn.model_selection import train_test_split\n",
    "\n",
    "X_train, X_test, y_train, y_test = train_test_split(X, y, test_size = 0.3, random_state = 101)"
   ]
  },
  {
   "cell_type": "markdown",
   "metadata": {},
   "source": [
    "#### Step 3: Training and Predicting"
   ]
  },
  {
   "cell_type": "code",
   "execution_count": 19,
   "metadata": {},
   "outputs": [],
   "source": [
    "from sklearn.linear_model import LogisticRegression"
   ]
  },
  {
   "cell_type": "code",
   "execution_count": 20,
   "metadata": {},
   "outputs": [],
   "source": [
    "logreg = LogisticRegression()"
   ]
  },
  {
   "cell_type": "code",
   "execution_count": 21,
   "metadata": {},
   "outputs": [
    {
     "name": "stderr",
     "output_type": "stream",
     "text": [
      "C:\\Users\\Morgan Kaiser\\Anaconda3\\Anaconda\\New folder\\lib\\site-packages\\sklearn\\linear_model\\logistic.py:432: FutureWarning: Default solver will be changed to 'lbfgs' in 0.22. Specify a solver to silence this warning.\n",
      "  FutureWarning)\n"
     ]
    },
    {
     "data": {
      "text/plain": [
       "LogisticRegression(C=1.0, class_weight=None, dual=False, fit_intercept=True,\n",
       "                   intercept_scaling=1, l1_ratio=None, max_iter=100,\n",
       "                   multi_class='warn', n_jobs=None, penalty='l2',\n",
       "                   random_state=None, solver='warn', tol=0.0001, verbose=0,\n",
       "                   warm_start=False)"
      ]
     },
     "execution_count": 21,
     "metadata": {},
     "output_type": "execute_result"
    }
   ],
   "source": [
    "logreg.fit(X_train, y_train)"
   ]
  },
  {
   "cell_type": "code",
   "execution_count": 22,
   "metadata": {},
   "outputs": [],
   "source": [
    "predictions = logreg.predict(X_test)"
   ]
  },
  {
   "cell_type": "markdown",
   "metadata": {},
   "source": [
    "## Evaluations"
   ]
  },
  {
   "cell_type": "markdown",
   "metadata": {},
   "source": [
    "Classification report checks precision, recall, and f1 score of the model. The support is the number of samples of the true response that lie in that class."
   ]
  },
  {
   "cell_type": "code",
   "execution_count": 23,
   "metadata": {},
   "outputs": [
    {
     "name": "stdout",
     "output_type": "stream",
     "text": [
      "              precision    recall  f1-score   support\n",
      "\n",
      "           0       0.91      0.93      0.92       105\n",
      "           1       0.89      0.85      0.87        66\n",
      "\n",
      "    accuracy                           0.90       171\n",
      "   macro avg       0.90      0.89      0.89       171\n",
      "weighted avg       0.90      0.90      0.90       171\n",
      "\n"
     ]
    }
   ],
   "source": [
    "from sklearn.metrics import classification_report\n",
    "\n",
    "print(classification_report(y_test, predictions))"
   ]
  },
  {
   "cell_type": "code",
   "execution_count": 24,
   "metadata": {},
   "outputs": [
    {
     "data": {
      "text/plain": [
       "array([[98,  7],\n",
       "       [10, 56]], dtype=int64)"
      ]
     },
     "execution_count": 24,
     "metadata": {},
     "output_type": "execute_result"
    }
   ],
   "source": [
    "from sklearn.metrics import confusion_matrix\n",
    "\n",
    "confusion_matrix(y_test, predictions)"
   ]
  },
  {
   "attachments": {
    "confusion%20matrix.PNG": {
     "image/png": "[encoded data removed]"
    }
   },
   "cell_type": "markdown",
   "metadata": {},
   "source": [
    "**Confusion matrix output explained**\n",
    "\n",
    "![confusion%20matrix.PNG](attachment:confusion%20matrix.PNG)"
   ]
  },
  {
   "cell_type": "markdown",
   "metadata": {},
   "source": [
    " - Total: 171 women\n",
    " - **Out of the 105 women predicted to not have breast cancer, 7 were misclassified.** *93% accuracy*\n",
    " - **Out of the 66 women predicted to have breast cancer, 10 were misclassified.** *85% accuracy*"
   ]
  },
  {
   "cell_type": "code",
   "execution_count": null,
   "metadata": {},
   "outputs": [],
   "source": []
  }
 ],
 "metadata": {
  "kernelspec": {
   "display_name": "Python 3",
   "language": "python",
   "name": "python3"
  },
  "language_info": {
   "codemirror_mode": {
    "name": "ipython",
    "version": 3
   },
   "file_extension": ".py",
   "mimetype": "text/x-python",
   "name": "python",
   "nbconvert_exporter": "python",
   "pygments_lexer": "ipython3",
   "version": "3.7.3"
  }
 },
 "nbformat": 4,
 "nbformat_minor": 1
}
