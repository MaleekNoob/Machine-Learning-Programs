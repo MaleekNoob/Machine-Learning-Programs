{
 "cells": [
  {
   "cell_type": "markdown",
   "metadata": {
    "id": "co4FQOoHFDfy"
   },
   "source": [
    "# **bmi calculator in python**"
   ]
  },
  {
   "cell_type": "code",
   "execution_count": 1,
   "metadata": {
    "colab": {
     "base_uri": "https://localhost:8080/"
    },
    "id": "NqKBYrhEEYoZ",
    "outputId": "aca17a00-f9da-47db-9d0a-85098ea082f3"
   },
   "outputs": [
    {
     "name": "stdout",
     "output_type": "stream",
     "text": [
      "What is your weight? (Kg) 79\n",
      "What is your height? (Mtr) 3\n",
      "Your BMI is 8.777777777777779 which means you are underweight\n"
     ]
    }
   ],
   "source": [
    "weight = float(input('What is your weight? (Kg) '))\n",
    "height = float(input('What is your height? (Mtr) '))\n",
    "bmi = weight/(height*height)\n",
    "\n",
    "if bmi <= 18.5:\n",
    "    print('Your BMI is', bmi, 'which means you are underweight')\n",
    "\n",
    "elif 18.5 < bmi < 25:\n",
    "    print('Your BMI is', bmi,'which means you are normal')\n",
    "\n",
    "elif 25 < bmi < 30:\n",
    "    print('your BMI is', bmi,' which means you are overweight')\n",
    "\n",
    "elif bmi > 30:\n",
    "    print('Your BMI is', bmi,'which means you are obese')"
   ]
  },
  {
   "cell_type": "code",
   "execution_count": 4,
   "metadata": {
    "colab": {
     "base_uri": "https://localhost:8080/"
    },
    "id": "gLaQEWVCFQ-E",
    "outputId": "85e1caf6-d80e-4749-813f-a760da225ce2"
   },
   "outputs": [
    {
     "name": "stdout",
     "output_type": "stream",
     "text": [
      "[4, 6, 8, 12]\n"
     ]
    }
   ],
   "source": [
    "# Program to filter out only the even items from a list\n",
    "my_list = [1, 5, 4, 6, 8, 11, 3, 12]\n",
    "\n",
    "new_list = list(filter(lambda x: (x%2 == 0) , my_list))\n",
    "\n",
    "print(new_list)"
   ]
  },
  {
   "cell_type": "code",
   "execution_count": 5,
   "metadata": {
    "colab": {
     "base_uri": "https://localhost:8080/"
    },
    "id": "4n0Ck4Y3GPKq",
    "outputId": "1db56b37-a9a3-4142-b8d3-39b4dbf3ac0d"
   },
   "outputs": [
    {
     "name": "stdout",
     "output_type": "stream",
     "text": [
      "[2, 10, 8, 12, 16, 22, 6, 24]\n"
     ]
    }
   ],
   "source": [
    "# Program to double each item in a list using map()\n",
    "\n",
    "my_list = [1, 5, 4, 6, 8, 11, 3, 12]\n",
    "\n",
    "new_list = list(map(lambda x: x * 2 , my_list))\n",
    "\n",
    "print(new_list)"
   ]
  },
  {
   "cell_type": "markdown",
   "metadata": {
    "id": "VH9mNjCsGqp3"
   },
   "source": [
    "# **Python Classes and Objects**"
   ]
  },
  {
   "cell_type": "markdown",
   "metadata": {
    "id": "itrKVXkvGzN0"
   },
   "source": [
    "# Python is an object oriented programming language.\n",
    "\n",
    "Almost everything in Python is an object, with its properties and methods.\n",
    "\n",
    "A Class is like an object constructor, or a \"blueprint\" for creating objects."
   ]
  },
  {
   "cell_type": "markdown",
   "metadata": {
    "id": "ilL3LN8PG4Xn"
   },
   "source": [
    "# Create a Class"
   ]
  },
  {
   "cell_type": "markdown",
   "metadata": {
    "id": "ZKb2e265G9O5"
   },
   "source": [
    "# To create a class, use the keyword class:"
   ]
  },
  {
   "cell_type": "code",
   "execution_count": 7,
   "metadata": {
    "id": "WgdRzTa1GqCE"
   },
   "outputs": [],
   "source": [
    "class MyClass:\n",
    "  x = 5"
   ]
  },
  {
   "cell_type": "markdown",
   "metadata": {
    "id": "uNCKvkYsHdWG"
   },
   "source": [
    "# Create Object\n",
    "Now we can use the class named MyClass to create objects:"
   ]
  },
  {
   "cell_type": "code",
   "execution_count": 8,
   "metadata": {
    "colab": {
     "base_uri": "https://localhost:8080/"
    },
    "id": "MteTme0PHani",
    "outputId": "e94c64d0-6872-4cd9-8620-a710f7e2fd1b"
   },
   "outputs": [
    {
     "name": "stdout",
     "output_type": "stream",
     "text": [
      "5\n"
     ]
    }
   ],
   "source": [
    "p1 = MyClass()\n",
    "print(p1.x)"
   ]
  },
  {
   "cell_type": "markdown",
   "metadata": {
    "id": "7HEtzqjaHrIS"
   },
   "source": [
    "# The __init__() Function"
   ]
  },
  {
   "cell_type": "markdown",
   "metadata": {
    "id": "ZJwUkyQFHyja"
   },
   "source": [
    "The examples above are classes and objects in their simplest form, and are not really useful in real life applications.\n",
    "\n",
    "To understand the meaning of classes we have to understand the built-in __init__() function.\n",
    "\n",
    "All classes have a function called __init__(), which is always executed when the class is being initiated.\n",
    "\n",
    "Use the __init__() function to assign values to object properties, or other operations that are necessary to do when the object is being created:"
   ]
  },
  {
   "cell_type": "code",
   "execution_count": 4,
   "metadata": {
    "colab": {
     "base_uri": "https://localhost:8080/"
    },
    "id": "BTTNYUgUHmRn",
    "outputId": "b97c5bff-4c3d-42b4-e6dd-e76e6125a7cd"
   },
   "outputs": [
    {
     "name": "stdout",
     "output_type": "stream",
     "text": [
      "John\n",
      "36\n",
      "15\n",
      "Wayne 12 4\n"
     ]
    }
   ],
   "source": [
    "class Person:\n",
    "  def __init__(self, name, age,classs):\n",
    "    self.name = name\n",
    "    self.age = age\n",
    "    self.classs = classs\n",
    "\n",
    "p1 = Person(\"John\", 36,15)\n",
    "p2 = Person(\"Wayne\",12,4)\n",
    "\n",
    "print(p1.name)\n",
    "print(p1.age)\n",
    "print(p1.classs)\n",
    "\n",
    "print(p2.name,p2.age,p2.classs)"
   ]
  },
  {
   "cell_type": "code",
   "execution_count": 10,
   "metadata": {
    "colab": {
     "base_uri": "https://localhost:8080/"
    },
    "id": "QI8LqWbjH3UI",
    "outputId": "2b070a4d-f4f5-4154-8c06-799c4b979e12"
   },
   "outputs": [
    {
     "name": "stdout",
     "output_type": "stream",
     "text": [
      "Hello my name is John\n"
     ]
    }
   ],
   "source": [
    "class Person:\n",
    "  def __init__(self, name, age):\n",
    "    self.name = name\n",
    "    self.age = age\n",
    "\n",
    "  def myfunc(self):\n",
    "    print(\"Hello my name is \" + self.name)\n",
    "\n",
    "p1 = Person(\"John\", 36)\n",
    "p1.myfunc()"
   ]
  },
  {
   "cell_type": "markdown",
   "metadata": {
    "id": "baWx7qHqIK49"
   },
   "source": [
    "# **The self Parameter**"
   ]
  },
  {
   "cell_type": "markdown",
   "metadata": {
    "id": "KrA2fQa1IPQ5"
   },
   "source": [
    "The self parameter is a reference to the current instance of the class, and is used to access variables that belongs to the class.\n",
    "\n",
    "It does not have to be named self , you can call it whatever you like, but it has to be the first parameter of any function in the class:"
   ]
  },
  {
   "cell_type": "code",
   "execution_count": 11,
   "metadata": {
    "colab": {
     "base_uri": "https://localhost:8080/"
    },
    "id": "FyNn9s06H-X_",
    "outputId": "85d36814-cfcd-45ab-dfc5-d4ca03054662"
   },
   "outputs": [
    {
     "name": "stdout",
     "output_type": "stream",
     "text": [
      "Hello my name is John\n"
     ]
    }
   ],
   "source": [
    "class Person:\n",
    "  def __init__(mysillyobject, name, age):\n",
    "    mysillyobject.name = name\n",
    "    mysillyobject.age = age\n",
    "\n",
    "  def myfunc(abc):\n",
    "    print(\"Hello my name is \" + abc.name)\n",
    "\n",
    "p1 = Person(\"John\", 36)\n",
    "p1.myfunc()"
   ]
  },
  {
   "cell_type": "markdown",
   "metadata": {
    "id": "Ta30M4apIYkz"
   },
   "source": [
    "# Modify Object Properties\n",
    "You can modify properties on objects like this:"
   ]
  },
  {
   "cell_type": "code",
   "execution_count": 12,
   "metadata": {
    "id": "aQSHfH2XITHK"
   },
   "outputs": [],
   "source": [
    "p1.age = 40"
   ]
  },
  {
   "cell_type": "markdown",
   "metadata": {
    "id": "BxYT1JHHIgWq"
   },
   "source": [
    "# Delete Object Properties\n",
    "You can delete properties on objects by using the del keyword:"
   ]
  },
  {
   "cell_type": "code",
   "execution_count": 13,
   "metadata": {
    "id": "dBN2xSkYIiac"
   },
   "outputs": [],
   "source": [
    "del p1.age"
   ]
  },
  {
   "cell_type": "markdown",
   "metadata": {
    "id": "m0lBBK1uIpxR"
   },
   "source": [
    "# Delete Objects\n",
    "You can delete objects by using the del keyword:"
   ]
  },
  {
   "cell_type": "code",
   "execution_count": 14,
   "metadata": {
    "id": "6JToJW6UIkHt"
   },
   "outputs": [],
   "source": [
    "del p1"
   ]
  },
  {
   "cell_type": "markdown",
   "metadata": {
    "id": "VE-Tr_7jIy4Y"
   },
   "source": [
    "# The pass Statement\n",
    "class definitions cannot be empty, but if you for some reason have a class definition with no content, put in the pass statement to avoid getting an error."
   ]
  },
  {
   "cell_type": "code",
   "execution_count": 15,
   "metadata": {
    "id": "5FD2SnmmItWX"
   },
   "outputs": [],
   "source": [
    "class Person:\n",
    "  pass"
   ]
  },
  {
   "cell_type": "markdown",
   "metadata": {
    "id": "5JQYDLtkJCaj"
   },
   "source": [
    "**Exercise**"
   ]
  },
  {
   "cell_type": "markdown",
   "metadata": {
    "id": "KHXT8HEUJJo0"
   },
   "source": [
    "# Create a class named MyClass:"
   ]
  },
  {
   "cell_type": "code",
   "execution_count": null,
   "metadata": {
    "id": "NM8a64cJI31L"
   },
   "outputs": [],
   "source": [
    "    MyClass:\n",
    "  x = 5"
   ]
  },
  {
   "cell_type": "markdown",
   "metadata": {
    "id": "0LvxMVNcJR1d"
   },
   "source": [
    "# Create an object of MyClass called p1:\n",
    "\n"
   ]
  },
  {
   "cell_type": "code",
   "execution_count": null,
   "metadata": {
    "id": "dshxolnvJMeY"
   },
   "outputs": [],
   "source": [
    "class MyClass:\n",
    "  x = 5"
   ]
  },
  {
   "cell_type": "markdown",
   "metadata": {
    "id": "NSdSi-n_JYf1"
   },
   "source": [
    "# Use the p1 object to print the value of x:"
   ]
  },
  {
   "cell_type": "code",
   "execution_count": null,
   "metadata": {
    "id": "ieHFdCA1Jfm5"
   },
   "outputs": [],
   "source": [
    "class MyClass:\n",
    "  x = 5\n",
    "\n",
    "p1 = MyClass()"
   ]
  },
  {
   "cell_type": "markdown",
   "metadata": {
    "id": "k_7h7rpuJh9w"
   },
   "source": [
    "# What is the correct syntax to assign a \"init\" function to a class?"
   ]
  },
  {
   "cell_type": "code",
   "execution_count": null,
   "metadata": {
    "id": "4DvdqgL6Jmg2"
   },
   "outputs": [],
   "source": [
    "class Person:\n",
    "  def (self, name, age):\n",
    "    self.name = name\n",
    "    self.age = age"
   ]
  },
  {
   "cell_type": "markdown",
   "metadata": {
    "id": "H24SVOZoJ6Pe"
   },
   "source": [
    "# Matplotlib Bars"
   ]
  },
  {
   "cell_type": "code",
   "execution_count": 16,
   "metadata": {
    "colab": {
     "base_uri": "https://localhost:8080/",
     "height": 265
    },
    "id": "60XYGcsDJ7uX",
    "outputId": "77229688-5a2e-433d-804b-8599fc2a22c0"
   },
   "outputs": [
    {
     "data": {
      "image/png": "[encoded data removed]",
      "text/plain": [
       "<Figure size 432x288 with 1 Axes>"
      ]
     },
     "metadata": {
      "needs_background": "light",
      "tags": []
     },
     "output_type": "display_data"
    }
   ],
   "source": [
    "import matplotlib.pyplot as plt\n",
    "import numpy as np\n",
    "\n",
    "x = np.array([\"A\", \"B\", \"C\", \"D\"])\n",
    "y = np.array([3, 8, 1, 10])\n",
    "\n",
    "plt.bar(x,y)\n",
    "plt.show()"
   ]
  },
  {
   "cell_type": "code",
   "execution_count": 17,
   "metadata": {
    "colab": {
     "base_uri": "https://localhost:8080/",
     "height": 282
    },
    "id": "4BKVhZjWKBEl",
    "outputId": "01404eed-cf90-49da-fa35-21ed11dc4a9f"
   },
   "outputs": [
    {
     "data": {
      "text/plain": [
       "<BarContainer object of 2 artists>"
      ]
     },
     "execution_count": 17,
     "metadata": {
      "tags": []
     },
     "output_type": "execute_result"
    },
    {
     "data": {
      "image/png": "[encoded data removed]",
      "text/plain": [
       "<Figure size 432x288 with 1 Axes>"
      ]
     },
     "metadata": {
      "needs_background": "light",
      "tags": []
     },
     "output_type": "display_data"
    }
   ],
   "source": [
    "x = [\"APPLES\", \"BANANAS\"]\n",
    "y = [400, 350]\n",
    "plt.bar(x, y)"
   ]
  },
  {
   "cell_type": "code",
   "execution_count": 18,
   "metadata": {
    "colab": {
     "base_uri": "https://localhost:8080/",
     "height": 265
    },
    "id": "InP29SgIKEpy",
    "outputId": "cfb038b0-2d46-4c37-ec80-f5c03c949af5"
   },
   "outputs": [
    {
     "data": {
      "image/png": "[encoded data removed]",
      "text/plain": [
       "<Figure size 432x288 with 1 Axes>"
      ]
     },
     "metadata": {
      "needs_background": "light",
      "tags": []
     },
     "output_type": "display_data"
    }
   ],
   "source": [
    "import matplotlib.pyplot as plt\n",
    "import numpy as np\n",
    "\n",
    "x = np.array([\"A\", \"B\", \"C\", \"D\"])\n",
    "y = np.array([3, 8, 1, 10])\n",
    "\n",
    "plt.barh(x, y)\n",
    "plt.show()"
   ]
  },
  {
   "cell_type": "code",
   "execution_count": 15,
   "metadata": {
    "colab": {
     "base_uri": "https://localhost:8080/",
     "height": 265
    },
    "id": "EIUjerC2KIgo",
    "outputId": "45e7e796-18fc-4a1a-f24e-a9e2c3a9eb1d"
   },
   "outputs": [
    {
     "data": {
      "text/plain": [
       "<BarContainer object of 4 artists>"
      ]
     },
     "execution_count": 15,
     "metadata": {},
     "output_type": "execute_result"
    },
    {
     "data": {
      "image/png": "[encoded data removed]",
      "text/plain": [
       "<Figure size 432x288 with 1 Axes>"
      ]
     },
     "metadata": {
      "needs_background": "light"
     },
     "output_type": "display_data"
    }
   ],
   "source": [
    "import matplotlib.pyplot as plt\n",
    "import numpy as np\n",
    "\n",
    "x = np.array([\"A\", \"B\", \"C\", \"D\"])\n",
    "y = np.array([3, 8, 1, 10])\n",
    "\n",
    "plt.bar(x, y, color = \"#f2f2f2\")\n"
   ]
  },
  {
   "cell_type": "code",
   "execution_count": 20,
   "metadata": {
    "colab": {
     "base_uri": "https://localhost:8080/",
     "height": 265
    },
    "id": "wd0dwKERKOYk",
    "outputId": "c305def2-a650-4156-e35a-8b2eb3504d45"
   },
   "outputs": [
    {
     "data": {
      "image/png": "[encoded data removed]",
      "text/plain": [
       "<Figure size 432x288 with 1 Axes>"
      ]
     },
     "metadata": {
      "needs_background": "light",
      "tags": []
     },
     "output_type": "display_data"
    }
   ],
   "source": [
    "import matplotlib.pyplot as plt\n",
    "import numpy as np\n",
    "\n",
    "x = np.array([\"A\", \"B\", \"C\", \"D\"])\n",
    "y = np.array([3, 8, 1, 10])\n",
    "\n",
    "plt.bar(x, y, color = \"hotpink\")\n",
    "plt.show()"
   ]
  },
  {
   "cell_type": "code",
   "execution_count": 21,
   "metadata": {
    "colab": {
     "base_uri": "https://localhost:8080/",
     "height": 265
    },
    "id": "7zN7T9FcKVCS",
    "outputId": "10164776-bfaa-4e54-fc95-b79e3c1cc5a4"
   },
   "outputs": [
    {
     "data": {
      "image/png": "[encoded data removed]",
      "text/plain": [
       "<Figure size 432x288 with 1 Axes>"
      ]
     },
     "metadata": {
      "needs_background": "light",
      "tags": []
     },
     "output_type": "display_data"
    }
   ],
   "source": [
    "import matplotlib.pyplot as plt\n",
    "import numpy as np\n",
    "\n",
    "x = np.array([\"A\", \"B\", \"C\", \"D\"])\n",
    "y = np.array([3, 8, 1, 10])\n",
    "\n",
    "plt.bar(x, y, color = \"#4CAF50\")\n",
    "plt.show()"
   ]
  },
  {
   "cell_type": "markdown",
   "metadata": {
    "id": "c4vtWMBWKdrS"
   },
   "source": [
    "# Bar Width"
   ]
  },
  {
   "cell_type": "code",
   "execution_count": 22,
   "metadata": {
    "colab": {
     "base_uri": "https://localhost:8080/",
     "height": 265
    },
    "id": "QqlpSkDkKZwG",
    "outputId": "013b337c-f99c-4290-d0d8-26c4e846d254"
   },
   "outputs": [
    {
     "data": {
      "image/png": "[encoded data removed]",
      "text/plain": [
       "<Figure size 432x288 with 1 Axes>"
      ]
     },
     "metadata": {
      "needs_background": "light",
      "tags": []
     },
     "output_type": "display_data"
    }
   ],
   "source": [
    "import matplotlib.pyplot as plt\n",
    "import numpy as np\n",
    "\n",
    "x = np.array([\"A\", \"B\", \"C\", \"D\"])\n",
    "y = np.array([3, 8, 1, 10])\n",
    "\n",
    "plt.bar(x, y, width = 0.1)\n",
    "plt.show()"
   ]
  },
  {
   "cell_type": "markdown",
   "metadata": {
    "id": "_4l6rkNBK-q0"
   },
   "source": [
    "# Bar Height\n",
    "The barh() takes the keyword argument height to set the height of the bars:"
   ]
  },
  {
   "cell_type": "code",
   "execution_count": 23,
   "metadata": {
    "colab": {
     "base_uri": "https://localhost:8080/",
     "height": 265
    },
    "id": "JI2Au8UDK51l",
    "outputId": "9146c51a-343a-4fd2-8fd5-cc417bb0c870"
   },
   "outputs": [
    {
     "data": {
      "image/png": "[encoded data removed]",
      "text/plain": [
       "<Figure size 432x288 with 1 Axes>"
      ]
     },
     "metadata": {
      "needs_background": "light",
      "tags": []
     },
     "output_type": "display_data"
    }
   ],
   "source": [
    "import matplotlib.pyplot as plt\n",
    "import numpy as np\n",
    "\n",
    "x = np.array([\"A\", \"B\", \"C\", \"D\"])\n",
    "y = np.array([3, 8, 1, 10])\n",
    "\n",
    "plt.barh(x, y, height = 0.1)\n",
    "plt.show()"
   ]
  },
  {
   "cell_type": "markdown",
   "metadata": {
    "id": "XRDNkXZALK6B"
   },
   "source": [
    "# Matplotlib Histograms"
   ]
  },
  {
   "cell_type": "markdown",
   "metadata": {
    "id": "1bxCCCUPLPPQ"
   },
   "source": [
    "Histogram\n",
    "A histogram is a graph showing frequency distributions.\n",
    "\n",
    "It is a graph showing the number of observations within each given interval."
   ]
  },
  {
   "cell_type": "code",
   "execution_count": 24,
   "metadata": {
    "colab": {
     "base_uri": "https://localhost:8080/"
    },
    "id": "y0mVOTQyLC3a",
    "outputId": "8b8fd3f1-f605-4595-80d5-d047a0dc667e"
   },
   "outputs": [
    {
     "name": "stdout",
     "output_type": "stream",
     "text": [
      "[166.33833827 163.07936547 172.31826845 169.56175936 176.93308148\n",
      " 168.52488998 152.87204218 187.4317476  188.36853334 174.57784645\n",
      " 175.34818754 167.59243228 175.06320057 157.68877033 166.6678957\n",
      " 144.75087484 192.47164683 181.77394523 177.03500608 162.64537485\n",
      " 205.13672384 167.64505845 158.58021772 173.04899667 169.8461701\n",
      " 160.05882897 161.70797056 170.50046851 166.80028794 187.67466932\n",
      " 158.27242006 162.26249945 170.10159138 164.61698607 176.30747673\n",
      " 176.18072602 172.50190917 177.50505859 170.40400668 156.15066235\n",
      " 163.73654539 175.12000663 170.87046516 162.2179975  161.0169846\n",
      " 162.61795302 159.46326374 174.07037865 175.09542364 158.13179167\n",
      " 162.9480219  160.6992503  183.9695272  159.59369777 172.61566305\n",
      " 182.82596924 169.52988445 163.7569826  164.29737686 148.36056132\n",
      " 173.83415899 182.91554846 169.58579275 179.84218327 168.17206954\n",
      " 189.49062327 178.8957022  164.05665346 157.41260714 157.46837815\n",
      " 180.46422963 173.26632879 171.07891349 144.34866443 153.21136232\n",
      " 179.2514912  171.82648311 158.6172129  163.15209883 150.5020187\n",
      " 161.05313179 162.67765863 158.53308932 187.61396959 180.28307762\n",
      " 169.38137052 171.82391225 168.2767883  148.00900313 169.27854892\n",
      " 161.75643169 166.04232339 160.3483019  162.11799808 176.31875887\n",
      " 177.1534633  189.49834348 159.76539914 184.37127529 171.83623566\n",
      " 166.34564686 163.42420811 151.73812284 168.19252326 162.43225409\n",
      " 175.61006912 156.89156778 182.43981475 190.41729323 174.95803219\n",
      " 167.53329605 165.6709206  196.17520242 175.83601167 160.22656025\n",
      " 164.3171742  171.03237804 185.70150068 169.02453417 164.04004125\n",
      " 159.3128233  161.56747892 174.25755487 174.90294985 185.72452641\n",
      " 171.69369162 155.06254967 157.65466913 161.27279978 173.0809258\n",
      " 171.91501413 174.71525081 191.8066036  195.83447818 163.95134669\n",
      " 180.6207927  181.68562037 157.67994396 155.59738366 160.05156196\n",
      " 162.99725957 182.46369433 173.54262819 164.29490382 159.34795396\n",
      " 181.95369707 179.09170267 167.15777306 163.74216107 150.78977031\n",
      " 180.89949558 169.55620819 156.72093075 163.43248474 175.64852893\n",
      " 158.26557091 176.53758168 175.17349581 178.0471262  173.99134671\n",
      " 159.18428081 162.81615907 172.52815506 164.62896697 183.81474091\n",
      " 178.46330645 169.76071749 169.89549753 165.11423201 178.53835064\n",
      " 173.59489425 166.25304925 168.90558514 170.15235895 165.10784126\n",
      " 182.74752179 163.57988771 164.59442757 169.42063076 176.69565212\n",
      " 170.6035155  161.26791396 168.65649359 162.70356492 175.19258427\n",
      " 165.84477269 150.93250593 166.1975194  178.88597557 170.25889064\n",
      " 189.35064265 166.58335734 159.84592249 164.24526722 182.14930741\n",
      " 173.31605732 172.72424833 172.64536232 155.10649144 175.04108823\n",
      " 172.60182847 179.39335439 182.87511112 160.6298059  158.9377738\n",
      " 179.02987788 151.38957483 172.18634777 174.36152377 171.22991671\n",
      " 159.94062478 183.93862381 182.47633953 171.94818827 150.63185233\n",
      " 154.89781521 153.99585999 179.69834451 169.73051316 171.20168607\n",
      " 167.81284021 184.85299615 181.38667921 177.34576817 176.17401531\n",
      " 198.29102668 156.16132817 173.47443903 174.49815685 167.61409256\n",
      " 151.1995988  192.30202857 170.5820831  189.65177097 165.43121922\n",
      " 156.50362717 173.56070058 163.16118667 165.16727894 183.29916736\n",
      " 163.60314035 173.22185081 194.52422486 179.52250246 160.1315128\n",
      " 182.04578644 148.01271905 175.39639827 164.91972895 162.3053506 ]\n"
     ]
    }
   ],
   "source": [
    "import numpy as np\n",
    "\n",
    "x = np.random.normal(170, 10, 250)\n",
    "\n",
    "print(x)"
   ]
  },
  {
   "cell_type": "code",
   "execution_count": 25,
   "metadata": {
    "colab": {
     "base_uri": "https://localhost:8080/",
     "height": 265
    },
    "id": "O9SXjDCkLTzy",
    "outputId": "cd4e8434-fcb8-4282-d427-cf080f98a837"
   },
   "outputs": [
    {
     "data": {
      "image/png": "[encoded data removed]",
      "text/plain": [
       "<Figure size 432x288 with 1 Axes>"
      ]
     },
     "metadata": {
      "needs_background": "light",
      "tags": []
     },
     "output_type": "display_data"
    }
   ],
   "source": [
    "import matplotlib.pyplot as plt\n",
    "import numpy as np\n",
    "\n",
    "x = np.random.normal(170, 10, 250)\n",
    "\n",
    "plt.hist(x)\n",
    "plt.show() "
   ]
  },
  {
   "cell_type": "markdown",
   "metadata": {
    "id": "L8bbDcb6MDaZ"
   },
   "source": [
    "# Mean Median Mode"
   ]
  },
  {
   "cell_type": "markdown",
   "metadata": {
    "id": "k5s5ILl3MIjh"
   },
   "source": [
    "* Mean - The average value\n",
    "* Median - The mid point value\n",
    "* Mode - The most common value"
   ]
  },
  {
   "cell_type": "code",
   "execution_count": 26,
   "metadata": {
    "id": "wWKftEJ0LXSO"
   },
   "outputs": [],
   "source": [
    "speed = [99,86,87,88,111,86,103,87,94,78,77,85,86]"
   ]
  },
  {
   "cell_type": "markdown",
   "metadata": {
    "id": "EJe5XF0EMTn-"
   },
   "source": [
    "# Mean\n",
    "The mean value is the average value.\n",
    "\n",
    "To calculate the mean, find the sum of all values, and divide the sum by the number of values:|"
   ]
  },
  {
   "cell_type": "code",
   "execution_count": 28,
   "metadata": {
    "colab": {
     "base_uri": "https://localhost:8080/"
    },
    "id": "Z5X-EBzQMPta",
    "outputId": "f4663536-8f41-46db-b038-d9a6a29da0f8"
   },
   "outputs": [
    {
     "data": {
      "text/plain": [
       "89.76923076923077"
      ]
     },
     "execution_count": 28,
     "metadata": {
      "tags": []
     },
     "output_type": "execute_result"
    }
   ],
   "source": [
    "(99+86+87+88+111+86+103+87+94+78+77+85+86) / 13"
   ]
  },
  {
   "cell_type": "code",
   "execution_count": 29,
   "metadata": {
    "colab": {
     "base_uri": "https://localhost:8080/"
    },
    "id": "3ENOb6T2MZbd",
    "outputId": "378698c9-94e4-4876-ec62-d5dab8e27d6f"
   },
   "outputs": [
    {
     "name": "stdout",
     "output_type": "stream",
     "text": [
      "89.76923076923077\n"
     ]
    }
   ],
   "source": [
    "import numpy\n",
    "\n",
    "speed = [99,86,87,88,111,86,103,87,94,78,77,85,86]\n",
    "\n",
    "x = numpy.mean(speed)\n",
    "\n",
    "print(x)"
   ]
  },
  {
   "cell_type": "markdown",
   "metadata": {
    "id": "K9daz2oAMmbi"
   },
   "source": [
    "# Median\n",
    "The median value is the value in the middle, after you have sorted all the values:"
   ]
  },
  {
   "cell_type": "code",
   "execution_count": 30,
   "metadata": {
    "colab": {
     "base_uri": "https://localhost:8080/"
    },
    "id": "015prxSSMjPY",
    "outputId": "1235ac4a-1465-415d-9e1f-b9089c21abce"
   },
   "outputs": [
    {
     "name": "stdout",
     "output_type": "stream",
     "text": [
      "87.0\n"
     ]
    }
   ],
   "source": [
    "import numpy\n",
    "\n",
    "speed = [99,86,87,88,111,86,103,87,94,78,77,85,86]\n",
    "\n",
    "x = numpy.median(speed)\n",
    "\n",
    "print(x)"
   ]
  },
  {
   "cell_type": "code",
   "execution_count": 31,
   "metadata": {
    "colab": {
     "base_uri": "https://localhost:8080/"
    },
    "id": "ODqq0T4gMpzT",
    "outputId": "6fa1ccb0-b2e4-4d57-b559-f7c03d37843d"
   },
   "outputs": [
    {
     "name": "stdout",
     "output_type": "stream",
     "text": [
      "86.5\n"
     ]
    }
   ],
   "source": [
    "import numpy\n",
    "\n",
    "speed = [99,86,87,88,86,103,87,94,78,77,85,86]\n",
    "\n",
    "x = numpy.median(speed)\n",
    "\n",
    "print(x)"
   ]
  },
  {
   "cell_type": "markdown",
   "metadata": {
    "id": "U4poTRWeMyA4"
   },
   "source": [
    "# Mode\n",
    "The Mode value is the value that appears the most number of times:"
   ]
  },
  {
   "cell_type": "code",
   "execution_count": 32,
   "metadata": {
    "colab": {
     "base_uri": "https://localhost:8080/"
    },
    "id": "nLudSaOiMuLl",
    "outputId": "f9f5ffe6-40c0-4b0a-ef3a-c0fd770bbd84"
   },
   "outputs": [
    {
     "name": "stdout",
     "output_type": "stream",
     "text": [
      "ModeResult(mode=array([86]), count=array([3]))\n"
     ]
    }
   ],
   "source": [
    "from scipy import stats\n",
    "\n",
    "speed = [99,86,87,88,111,86,103,87,94,78,77,85,86]\n",
    "\n",
    "x = stats.mode(speed)\n",
    "\n",
    "print(x)"
   ]
  },
  {
   "cell_type": "markdown",
   "metadata": {
    "id": "dNQMDgz3M_o9"
   },
   "source": [
    "## Standard Deviation"
   ]
  },
  {
   "cell_type": "markdown",
   "metadata": {
    "id": "qr-qfPhjNIRE"
   },
   "source": [
    "Standard deviation is a number that describes how spread out the values are.\n",
    "\n",
    "A low standard deviation means that most of the numbers are close to the mean (average) value.\n",
    "\n",
    "A high standard deviation means that the values are spread out over a wider range."
   ]
  },
  {
   "cell_type": "code",
   "execution_count": 33,
   "metadata": {
    "id": "sDPKzN6FM2ea"
   },
   "outputs": [],
   "source": [
    "speed = [86,87,88,86,87,85,86]"
   ]
  },
  {
   "cell_type": "code",
   "execution_count": 34,
   "metadata": {
    "colab": {
     "base_uri": "https://localhost:8080/"
    },
    "id": "qgROj9h9NMEf",
    "outputId": "1dbbc2db-be98-4a5e-9109-b8fb222b8562"
   },
   "outputs": [
    {
     "name": "stdout",
     "output_type": "stream",
     "text": [
      "0.9035079029052513\n"
     ]
    }
   ],
   "source": [
    "import numpy\n",
    "\n",
    "speed = [86,87,88,86,87,85,86]\n",
    "\n",
    "x = numpy.std(speed)\n",
    "\n",
    "print(x)"
   ]
  },
  {
   "cell_type": "code",
   "execution_count": 35,
   "metadata": {
    "colab": {
     "base_uri": "https://localhost:8080/"
    },
    "id": "tAVVj8A9NRjL",
    "outputId": "7c80fedc-c57c-4276-e0f2-2b9d3ea86730"
   },
   "outputs": [
    {
     "name": "stdout",
     "output_type": "stream",
     "text": [
      "37.84501153334721\n"
     ]
    }
   ],
   "source": [
    "import numpy\n",
    "\n",
    "speed = [32,111,138,28,59,77,97]\n",
    "\n",
    "x = numpy.std(speed)\n",
    "\n",
    "print(x)"
   ]
  },
  {
   "cell_type": "code",
   "execution_count": 20,
   "metadata": {},
   "outputs": [
    {
     "name": "stdout",
     "output_type": "stream",
     "text": [
      "8164965809.27726\n",
      "1.0540925533894598\n"
     ]
    }
   ],
   "source": [
    "import numpy\n",
    "speed = [-10000000000,0,10000000000]\n",
    "x = numpy.std(speed)\n",
    "print(x)\n",
    "even = [2,3,3,4,5,2,3,5,3]\n",
    "x  = numpy.std(even)\n",
    "print(x)"
   ]
  },
  {
   "cell_type": "markdown",
   "metadata": {
    "id": "sbtN3t-LNehL"
   },
   "source": [
    "# Variance\n",
    "Variance is another number that indicates how spread out the values are.\n",
    "\n",
    "In fact, if you take the square root of the variance, you get the standard deviation!\n",
    "\n",
    "Or the other way around, if you multiply the standard deviation by itself, you get the variance!"
   ]
  },
  {
   "cell_type": "code",
   "execution_count": 24,
   "metadata": {
    "colab": {
     "base_uri": "https://localhost:8080/"
    },
    "id": "UzdYNAo1NVGf",
    "outputId": "99aed602-5586-45b7-d538-7faefc1fe288"
   },
   "outputs": [
    {
     "name": "stdout",
     "output_type": "stream",
     "text": [
      "Square root of Variance 37.84501153334721\n",
      "1432.2448979591834\n"
     ]
    }
   ],
   "source": [
    "import numpy\n",
    "\n",
    "speed = [32,111,138,28,59,77,97]\n",
    "\n",
    "x = numpy.var(speed)\n",
    "print(\"Square root of Variance\",numpy.sqrt(x))\n",
    "print(x)"
   ]
  },
  {
   "cell_type": "code",
   "execution_count": 23,
   "metadata": {
    "colab": {
     "base_uri": "https://localhost:8080/"
    },
    "id": "-5TvtzgDNmp9",
    "outputId": "cfde1477-dd90-483a-fdfb-e51281b6f103"
   },
   "outputs": [
    {
     "name": "stdout",
     "output_type": "stream",
     "text": [
      "37.84501153334721\n",
      "1432.2448979591834\n"
     ]
    }
   ],
   "source": [
    "import numpy\n",
    "\n",
    "speed = [32,111,138,28,59,77,97]\n",
    "\n",
    "x = numpy.std(speed)\n",
    "\n",
    "print(x)\n",
    "y = 37.84501153334721 * 37.84501153334721\n",
    "print(y)"
   ]
  },
  {
   "cell_type": "markdown",
   "metadata": {
    "id": "IwgQlRNKNu--"
   },
   "source": [
    "Standard Deviation is often represented by the symbol Sigma: σ\n",
    "\n",
    "Variance is often represented by the symbol Sigma Square: σ2\n",
    "\n"
   ]
  },
  {
   "cell_type": "code",
   "execution_count": null,
   "metadata": {
    "id": "vGsrpURmNq83"
   },
   "outputs": [],
   "source": []
  }
 ],
 "metadata": {
  "colab": {
   "name": "4.Python Basics.ipynb",
   "provenance": []
  },
  "kernelspec": {
   "display_name": "Python 3",
   "language": "python",
   "name": "python3"
  },
  "language_info": {
   "codemirror_mode": {
    "name": "ipython",
    "version": 3
   },
   "file_extension": ".py",
   "mimetype": "text/x-python",
   "name": "python",
   "nbconvert_exporter": "python",
   "pygments_lexer": "ipython3",
   "version": "3.7.3"
  }
 },
 "nbformat": 4,
 "nbformat_minor": 1
}
