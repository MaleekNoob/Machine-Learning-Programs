{
 "cells": [
  {
   "cell_type": "code",
   "execution_count": 1,
   "metadata": {},
   "outputs": [],
   "source": [
    "import pandas as pd\n",
    "import numpy as np\n",
    "from sklearn.feature_extraction.text import TfidfVectorizer\n",
    "from sklearn.model_selection import cross_validate\n",
    "from sklearn.linear_model import LogisticRegression\n",
    "from sklearn.svm import LinearSVC\n",
    "from sklearn.ensemble import RandomForestClassifier\n",
    "from sklearn.neural_network import MLPClassifier\n",
    "from sklearn.preprocessing import LabelEncoder\n",
    "import time\n",
    "import warnings\n",
    "warnings.filterwarnings('ignore')"
   ]
  },
  {
   "cell_type": "code",
   "execution_count": 2,
   "metadata": {},
   "outputs": [],
   "source": [
    "# Load and preprocess data\n",
    "def load_data(filepath):\n",
    "    df = pd.read_csv(filepath)\n",
    "    # Convert sentiment to numeric using LabelEncoder\n",
    "    le = LabelEncoder()\n",
    "    df['airline_sentiment'] = le.fit_transform(df['airline_sentiment'])\n",
    "    return df['text'], df['airline_sentiment']"
   ]
  },
  {
   "cell_type": "code",
   "execution_count": 3,
   "metadata": {},
   "outputs": [],
   "source": [
    "# Create different TF-IDF configurations\n",
    "def create_tfidf_configs():\n",
    "    configs = [\n",
    "        {'name': 'min_df_5', 'vectorizer': TfidfVectorizer(min_df=5)},\n",
    "        {'name': '2500_features', 'vectorizer': TfidfVectorizer(max_features=2500)},\n",
    "        {'name': '500_features', 'vectorizer': TfidfVectorizer(max_features=500)}\n",
    "    ]\n",
    "    return configs"
   ]
  },
  {
   "cell_type": "code",
   "execution_count": 4,
   "metadata": {},
   "outputs": [],
   "source": [
    "# Create classifiers\n",
    "def create_classifiers():\n",
    "    classifiers = [\n",
    "        {\n",
    "            'name': 'Logistic Regression',\n",
    "            'model': LogisticRegression(max_iter=1000, random_state=42)\n",
    "        },\n",
    "        {\n",
    "            'name': 'LinearSVC',\n",
    "            'model': LinearSVC(max_iter=1000, random_state=42)\n",
    "        },\n",
    "        {\n",
    "            'name': 'Random Forest',\n",
    "            'model': RandomForestClassifier(n_estimators=100, random_state=42)\n",
    "        },\n",
    "        {\n",
    "            'name': 'Neural Network',\n",
    "            'model': MLPClassifier(hidden_layer_sizes=(100,), max_iter=1000, random_state=42)\n",
    "        }\n",
    "    ]\n",
    "    return classifiers"
   ]
  },
  {
   "cell_type": "code",
   "execution_count": 5,
   "metadata": {},
   "outputs": [],
   "source": [
    "# Evaluate models using cross-validation\n",
    "def evaluate_model(model, X, y):\n",
    "    scoring = {\n",
    "        'accuracy': 'accuracy',\n",
    "        'f1_macro': 'f1_macro'\n",
    "    }\n",
    "    \n",
    "    scores = cross_validate(\n",
    "        model, X, y,\n",
    "        cv=5,\n",
    "        scoring=scoring,\n",
    "        return_train_score=False,\n",
    "        n_jobs=-1\n",
    "    )\n",
    "    \n",
    "    return {\n",
    "        'accuracy': scores['test_accuracy'].mean(),\n",
    "        'f1_score': scores['test_f1_macro'].mean(),\n",
    "        'fit_time': scores['fit_time'].mean()\n",
    "    }"
   ]
  },
  {
   "cell_type": "code",
   "execution_count": null,
   "metadata": {},
   "outputs": [],
   "source": [
    "X_text, y = load_data('Twitter_US_Airline_Sentiment.csv')"
   ]
  },
  {
   "cell_type": "code",
   "execution_count": null,
   "metadata": {},
   "outputs": [],
   "source": [
    "# Get configurations\n",
    "tfidf_configs = create_tfidf_configs()\n",
    "classifiers = create_classifiers()"
   ]
  },
  {
   "cell_type": "code",
   "execution_count": null,
   "metadata": {},
   "outputs": [],
   "source": [
    "# Store results\n",
    "results = []"
   ]
  },
  {
   "cell_type": "code",
   "execution_count": null,
   "metadata": {},
   "outputs": [],
   "source": [
    "# Run experiments\n",
    "for tfidf_config in tfidf_configs:\n",
    "    print(f\"\\nProcessing {tfidf_config['name']} configuration...\")\n",
    "    \n",
    "    # Transform text data\n",
    "    X = tfidf_config['vectorizer'].fit_transform(X_text)\n",
    "    \n",
    "    for clf in classifiers:\n",
    "        print(f\"Evaluating {clf['name']}...\")\n",
    "        \n",
    "        # Evaluate model\n",
    "        scores = evaluate_model(clf['model'], X, y)\n",
    "        \n",
    "        # Store results\n",
    "        results.append({\n",
    "            'TF-IDF Config': tfidf_config['name'],\n",
    "            'Classifier': clf['name'],\n",
    "            'Accuracy': scores['accuracy'],\n",
    "            'F1-Score': scores['f1_score'],\n",
    "            'Fit Time': scores['fit_time']\n",
    "        })"
   ]
  },
  {
   "cell_type": "code",
   "execution_count": null,
   "metadata": {},
   "outputs": [],
   "source": [
    "# Create results DataFrame\n",
    "results_df = pd.DataFrame(results)"
   ]
  },
  {
   "cell_type": "code",
   "execution_count": null,
   "metadata": {},
   "outputs": [],
   "source": [
    "# Display results\n",
    "print(\"\\nResults:\")\n",
    "print(results_df.to_string(index=False))"
   ]
  },
  {
   "cell_type": "code",
   "execution_count": null,
   "metadata": {},
   "outputs": [],
   "source": [
    "# Save results to CSV\n",
    "results_df.to_csv('sentiment_analysis_results.csv', index=False)\n",
    "print(\"\\nResults saved to 'sentiment_analysis_results.csv'\")"
   ]
  }
 ],
 "metadata": {
  "kernelspec": {
   "display_name": "Python 3",
   "language": "python",
   "name": "python3"
  },
  "language_info": {
   "codemirror_mode": {
    "name": "ipython",
    "version": 3
   },
   "file_extension": ".py",
   "mimetype": "text/x-python",
   "name": "python",
   "nbconvert_exporter": "python",
   "pygments_lexer": "ipython3",
   "version": "3.12.3"
  }
 },
 "nbformat": 4,
 "nbformat_minor": 2
}
