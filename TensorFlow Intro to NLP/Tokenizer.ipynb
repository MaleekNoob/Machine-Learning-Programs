{
 "cells": [
  {
   "cell_type": "code",
   "execution_count": 1,
   "metadata": {},
   "outputs": [],
   "source": [
    "import tensorflow as tf\n",
    "from tensorflow import keras\n",
    "from tensorflow.keras.preprocessing.text import Tokenizer"
   ]
  },
  {
   "cell_type": "code",
   "execution_count": 13,
   "metadata": {},
   "outputs": [],
   "source": [
    "from tensorflow.keras.preprocessing.sequence import pad_sequences"
   ]
  },
  {
   "cell_type": "code",
   "execution_count": 10,
   "metadata": {},
   "outputs": [],
   "source": [
    "chus = [\n",
    "    'Banda ghunnah kr le, banda EE na kry',\n",
    "    'Entire APS school felt better after Ahmed Bilal left',\n",
    "    'Banda neki kr le ya SE kr le'\n",
    "]\n",
    "\n",
    "tokenizer = Tokenizer(num_words=100, oov_token=\"<OOV>\")\n",
    "tokenizer.fit_on_texts(chus)\n",
    "word_index = tokenizer.word_index"
   ]
  },
  {
   "cell_type": "code",
   "execution_count": 17,
   "metadata": {},
   "outputs": [
    {
     "name": "stdout",
     "output_type": "stream",
     "text": [
      "{'<OOV>': 1, 'banda': 2, 'kr': 3, 'le': 4, 'ghunnah': 5, 'ee': 6, 'na': 7, 'kry': 8, 'entire': 9, 'aps': 10, 'school': 11, 'felt': 12, 'better': 13, 'after': 14, 'ahmed': 15, 'bilal': 16, 'left': 17, 'neki': 18, 'ya': 19, 'se': 20}\n",
      "[[2, 5, 3, 4, 2, 6, 7, 8], [9, 10, 11, 12, 13, 14, 15, 16, 17], [2, 18, 3, 4, 19, 20, 3, 4]]\n",
      "[[ 2  5  3  4  2]\n",
      " [ 9 10 11 12 13]\n",
      " [ 2 18  3  4 19]]\n"
     ]
    }
   ],
   "source": [
    "sequences = tokenizer.texts_to_sequences(chus)\n",
    "padded = pad_sequences(sequences, maxlen=5, padding='post', truncating='post')\n",
    "\n",
    "\n",
    "print(word_index)\n",
    "print(sequences)\n",
    "print(padded)"
   ]
  },
  {
   "cell_type": "code",
   "execution_count": 12,
   "metadata": {},
   "outputs": [
    {
     "name": "stdout",
     "output_type": "stream",
     "text": [
      "[[1, 1, 13, 1, 15, 16, 14, 1, 17, 10], [1, 18, 3, 4, 19, 5, 3, 4]]\n"
     ]
    }
   ],
   "source": [
    "test_sequences = [\n",
    "    'We are better than Ahmed Bilal after he left APS',\n",
    "    'Insan neki kr le ya ghunnah kr le'\n",
    "]\n",
    "\n",
    "test_seq_output = tokenizer.texts_to_sequences(test_sequences)\n",
    "print(test_seq_output)"
   ]
  }
 ],
 "metadata": {
  "kernelspec": {
   "display_name": "Python 3",
   "language": "python",
   "name": "python3"
  },
  "language_info": {
   "codemirror_mode": {
    "name": "ipython",
    "version": 3
   },
   "file_extension": ".py",
   "mimetype": "text/x-python",
   "name": "python",
   "nbconvert_exporter": "python",
   "pygments_lexer": "ipython3",
   "version": "3.10.11"
  }
 },
 "nbformat": 4,
 "nbformat_minor": 2
}
