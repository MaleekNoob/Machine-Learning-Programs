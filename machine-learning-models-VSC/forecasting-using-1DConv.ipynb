{
 "cells": [
  {
   "cell_type": "code",
   "execution_count": 1,
   "metadata": {},
   "outputs": [
    {
     "name": "stdout",
     "output_type": "stream",
     "text": [
      "WARNING:tensorflow:From C:\\Users\\STA Laptop\\AppData\\Local\\Packages\\PythonSoftwareFoundation.Python.3.10_qbz5n2kfra8p0\\LocalCache\\local-packages\\Python310\\site-packages\\keras\\src\\losses.py:2976: The name tf.losses.sparse_softmax_cross_entropy is deprecated. Please use tf.compat.v1.losses.sparse_softmax_cross_entropy instead.\n",
      "\n"
     ]
    }
   ],
   "source": [
    "import numpy as np\n",
    "import matplotlib.pyplot as plt\n",
    "import tensorflow.compat.v2 as tf\n",
    "tf.enable_v2_behavior()\n",
    "keras = tf.keras"
   ]
  },
  {
   "cell_type": "code",
   "execution_count": 2,
   "metadata": {},
   "outputs": [],
   "source": [
    "def plot_series(time, series, format=\"-\", start=0, end=None, label=None):\n",
    "    plt.plot(time[start:end], series[start:end], format, label=label)\n",
    "    plt.xlabel(\"Time\")\n",
    "    plt.ylabel(\"Value\")\n",
    "    if label:\n",
    "        plt.legend(fontsize=14)\n",
    "    plt.grid(True)\n",
    "\n",
    "\n",
    "def trend(time, slope=0):\n",
    "    return slope * time\n",
    "\n",
    "\n",
    "def sessional_pattern(season_time):\n",
    "    return np.where(season_time < 0.4,\n",
    "                    np.cos(season_time * 2 * np.pi),\n",
    "                    1 / np.exp(3 * season_time))\n",
    "\n",
    "\n",
    "def seasonality(time, period, amplitude=1, phase=0):\n",
    "    season_time = ((time + phase) % period) / period\n",
    "    return amplitude * sessional_pattern(season_time)\n",
    "\n",
    "\n",
    "def white_noise(time, noise_level=1, seed=None):\n",
    "    rnd = np.random.RandomState(seed)\n",
    "    return rnd.randn(len(time)) * noise_level\n",
    "\n",
    "\n",
    "time = np.arange(4 * 365 + 1)\n",
    "baseline = 10\n",
    "series = baseline + trend(time, 0.1)\n",
    "\n",
    "amplitude = 40\n",
    "series = seasonality(time, period=365, amplitude=amplitude)\n",
    "\n",
    "slope = 0.05\n",
    "series = baseline + trend(time, slope) + \\\n",
    "    seasonality(time, period=365, amplitude=amplitude)\n",
    "\n",
    "noise_level = 5\n",
    "noise = white_noise(time, noise_level, seed=42)\n",
    "\n",
    "series += noise"
   ]
  },
  {
   "cell_type": "code",
   "execution_count": 3,
   "metadata": {},
   "outputs": [],
   "source": [
    "def window_dataset(series, window_size, batch_size=32, shuffle_buffer=1000):\n",
    "    dataset = tf.data.Dataset.from_tensor_slices(series)\n",
    "    # shift=1 for stateless RNN\n",
    "    dataset = dataset.window(\n",
    "        window_size + 1, shift=window_size, drop_remainder=True)\n",
    "    dataset = dataset.flat_map(lambda window: window.batch(window_size + 1))\n",
    "    dataset = dataset.shuffle(shuffle_buffer)\n",
    "    dataset = dataset.map(lambda window: (window[:-1], window[-1:]))\n",
    "    # prefetch(1) for performance, batch(batch_size) for stateless RNN\n",
    "    dataset = dataset.batch(1).prefetch(1)\n",
    "    return dataset"
   ]
  },
  {
   "cell_type": "code",
   "execution_count": 4,
   "metadata": {},
   "outputs": [],
   "source": [
    "split_time = 1000\n",
    "time_train = time[:split_time]\n",
    "x_train = series[:split_time]\n",
    "time_valid = time[split_time:]\n",
    "x_valid = series[split_time:]"
   ]
  },
  {
   "cell_type": "code",
   "execution_count": 5,
   "metadata": {},
   "outputs": [],
   "source": [
    "class ResetStatesCallback(keras.callbacks.Callback):\n",
    "    def on_epoch_begin(self, epoch, logs):\n",
    "        self.model.reset_states()\n",
    "\n",
    "\n",
    "reset_states = ResetStatesCallback()"
   ]
  },
  {
   "cell_type": "code",
   "execution_count": 7,
   "metadata": {},
   "outputs": [
    {
     "name": "stdout",
     "output_type": "stream",
     "text": [
      "WARNING:tensorflow:From C:\\Users\\STA Laptop\\AppData\\Local\\Packages\\PythonSoftwareFoundation.Python.3.10_qbz5n2kfra8p0\\LocalCache\\local-packages\\Python310\\site-packages\\keras\\src\\backend.py:277: The name tf.reset_default_graph is deprecated. Please use tf.compat.v1.reset_default_graph instead.\n",
      "\n"
     ]
    },
    {
     "name": "stderr",
     "output_type": "stream",
     "text": [
      "WARNING:absl:`lr` is deprecated in Keras optimizer, please use `learning_rate` or use the legacy optimizer, e.g.,tf.keras.optimizers.legacy.SGD.\n"
     ]
    },
    {
     "name": "stdout",
     "output_type": "stream",
     "text": [
      "Epoch 1/100\n",
      "WARNING:tensorflow:From C:\\Users\\STA Laptop\\AppData\\Local\\Packages\\PythonSoftwareFoundation.Python.3.10_qbz5n2kfra8p0\\LocalCache\\local-packages\\Python310\\site-packages\\keras\\src\\utils\\tf_utils.py:492: The name tf.ragged.RaggedTensorValue is deprecated. Please use tf.compat.v1.ragged.RaggedTensorValue instead.\n",
      "\n"
     ]
    },
    {
     "name": "stderr",
     "output_type": "stream",
     "text": [
      "WARNING:tensorflow:From C:\\Users\\STA Laptop\\AppData\\Local\\Packages\\PythonSoftwareFoundation.Python.3.10_qbz5n2kfra8p0\\LocalCache\\local-packages\\Python310\\site-packages\\keras\\src\\utils\\tf_utils.py:492: The name tf.ragged.RaggedTensorValue is deprecated. Please use tf.compat.v1.ragged.RaggedTensorValue instead.\n",
      "\n"
     ]
    },
    {
     "name": "stdout",
     "output_type": "stream",
     "text": [
      "WARNING:tensorflow:From C:\\Users\\STA Laptop\\AppData\\Local\\Packages\\PythonSoftwareFoundation.Python.3.10_qbz5n2kfra8p0\\LocalCache\\local-packages\\Python310\\site-packages\\keras\\src\\engine\\base_layer_utils.py:384: The name tf.executing_eagerly_outside_functions is deprecated. Please use tf.compat.v1.executing_eagerly_outside_functions instead.\n",
      "\n"
     ]
    },
    {
     "name": "stderr",
     "output_type": "stream",
     "text": [
      "WARNING:tensorflow:From C:\\Users\\STA Laptop\\AppData\\Local\\Packages\\PythonSoftwareFoundation.Python.3.10_qbz5n2kfra8p0\\LocalCache\\local-packages\\Python310\\site-packages\\keras\\src\\engine\\base_layer_utils.py:384: The name tf.executing_eagerly_outside_functions is deprecated. Please use tf.compat.v1.executing_eagerly_outside_functions instead.\n",
      "\n"
     ]
    },
    {
     "name": "stdout",
     "output_type": "stream",
     "text": [
      "33/33 [==============================] - 18s 164ms/step - loss: 31.5980 - mae: 32.0943 - val_loss: 57.4478 - val_mae: 57.9478 - lr: 1.0000e-06\n",
      "Epoch 2/100\n"
     ]
    },
    {
     "name": "stderr",
     "output_type": "stream",
     "text": [
      "C:\\Users\\STA Laptop\\AppData\\Local\\Packages\\PythonSoftwareFoundation.Python.3.10_qbz5n2kfra8p0\\LocalCache\\local-packages\\Python310\\site-packages\\keras\\src\\engine\\training.py:3103: UserWarning: You are saving your model as an HDF5 file via `model.save()`. This file format is considered legacy. We recommend using instead the native Keras format, e.g. `model.save('my_model.keras')`.\n",
      "  saving_api.save_model(\n"
     ]
    },
    {
     "name": "stdout",
     "output_type": "stream",
     "text": [
      "33/33 [==============================] - 4s 112ms/step - loss: 25.7557 - mae: 26.2512 - val_loss: 17.3097 - val_mae: 17.8038 - lr: 1.0798e-06\n",
      "Epoch 3/100\n",
      "33/33 [==============================] - 4s 106ms/step - loss: 19.7830 - mae: 20.2764 - val_loss: 28.9467 - val_mae: 29.4465 - lr: 1.1659e-06\n",
      "Epoch 4/100\n",
      "33/33 [==============================] - 4s 118ms/step - loss: 18.8380 - mae: 19.3308 - val_loss: 31.8164 - val_mae: 32.3149 - lr: 1.2589e-06\n",
      "Epoch 5/100\n",
      "33/33 [==============================] - 4s 110ms/step - loss: 18.7781 - mae: 19.2723 - val_loss: 19.8763 - val_mae: 20.3762 - lr: 1.3594e-06\n",
      "Epoch 6/100\n",
      "33/33 [==============================] - 4s 112ms/step - loss: 20.7022 - mae: 21.1968 - val_loss: 17.8176 - val_mae: 18.3146 - lr: 1.4678e-06\n",
      "Epoch 7/100\n",
      "33/33 [==============================] - 4s 116ms/step - loss: 17.2170 - mae: 17.7126 - val_loss: 22.7605 - val_mae: 23.2592 - lr: 1.5849e-06\n",
      "Epoch 8/100\n",
      "33/33 [==============================] - 4s 106ms/step - loss: 17.2651 - mae: 17.7595 - val_loss: 11.5183 - val_mae: 12.0042 - lr: 1.7113e-06\n",
      "Epoch 9/100\n",
      "33/33 [==============================] - 4s 125ms/step - loss: 16.0489 - mae: 16.5403 - val_loss: 15.5807 - val_mae: 16.0797 - lr: 1.8478e-06\n",
      "Epoch 10/100\n",
      "33/33 [==============================] - 4s 115ms/step - loss: 13.6440 - mae: 14.1357 - val_loss: 11.7922 - val_mae: 12.2859 - lr: 1.9953e-06\n",
      "Epoch 11/100\n",
      "33/33 [==============================] - 3s 102ms/step - loss: 14.1475 - mae: 14.6366 - val_loss: 17.1371 - val_mae: 17.6353 - lr: 2.1544e-06\n",
      "Epoch 12/100\n",
      "33/33 [==============================] - 4s 116ms/step - loss: 15.0249 - mae: 15.5188 - val_loss: 18.7372 - val_mae: 19.2334 - lr: 2.3263e-06\n",
      "Epoch 13/100\n",
      "33/33 [==============================] - 5s 142ms/step - loss: 12.9184 - mae: 13.4124 - val_loss: 14.6620 - val_mae: 15.1597 - lr: 2.5119e-06\n",
      "Epoch 14/100\n",
      "33/33 [==============================] - 4s 134ms/step - loss: 13.5283 - mae: 14.0218 - val_loss: 11.4497 - val_mae: 11.9389 - lr: 2.7123e-06\n",
      "Epoch 15/100\n",
      "33/33 [==============================] - 4s 131ms/step - loss: 13.2437 - mae: 13.7370 - val_loss: 13.3046 - val_mae: 13.7956 - lr: 2.9286e-06\n",
      "Epoch 16/100\n",
      "33/33 [==============================] - 4s 127ms/step - loss: 13.2157 - mae: 13.7109 - val_loss: 12.6083 - val_mae: 13.0988 - lr: 3.1623e-06\n",
      "Epoch 17/100\n",
      "33/33 [==============================] - 4s 118ms/step - loss: 13.4059 - mae: 13.8985 - val_loss: 13.7972 - val_mae: 14.2913 - lr: 3.4145e-06\n",
      "Epoch 18/100\n",
      "33/33 [==============================] - 4s 124ms/step - loss: 13.3502 - mae: 13.8421 - val_loss: 13.1798 - val_mae: 13.6693 - lr: 3.6869e-06\n",
      "Epoch 19/100\n",
      "33/33 [==============================] - 4s 119ms/step - loss: 11.8268 - mae: 12.3186 - val_loss: 13.7354 - val_mae: 14.2294 - lr: 3.9811e-06\n",
      "Epoch 20/100\n",
      "33/33 [==============================] - 4s 108ms/step - loss: 11.0698 - mae: 11.5596 - val_loss: 13.4314 - val_mae: 13.9244 - lr: 4.2987e-06\n",
      "Epoch 21/100\n",
      "33/33 [==============================] - 4s 121ms/step - loss: 12.4079 - mae: 12.9023 - val_loss: 15.2665 - val_mae: 15.7586 - lr: 4.6416e-06\n",
      "Epoch 22/100\n",
      "33/33 [==============================] - 4s 108ms/step - loss: 13.3399 - mae: 13.8316 - val_loss: 16.9456 - val_mae: 17.4427 - lr: 5.0119e-06\n",
      "Epoch 23/100\n",
      "33/33 [==============================] - 14s 444ms/step - loss: 13.0437 - mae: 13.5353 - val_loss: 10.8090 - val_mae: 11.3005 - lr: 5.4117e-06\n",
      "Epoch 24/100\n",
      "33/33 [==============================] - 12s 385ms/step - loss: 13.7461 - mae: 14.2388 - val_loss: 10.7500 - val_mae: 11.2249 - lr: 5.8434e-06\n",
      "Epoch 25/100\n",
      "33/33 [==============================] - 4s 126ms/step - loss: 12.0568 - mae: 12.5485 - val_loss: 13.2927 - val_mae: 13.7821 - lr: 6.3096e-06\n",
      "Epoch 26/100\n",
      "33/33 [==============================] - 4s 125ms/step - loss: 11.3348 - mae: 11.8241 - val_loss: 10.6065 - val_mae: 11.1023 - lr: 6.8129e-06\n",
      "Epoch 27/100\n",
      "33/33 [==============================] - 4s 113ms/step - loss: 12.8203 - mae: 13.3111 - val_loss: 11.0942 - val_mae: 11.5912 - lr: 7.3564e-06\n",
      "Epoch 28/100\n",
      "33/33 [==============================] - 5s 152ms/step - loss: 13.0080 - mae: 13.5023 - val_loss: 10.8585 - val_mae: 11.3471 - lr: 7.9433e-06\n",
      "Epoch 29/100\n",
      "33/33 [==============================] - 4s 120ms/step - loss: 13.7631 - mae: 14.2540 - val_loss: 11.0259 - val_mae: 11.5035 - lr: 8.5770e-06\n",
      "Epoch 30/100\n",
      "33/33 [==============================] - 4s 110ms/step - loss: 10.9848 - mae: 11.4751 - val_loss: 16.8915 - val_mae: 17.3914 - lr: 9.2612e-06\n",
      "Epoch 31/100\n",
      "33/33 [==============================] - 4s 113ms/step - loss: 12.8782 - mae: 13.3698 - val_loss: 10.9120 - val_mae: 11.4032 - lr: 1.0000e-05\n",
      "Epoch 32/100\n",
      "33/33 [==============================] - 4s 115ms/step - loss: 11.6203 - mae: 12.1123 - val_loss: 10.5534 - val_mae: 11.0440 - lr: 1.0798e-05\n",
      "Epoch 33/100\n",
      "33/33 [==============================] - 4s 116ms/step - loss: 11.4262 - mae: 11.9160 - val_loss: 9.5302 - val_mae: 10.0155 - lr: 1.1659e-05\n",
      "Epoch 34/100\n",
      "33/33 [==============================] - 4s 109ms/step - loss: 12.7354 - mae: 13.2277 - val_loss: 14.4817 - val_mae: 14.9787 - lr: 1.2589e-05\n",
      "Epoch 35/100\n",
      "33/33 [==============================] - 4s 106ms/step - loss: 13.6474 - mae: 14.1406 - val_loss: 12.4788 - val_mae: 12.9729 - lr: 1.3594e-05\n",
      "Epoch 36/100\n",
      "33/33 [==============================] - 4s 114ms/step - loss: 11.0410 - mae: 11.5329 - val_loss: 11.3707 - val_mae: 11.8640 - lr: 1.4678e-05\n",
      "Epoch 37/100\n",
      "33/33 [==============================] - 4s 109ms/step - loss: 11.1419 - mae: 11.6341 - val_loss: 9.9505 - val_mae: 10.4261 - lr: 1.5849e-05\n",
      "Epoch 38/100\n",
      "33/33 [==============================] - 4s 107ms/step - loss: 17.6614 - mae: 18.1563 - val_loss: 44.6573 - val_mae: 45.1562 - lr: 1.7113e-05\n",
      "Epoch 39/100\n",
      "33/33 [==============================] - 4s 105ms/step - loss: 16.6447 - mae: 17.1358 - val_loss: 13.2598 - val_mae: 13.7526 - lr: 1.8478e-05\n",
      "Epoch 40/100\n",
      "33/33 [==============================] - 4s 108ms/step - loss: 20.2885 - mae: 20.7824 - val_loss: 46.1429 - val_mae: 46.6421 - lr: 1.9953e-05\n",
      "Epoch 41/100\n",
      "33/33 [==============================] - 3s 104ms/step - loss: 23.5094 - mae: 24.0051 - val_loss: 21.8303 - val_mae: 22.3303 - lr: 2.1544e-05\n",
      "Epoch 42/100\n",
      "33/33 [==============================] - 4s 108ms/step - loss: 17.2830 - mae: 17.7747 - val_loss: 29.8927 - val_mae: 30.3881 - lr: 2.3263e-05\n",
      "Epoch 43/100\n",
      "33/33 [==============================] - 4s 112ms/step - loss: 13.8409 - mae: 14.3336 - val_loss: 33.7552 - val_mae: 34.2552 - lr: 2.5119e-05\n"
     ]
    }
   ],
   "source": [
    "keras.backend.clear_session()\n",
    "tf.random.set_seed(42)\n",
    "np.random.seed(42)\n",
    "\n",
    "window_size = 30\n",
    "batch_size = 128\n",
    "train_set = window_dataset(x_train, window_size, batch_size=batch_size)\n",
    "valid_set = window_dataset(x_valid, window_size, batch_size=batch_size)\n",
    "\n",
    "model = keras.models.Sequential([\n",
    "    keras.layers.Conv1D(32, kernel_size=5, padding=\"causal\",\n",
    "                                    activation=\"relu\",\n",
    "                                    input_shape=[None, 1]),\n",
    "    keras.layers.LSTM(100, return_sequences=True,\n",
    "                      dropout=0.2, recurrent_dropout=0.2,),  # batch_input_shape for stateful RNN\n",
    "    keras.layers.LSTM(100, return_sequences=True,\n",
    "                      dropout=0.2, recurrent_dropout=0.2),\n",
    "    keras.layers.Dense(1),\n",
    "    keras.layers.Lambda(lambda x: x * 200.0)\n",
    "])\n",
    "\n",
    "lr_schedule = keras.callbacks.LearningRateScheduler(\n",
    "    lambda epoch: 1e-6 * 10**(epoch / 30))\n",
    "early_stopping = keras.callbacks.EarlyStopping(patience=10)\n",
    "optimizer = keras.optimizers.SGD(lr=1e-5, momentum=0.9)\n",
    "model.compile(loss=keras.losses.Huber(),\n",
    "              optimizer=optimizer,\n",
    "              metrics=[\"mae\"])\n",
    "\n",
    "model_checkpoint = keras.callbacks.ModelCheckpoint(\n",
    "    \"my_checkpoint.h5\", save_best_only=True)\n",
    "\n",
    "history = model.fit(train_set, epochs=100,\n",
    "                    validation_data=valid_set,\n",
    "                    callbacks=[lr_schedule, early_stopping, model_checkpoint, reset_states])"
   ]
  },
  {
   "cell_type": "code",
   "execution_count": 8,
   "metadata": {},
   "outputs": [
    {
     "data": {
      "text/plain": [
       "(1e-06, 0.001, 0.0, 30.0)"
      ]
     },
     "execution_count": 8,
     "metadata": {},
     "output_type": "execute_result"
    },
    {
     "data": {
      "image/png": "[encoded data removed]",
      "text/plain": [
       "<Figure size 640x480 with 1 Axes>"
      ]
     },
     "metadata": {},
     "output_type": "display_data"
    }
   ],
   "source": [
    "plt.semilogx(history.history[\"lr\"], history.history[\"loss\"])\n",
    "plt.axis([1e-6, 1e-3, 0, 30])"
   ]
  }
 ],
 "metadata": {
  "kernelspec": {
   "display_name": "Python 3",
   "language": "python",
   "name": "python3"
  },
  "language_info": {
   "codemirror_mode": {
    "name": "ipython",
    "version": 3
   },
   "file_extension": ".py",
   "mimetype": "text/x-python",
   "name": "python",
   "nbconvert_exporter": "python",
   "pygments_lexer": "ipython3",
   "version": "3.10.11"
  }
 },
 "nbformat": 4,
 "nbformat_minor": 2
}
