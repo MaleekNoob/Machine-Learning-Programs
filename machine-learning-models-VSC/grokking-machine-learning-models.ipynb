{
 "cells": [
  {
   "cell_type": "code",
   "execution_count": null,
   "metadata": {},
   "outputs": [],
   "source": [
    "# Stochastic Gradient desent\n",
    "\n",
    "import random\n",
    "import numpy as np\n",
    "\n",
    "def square_trick(base_price, price_per_room, num_rooms, price,learning_rate):\n",
    "    \n",
    "    predicted_price = base_price + (price_per_room * num_rooms)\n",
    "\n",
    "    price_per_room += learning_rate * (price - predicted_price)\n",
    "    base_price += learning_rate * (price - predicted_price)\n",
    "\n",
    "    return price_per_room, base_price\n",
    "\n",
    "feature = np.array([1,2,3,5,6,7])\n",
    "label = np.array([155, 197, 244, 356, 407, 448])\n",
    "\n",
    "model_weight = random.random()\n",
    "model_bias = random.random()\n",
    "for i in range(1000):\n",
    "    index = random.randint(0, len(feature) - 1)\n",
    "    train_feature = feature[index]\n",
    "    train_label = label[index]\n",
    "    model_weight, model_bias = square_trick(model_bias, model_weight, train_feature, train_label, 0.01)\n",
    "\n",
    "print(\"Weight: \", model_weight, \" \\nBias: \", model_bias)\n",
    "\n",
    "rooms = 1\n",
    "print(\"Predicted house price is \", model_weight * rooms + model_bias)\n"
   ]
  },
  {
   "cell_type": "code",
   "execution_count": null,
   "metadata": {},
   "outputs": [],
   "source": [
    "# Logistic Classifier\n",
    "\n",
    "import random\n",
    "\n",
    "def derivative(bias, weight, feature, label, learning_rate):\n",
    "    prediction = bias + weight * feature\n",
    "    if label == 1 and prediction < 1:\n",
    "        bias += learning_rate\n",
    "        weight += learning_rate * feature\n",
    "    elif label == 0 and prediction >= 0:\n",
    "        bias -= learning_rate\n",
    "        weight -= learning_rate * feature\n",
    "    return bias, weight\n",
    "\n",
    "def logisitic_classifier(feature, label, learning_rate):\n",
    "    weight = random.random()\n",
    "    bias = random.random()\n",
    "    for i in range(1000):\n",
    "        index = random.randint(0, len(feature) - 1)\n",
    "        train_feature = feature[index]\n",
    "        train_label = label[index]\n",
    "        weight, bias = derivative(bias, weight, train_feature, train_label, learning_rate)\n",
    "    return weight, bias\n",
    "\n",
    "def softmax(x):\n",
    "    return np.exp(x) / np.sum(np.exp(x), axis=0)\n",
    "\n",
    "def log_loss(probability, label):\n",
    "    return -label * np.log(probability) - (1 - label) * np.log(1 - probability)\n",
    "\n",
    "feature = np.array([1, 0], [0, 0], [4, 3], [2, 1], [1, 1], [3, 2])\n",
    "label = np.array([1, 0, 1, 0, 1, 1])"
   ]
  },
  {
   "cell_type": "code",
   "execution_count": 5,
   "metadata": {},
   "outputs": [
    {
     "name": "stdout",
     "output_type": "stream",
     "text": [
      "0.09914121515654895\n",
      "0.7305677552609643\n"
     ]
    }
   ],
   "source": [
    "import random\n",
    "import numpy as np\n",
    "\n",
    "def logistic_classifier_algorithm(features, labels, learning_rate, epochs):\n",
    "    weights = []\n",
    "    for i in range(len(features[0])):\n",
    "        weights.append(random.random())\n",
    "    bias = random.random()\n",
    "\n",
    "    for i in range(epochs):\n",
    "        for j in range(len(features[0])):\n",
    "            pred += weights[j] * features[i][j]\n",
    "\n",
    "\n",
    "feature = np.array([[1, 0], [0, 0], [4, 3], [2, 1], [1, 1], [3, 2]])\n",
    "label = np.array([1, 0, 1, 0, 1, 1])\n",
    "\n",
    "logistic_classifier_algorithm(feature, label, 0.1, 5)"
   ]
  }
 ],
 "metadata": {
  "kernelspec": {
   "display_name": "Python 3",
   "language": "python",
   "name": "python3"
  },
  "language_info": {
   "codemirror_mode": {
    "name": "ipython",
    "version": 3
   },
   "file_extension": ".py",
   "mimetype": "text/x-python",
   "name": "python",
   "nbconvert_exporter": "python",
   "pygments_lexer": "ipython3",
   "version": "3.10.11"
  },
  "orig_nbformat": 4
 },
 "nbformat": 4,
 "nbformat_minor": 2
}
